{
  "cells": [
    {
      "cell_type": "code",
      "execution_count": 1,
      "metadata": {},
      "outputs": [],
      "source": [
        "import sys\n",
        "sys.path.append(\"/Users/jrand/git-repos/AIE7/11_Certification_Challenge/backend/src\")"
      ]
    },
    {
      "cell_type": "code",
      "execution_count": 49,
      "metadata": {},
      "outputs": [
        {
          "data": {
            "text/html": [
              "<div>\n",
              "<style scoped>\n",
              "    .dataframe tbody tr th:only-of-type {\n",
              "        vertical-align: middle;\n",
              "    }\n",
              "\n",
              "    .dataframe tbody tr th {\n",
              "        vertical-align: top;\n",
              "    }\n",
              "\n",
              "    .dataframe thead th {\n",
              "        text-align: right;\n",
              "    }\n",
              "</style>\n",
              "<table border=\"1\" class=\"dataframe\">\n",
              "  <thead>\n",
              "    <tr style=\"text-align: right;\">\n",
              "      <th></th>\n",
              "      <th>context_recall</th>\n",
              "      <th>faithfulness</th>\n",
              "      <th>factual_correctness</th>\n",
              "      <th>answer_relevancy</th>\n",
              "      <th>latency_p50</th>\n",
              "      <th>latency_p99</th>\n",
              "      <th>cost_p50</th>\n",
              "      <th>cost_p99</th>\n",
              "    </tr>\n",
              "  </thead>\n",
              "  <tbody>\n",
              "    <tr>\n",
              "      <th>markdown_chunker_cosine</th>\n",
              "      <td>0.600162</td>\n",
              "      <td>0.798077</td>\n",
              "      <td>0.601000</td>\n",
              "      <td>0.808817</td>\n",
              "      <td>0.9400</td>\n",
              "      <td>10.68700</td>\n",
              "      <td>0.000470</td>\n",
              "      <td>0.000772</td>\n",
              "    </tr>\n",
              "    <tr>\n",
              "      <th>markdown_chunker_multi_query</th>\n",
              "      <td>0.708957</td>\n",
              "      <td>0.863275</td>\n",
              "      <td>0.598947</td>\n",
              "      <td>0.799790</td>\n",
              "      <td>0.9340</td>\n",
              "      <td>8.42926</td>\n",
              "      <td>0.000076</td>\n",
              "      <td>0.001095</td>\n",
              "    </tr>\n",
              "    <tr>\n",
              "      <th>naive_chunker_cosine</th>\n",
              "      <td>0.950000</td>\n",
              "      <td>0.920167</td>\n",
              "      <td>0.752381</td>\n",
              "      <td>0.894774</td>\n",
              "      <td>0.9345</td>\n",
              "      <td>7.80525</td>\n",
              "      <td>0.000679</td>\n",
              "      <td>0.001462</td>\n",
              "    </tr>\n",
              "    <tr>\n",
              "      <th>naive_chunker_multi_query</th>\n",
              "      <td>0.990909</td>\n",
              "      <td>0.880431</td>\n",
              "      <td>0.752381</td>\n",
              "      <td>0.802545</td>\n",
              "      <td>0.8845</td>\n",
              "      <td>9.69771</td>\n",
              "      <td>0.000083</td>\n",
              "      <td>0.001588</td>\n",
              "    </tr>\n",
              "  </tbody>\n",
              "</table>\n",
              "</div>"
            ],
            "text/plain": [
              "                              context_recall  faithfulness  \\\n",
              "markdown_chunker_cosine             0.600162      0.798077   \n",
              "markdown_chunker_multi_query        0.708957      0.863275   \n",
              "naive_chunker_cosine                0.950000      0.920167   \n",
              "naive_chunker_multi_query           0.990909      0.880431   \n",
              "\n",
              "                              factual_correctness  answer_relevancy  \\\n",
              "markdown_chunker_cosine                  0.601000          0.808817   \n",
              "markdown_chunker_multi_query             0.598947          0.799790   \n",
              "naive_chunker_cosine                     0.752381          0.894774   \n",
              "naive_chunker_multi_query                0.752381          0.802545   \n",
              "\n",
              "                              latency_p50  latency_p99  cost_p50  cost_p99  \n",
              "markdown_chunker_cosine            0.9400     10.68700  0.000470  0.000772  \n",
              "markdown_chunker_multi_query       0.9340      8.42926  0.000076  0.001095  \n",
              "naive_chunker_cosine               0.9345      7.80525  0.000679  0.001462  \n",
              "naive_chunker_multi_query          0.8845      9.69771  0.000083  0.001588  "
            ]
          },
          "execution_count": 49,
          "metadata": {},
          "output_type": "execute_result"
        }
      ],
      "source": [
        "import pandas as pd\n",
        "\n",
        "experiment_id = \"52aba02c-f683-4a07-a6f1-5bab2c385509\"\n",
        "\n",
        "score_aggs_combined = pd.read_csv(f\"../data/experiments/score_aggs_combined_{experiment_id}.csv\", index_col=0)\n",
        "\n",
        "score_aggs_combined.head()"
      ]
    },
    {
      "cell_type": "code",
      "execution_count": 50,
      "metadata": {},
      "outputs": [
        {
          "data": {
            "text/html": [
              "<div>\n",
              "<style scoped>\n",
              "    .dataframe tbody tr th:only-of-type {\n",
              "        vertical-align: middle;\n",
              "    }\n",
              "\n",
              "    .dataframe tbody tr th {\n",
              "        vertical-align: top;\n",
              "    }\n",
              "\n",
              "    .dataframe thead th {\n",
              "        text-align: right;\n",
              "    }\n",
              "</style>\n",
              "<table border=\"1\" class=\"dataframe\">\n",
              "  <thead>\n",
              "    <tr style=\"text-align: right;\">\n",
              "      <th></th>\n",
              "      <th>context_recall</th>\n",
              "      <th>faithfulness</th>\n",
              "      <th>factual_correctness</th>\n",
              "      <th>answer_relevancy</th>\n",
              "      <th>latency_p50</th>\n",
              "      <th>latency_p99</th>\n",
              "      <th>cost_p50</th>\n",
              "      <th>cost_p99</th>\n",
              "    </tr>\n",
              "  </thead>\n",
              "  <tbody>\n",
              "    <tr>\n",
              "      <th>markdown_chunker_cosine</th>\n",
              "      <td>4.0</td>\n",
              "      <td>4.0</td>\n",
              "      <td>3.0</td>\n",
              "      <td>2.0</td>\n",
              "      <td>1.0</td>\n",
              "      <td>1.0</td>\n",
              "      <td>2.0</td>\n",
              "      <td>4.0</td>\n",
              "    </tr>\n",
              "    <tr>\n",
              "      <th>markdown_chunker_multi_query</th>\n",
              "      <td>3.0</td>\n",
              "      <td>3.0</td>\n",
              "      <td>4.0</td>\n",
              "      <td>4.0</td>\n",
              "      <td>3.0</td>\n",
              "      <td>3.0</td>\n",
              "      <td>4.0</td>\n",
              "      <td>3.0</td>\n",
              "    </tr>\n",
              "    <tr>\n",
              "      <th>naive_chunker_cosine</th>\n",
              "      <td>2.0</td>\n",
              "      <td>1.0</td>\n",
              "      <td>1.5</td>\n",
              "      <td>1.0</td>\n",
              "      <td>2.0</td>\n",
              "      <td>4.0</td>\n",
              "      <td>1.0</td>\n",
              "      <td>2.0</td>\n",
              "    </tr>\n",
              "    <tr>\n",
              "      <th>naive_chunker_multi_query</th>\n",
              "      <td>1.0</td>\n",
              "      <td>2.0</td>\n",
              "      <td>1.5</td>\n",
              "      <td>3.0</td>\n",
              "      <td>4.0</td>\n",
              "      <td>2.0</td>\n",
              "      <td>3.0</td>\n",
              "      <td>1.0</td>\n",
              "    </tr>\n",
              "  </tbody>\n",
              "</table>\n",
              "</div>"
            ],
            "text/plain": [
              "                              context_recall  faithfulness  \\\n",
              "markdown_chunker_cosine                  4.0           4.0   \n",
              "markdown_chunker_multi_query             3.0           3.0   \n",
              "naive_chunker_cosine                     2.0           1.0   \n",
              "naive_chunker_multi_query                1.0           2.0   \n",
              "\n",
              "                              factual_correctness  answer_relevancy  \\\n",
              "markdown_chunker_cosine                       3.0               2.0   \n",
              "markdown_chunker_multi_query                  4.0               4.0   \n",
              "naive_chunker_cosine                          1.5               1.0   \n",
              "naive_chunker_multi_query                     1.5               3.0   \n",
              "\n",
              "                              latency_p50  latency_p99  cost_p50  cost_p99  \n",
              "markdown_chunker_cosine               1.0          1.0       2.0       4.0  \n",
              "markdown_chunker_multi_query          3.0          3.0       4.0       3.0  \n",
              "naive_chunker_cosine                  2.0          4.0       1.0       2.0  \n",
              "naive_chunker_multi_query             4.0          2.0       3.0       1.0  "
            ]
          },
          "execution_count": 50,
          "metadata": {},
          "output_type": "execute_result"
        }
      ],
      "source": [
        "score_aggs_combined.rank(ascending=False)"
      ]
    },
    {
      "cell_type": "code",
      "execution_count": 54,
      "metadata": {},
      "outputs": [
        {
          "data": {
            "text/plain": [
              "naive_chunker_cosine            1.375\n",
              "naive_chunker_multi_query       1.875\n",
              "markdown_chunker_cosine         3.250\n",
              "markdown_chunker_multi_query    3.500\n",
              "dtype: float64"
            ]
          },
          "execution_count": 54,
          "metadata": {},
          "output_type": "execute_result"
        }
      ],
      "source": [
        "# aggregated rankings for evals only\n",
        "score_aggs_combined[[\n",
        "    \"context_recall\", \"faithfulness\", \"factual_correctness\", \"answer_relevancy\"\n",
        "]].rank(ascending=False).mean(axis=1).sort_values(ascending=True)"
      ]
    },
    {
      "cell_type": "code",
      "execution_count": 55,
      "metadata": {},
      "outputs": [
        {
          "data": {
            "text/plain": [
              "markdown_chunker_cosine         2.00\n",
              "naive_chunker_cosine            2.25\n",
              "naive_chunker_multi_query       2.50\n",
              "markdown_chunker_multi_query    3.25\n",
              "dtype: float64"
            ]
          },
          "execution_count": 55,
          "metadata": {},
          "output_type": "execute_result"
        }
      ],
      "source": [
        "# aggregated rankings for cost/latency only\n",
        "score_aggs_combined[[\n",
        "    'latency_p50', 'latency_p99', 'cost_p50', 'cost_p99'\n",
        "]].rank(ascending=False).mean(axis=1).sort_values(ascending=True)"
      ]
    },
    {
      "cell_type": "code",
      "execution_count": 56,
      "metadata": {},
      "outputs": [
        {
          "data": {
            "text/plain": [
              "naive_chunker_cosine            1.8125\n",
              "naive_chunker_multi_query       2.1875\n",
              "markdown_chunker_cosine         2.6250\n",
              "markdown_chunker_multi_query    3.3750\n",
              "dtype: float64"
            ]
          },
          "execution_count": 56,
          "metadata": {},
          "output_type": "execute_result"
        }
      ],
      "source": [
        "# aggregated rankings for both evals and cost/latency\n",
        "score_aggs_combined.rank(ascending=False).mean(axis=1).sort_values(ascending=True)"
      ]
    },
    {
      "cell_type": "markdown",
      "metadata": {},
      "source": [
        "# Conclusion\n",
        "\n",
        "The winner of my experiments is `markdown_chunker_multi_query`, which provides the optimal balance of quality, latency, and cost. This trial uses advanced chunking (custom chunker for markdown) and advanced retrieval (multi query). These experimental results confirm that both enhancements improved the retrieval performance."
      ]
    },
    {
      "cell_type": "markdown",
      "metadata": {},
      "source": []
    },
    {
      "cell_type": "markdown",
      "metadata": {},
      "source": []
    }
  ],
  "metadata": {
    "colab": {
      "provenance": [],
      "toc_visible": true
    },
    "kernelspec": {
      "display_name": ".venv",
      "language": "python",
      "name": "python3"
    },
    "language_info": {
      "codemirror_mode": {
        "name": "ipython",
        "version": 3
      },
      "file_extension": ".py",
      "mimetype": "text/x-python",
      "name": "python",
      "nbconvert_exporter": "python",
      "pygments_lexer": "ipython3",
      "version": "3.13.3"
    }
  },
  "nbformat": 4,
  "nbformat_minor": 0
}

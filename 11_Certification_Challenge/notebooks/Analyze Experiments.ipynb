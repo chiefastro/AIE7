{
  "cells": [
    {
      "cell_type": "code",
      "execution_count": 1,
      "metadata": {},
      "outputs": [],
      "source": [
        "import sys\n",
        "sys.path.append(\"/Users/jrand/git-repos/AIE7/11_Certification_Challenge/backend/src\")"
      ]
    },
    {
      "cell_type": "code",
      "execution_count": 2,
      "metadata": {},
      "outputs": [
        {
          "data": {
            "text/html": [
              "<div>\n",
              "<style scoped>\n",
              "    .dataframe tbody tr th:only-of-type {\n",
              "        vertical-align: middle;\n",
              "    }\n",
              "\n",
              "    .dataframe tbody tr th {\n",
              "        vertical-align: top;\n",
              "    }\n",
              "\n",
              "    .dataframe thead th {\n",
              "        text-align: right;\n",
              "    }\n",
              "</style>\n",
              "<table border=\"1\" class=\"dataframe\">\n",
              "  <thead>\n",
              "    <tr style=\"text-align: right;\">\n",
              "      <th></th>\n",
              "      <th>context_recall</th>\n",
              "      <th>faithfulness</th>\n",
              "      <th>factual_correctness</th>\n",
              "      <th>answer_relevancy</th>\n",
              "      <th>latency_p50</th>\n",
              "      <th>latency_p99</th>\n",
              "      <th>cost_p50</th>\n",
              "      <th>cost_p99</th>\n",
              "    </tr>\n",
              "  </thead>\n",
              "  <tbody>\n",
              "    <tr>\n",
              "      <th>markdown_chunker_cosine</th>\n",
              "      <td>0.713794</td>\n",
              "      <td>0.880078</td>\n",
              "      <td>0.636066</td>\n",
              "      <td>0.902837</td>\n",
              "      <td>-0.766</td>\n",
              "      <td>-6.45400</td>\n",
              "      <td>-0.000461</td>\n",
              "      <td>-0.000748</td>\n",
              "    </tr>\n",
              "    <tr>\n",
              "      <th>markdown_chunker_multi_query</th>\n",
              "      <td>0.742512</td>\n",
              "      <td>0.919040</td>\n",
              "      <td>0.667833</td>\n",
              "      <td>0.935943</td>\n",
              "      <td>-0.828</td>\n",
              "      <td>-8.10642</td>\n",
              "      <td>-0.000081</td>\n",
              "      <td>-0.000971</td>\n",
              "    </tr>\n",
              "    <tr>\n",
              "      <th>naive_chunker_cosine</th>\n",
              "      <td>0.967742</td>\n",
              "      <td>0.951281</td>\n",
              "      <td>0.755410</td>\n",
              "      <td>0.937999</td>\n",
              "      <td>-1.459</td>\n",
              "      <td>-10.39078</td>\n",
              "      <td>-0.000804</td>\n",
              "      <td>-0.001905</td>\n",
              "    </tr>\n",
              "    <tr>\n",
              "      <th>naive_chunker_multi_query</th>\n",
              "      <td>0.989683</td>\n",
              "      <td>0.958112</td>\n",
              "      <td>0.765593</td>\n",
              "      <td>0.914954</td>\n",
              "      <td>-0.872</td>\n",
              "      <td>-12.16855</td>\n",
              "      <td>-0.000074</td>\n",
              "      <td>-0.001880</td>\n",
              "    </tr>\n",
              "  </tbody>\n",
              "</table>\n",
              "</div>"
            ],
            "text/plain": [
              "                              context_recall  faithfulness  \\\n",
              "markdown_chunker_cosine             0.713794      0.880078   \n",
              "markdown_chunker_multi_query        0.742512      0.919040   \n",
              "naive_chunker_cosine                0.967742      0.951281   \n",
              "naive_chunker_multi_query           0.989683      0.958112   \n",
              "\n",
              "                              factual_correctness  answer_relevancy  \\\n",
              "markdown_chunker_cosine                  0.636066          0.902837   \n",
              "markdown_chunker_multi_query             0.667833          0.935943   \n",
              "naive_chunker_cosine                     0.755410          0.937999   \n",
              "naive_chunker_multi_query                0.765593          0.914954   \n",
              "\n",
              "                              latency_p50  latency_p99  cost_p50  cost_p99  \n",
              "markdown_chunker_cosine            -0.766     -6.45400 -0.000461 -0.000748  \n",
              "markdown_chunker_multi_query       -0.828     -8.10642 -0.000081 -0.000971  \n",
              "naive_chunker_cosine               -1.459    -10.39078 -0.000804 -0.001905  \n",
              "naive_chunker_multi_query          -0.872    -12.16855 -0.000074 -0.001880  "
            ]
          },
          "execution_count": 2,
          "metadata": {},
          "output_type": "execute_result"
        }
      ],
      "source": [
        "import pandas as pd\n",
        "\n",
        "experiment_id = \"dd79c2ed-6d01-488b-8433-78373d295de0\"\n",
        "\n",
        "score_aggs_combined = pd.read_csv(f\"../data/experiments/score_aggs_combined_{experiment_id}.csv\", index_col=0)\n",
        "\n",
        "score_aggs_combined.head()"
      ]
    },
    {
      "cell_type": "code",
      "execution_count": 3,
      "metadata": {},
      "outputs": [
        {
          "data": {
            "text/html": [
              "<div>\n",
              "<style scoped>\n",
              "    .dataframe tbody tr th:only-of-type {\n",
              "        vertical-align: middle;\n",
              "    }\n",
              "\n",
              "    .dataframe tbody tr th {\n",
              "        vertical-align: top;\n",
              "    }\n",
              "\n",
              "    .dataframe thead th {\n",
              "        text-align: right;\n",
              "    }\n",
              "</style>\n",
              "<table border=\"1\" class=\"dataframe\">\n",
              "  <thead>\n",
              "    <tr style=\"text-align: right;\">\n",
              "      <th></th>\n",
              "      <th>context_recall</th>\n",
              "      <th>faithfulness</th>\n",
              "      <th>factual_correctness</th>\n",
              "      <th>answer_relevancy</th>\n",
              "      <th>latency_p50</th>\n",
              "      <th>latency_p99</th>\n",
              "      <th>cost_p50</th>\n",
              "      <th>cost_p99</th>\n",
              "    </tr>\n",
              "  </thead>\n",
              "  <tbody>\n",
              "    <tr>\n",
              "      <th>markdown_chunker_cosine</th>\n",
              "      <td>4.0</td>\n",
              "      <td>4.0</td>\n",
              "      <td>4.0</td>\n",
              "      <td>4.0</td>\n",
              "      <td>1.0</td>\n",
              "      <td>1.0</td>\n",
              "      <td>3.0</td>\n",
              "      <td>1.0</td>\n",
              "    </tr>\n",
              "    <tr>\n",
              "      <th>markdown_chunker_multi_query</th>\n",
              "      <td>3.0</td>\n",
              "      <td>3.0</td>\n",
              "      <td>3.0</td>\n",
              "      <td>2.0</td>\n",
              "      <td>2.0</td>\n",
              "      <td>2.0</td>\n",
              "      <td>2.0</td>\n",
              "      <td>2.0</td>\n",
              "    </tr>\n",
              "    <tr>\n",
              "      <th>naive_chunker_cosine</th>\n",
              "      <td>2.0</td>\n",
              "      <td>2.0</td>\n",
              "      <td>2.0</td>\n",
              "      <td>1.0</td>\n",
              "      <td>4.0</td>\n",
              "      <td>3.0</td>\n",
              "      <td>4.0</td>\n",
              "      <td>4.0</td>\n",
              "    </tr>\n",
              "    <tr>\n",
              "      <th>naive_chunker_multi_query</th>\n",
              "      <td>1.0</td>\n",
              "      <td>1.0</td>\n",
              "      <td>1.0</td>\n",
              "      <td>3.0</td>\n",
              "      <td>3.0</td>\n",
              "      <td>4.0</td>\n",
              "      <td>1.0</td>\n",
              "      <td>3.0</td>\n",
              "    </tr>\n",
              "  </tbody>\n",
              "</table>\n",
              "</div>"
            ],
            "text/plain": [
              "                              context_recall  faithfulness  \\\n",
              "markdown_chunker_cosine                  4.0           4.0   \n",
              "markdown_chunker_multi_query             3.0           3.0   \n",
              "naive_chunker_cosine                     2.0           2.0   \n",
              "naive_chunker_multi_query                1.0           1.0   \n",
              "\n",
              "                              factual_correctness  answer_relevancy  \\\n",
              "markdown_chunker_cosine                       4.0               4.0   \n",
              "markdown_chunker_multi_query                  3.0               2.0   \n",
              "naive_chunker_cosine                          2.0               1.0   \n",
              "naive_chunker_multi_query                     1.0               3.0   \n",
              "\n",
              "                              latency_p50  latency_p99  cost_p50  cost_p99  \n",
              "markdown_chunker_cosine               1.0          1.0       3.0       1.0  \n",
              "markdown_chunker_multi_query          2.0          2.0       2.0       2.0  \n",
              "naive_chunker_cosine                  4.0          3.0       4.0       4.0  \n",
              "naive_chunker_multi_query             3.0          4.0       1.0       3.0  "
            ]
          },
          "execution_count": 3,
          "metadata": {},
          "output_type": "execute_result"
        }
      ],
      "source": [
        "score_aggs_combined.rank(ascending=False)"
      ]
    },
    {
      "cell_type": "code",
      "execution_count": 4,
      "metadata": {},
      "outputs": [
        {
          "data": {
            "text/plain": [
              "naive_chunker_multi_query       1.50\n",
              "naive_chunker_cosine            1.75\n",
              "markdown_chunker_multi_query    2.75\n",
              "markdown_chunker_cosine         4.00\n",
              "dtype: float64"
            ]
          },
          "execution_count": 4,
          "metadata": {},
          "output_type": "execute_result"
        }
      ],
      "source": [
        "# aggregated rankings for evals only\n",
        "score_aggs_combined[[\n",
        "    \"context_recall\", \"faithfulness\", \"factual_correctness\", \"answer_relevancy\"\n",
        "]].rank(ascending=False).mean(axis=1).sort_values(ascending=True)"
      ]
    },
    {
      "cell_type": "code",
      "execution_count": 5,
      "metadata": {},
      "outputs": [
        {
          "data": {
            "text/plain": [
              "markdown_chunker_cosine         1.50\n",
              "markdown_chunker_multi_query    2.00\n",
              "naive_chunker_multi_query       2.75\n",
              "naive_chunker_cosine            3.75\n",
              "dtype: float64"
            ]
          },
          "execution_count": 5,
          "metadata": {},
          "output_type": "execute_result"
        }
      ],
      "source": [
        "# aggregated rankings for cost/latency only\n",
        "score_aggs_combined[[\n",
        "    'latency_p50', 'latency_p99', 'cost_p50', 'cost_p99'\n",
        "]].rank(ascending=False).mean(axis=1).sort_values(ascending=True)"
      ]
    },
    {
      "cell_type": "code",
      "execution_count": 6,
      "metadata": {},
      "outputs": [
        {
          "data": {
            "text/plain": [
              "naive_chunker_multi_query       2.125\n",
              "markdown_chunker_multi_query    2.375\n",
              "markdown_chunker_cosine         2.750\n",
              "naive_chunker_cosine            2.750\n",
              "dtype: float64"
            ]
          },
          "execution_count": 6,
          "metadata": {},
          "output_type": "execute_result"
        }
      ],
      "source": [
        "# aggregated rankings for both evals and cost/latency\n",
        "score_aggs_combined.rank(ascending=False).mean(axis=1).sort_values(ascending=True)"
      ]
    },
    {
      "cell_type": "markdown",
      "metadata": {},
      "source": [
        "# Conclusion\n",
        "\n",
        "The winner of my experiments is `naive_chunker_multi_query`, which provides the optimal balance of quality, latency, and cost. The winning trial uses naive chunking (the basic recursive text splitter) with advanced retrieval (multi query). \n",
        "\n",
        "It is surprising that the naive chunker outperforms the custom chunker. The custom chunker uses very small documents (e.g. single bullet points). These results suggest that large chunks with more context outperform smaller chunks."
      ]
    }
  ],
  "metadata": {
    "colab": {
      "provenance": [],
      "toc_visible": true
    },
    "kernelspec": {
      "display_name": ".venv",
      "language": "python",
      "name": "python3"
    },
    "language_info": {
      "codemirror_mode": {
        "name": "ipython",
        "version": 3
      },
      "file_extension": ".py",
      "mimetype": "text/x-python",
      "name": "python",
      "nbconvert_exporter": "python",
      "pygments_lexer": "ipython3",
      "version": "3.13.3"
    }
  },
  "nbformat": 4,
  "nbformat_minor": 0
}

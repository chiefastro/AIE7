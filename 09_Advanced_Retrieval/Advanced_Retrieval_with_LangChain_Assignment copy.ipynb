{
  "cells": [
    {
      "cell_type": "markdown",
      "metadata": {
        "id": "e-IqJAMkwnCF"
      },
      "source": [
        "# Advanced Retrieval with LangChain\n",
        "\n",
        "In the following notebook, we'll explore various methods of advanced retrieval using LangChain!\n",
        "\n",
        "We'll touch on:\n",
        "\n",
        "- Naive Retrieval\n",
        "- Best-Matching 25 (BM25)\n",
        "- Multi-Query Retrieval\n",
        "- Parent-Document Retrieval\n",
        "- Contextual Compression (a.k.a. Rerank)\n",
        "- Ensemble Retrieval\n",
        "- Semantic chunking\n",
        "\n",
        "We'll also discuss how these methods impact performance on our set of documents with a simple RAG chain.\n",
        "\n",
        "There will be two breakout rooms:\n",
        "\n",
        "- 🤝 Breakout Room Part #1\n",
        "  - Task 1: Getting Dependencies!\n",
        "  - Task 2: Data Collection and Preparation\n",
        "  - Task 3: Setting Up QDrant!\n",
        "  - Task 4-10: Retrieval Strategies\n",
        "- 🤝 Breakout Room Part #2\n",
        "  - Activity: Evaluate with Ragas"
      ]
    },
    {
      "cell_type": "markdown",
      "metadata": {
        "id": "4rKP3hgHivpe"
      },
      "source": [
        "# 🤝 Breakout Room Part #1"
      ]
    },
    {
      "cell_type": "markdown",
      "metadata": {
        "id": "3xes8oT-xHN7"
      },
      "source": [
        "## Task 1: Getting Dependencies!\n",
        "\n",
        "We're going to need a few specific LangChain community packages, like OpenAI (for our [LLM](https://platform.openai.com/docs/models) and [Embedding Model](https://platform.openai.com/docs/guides/embeddings)) and Cohere (for our [Reranker](https://cohere.com/rerank))."
      ]
    },
    {
      "cell_type": "markdown",
      "metadata": {
        "id": "Z7OHJXzfyJyA"
      },
      "source": [
        "We'll also provide our OpenAI key, as well as our Cohere API key."
      ]
    },
    {
      "cell_type": "code",
      "execution_count": 82,
      "metadata": {},
      "outputs": [
        {
          "data": {
            "text/plain": [
              "True"
            ]
          },
          "execution_count": 82,
          "metadata": {},
          "output_type": "execute_result"
        }
      ],
      "source": [
        "from dotenv import load_dotenv\n",
        "import os\n",
        "\n",
        "load_dotenv()"
      ]
    },
    {
      "cell_type": "code",
      "execution_count": 83,
      "metadata": {
        "colab": {
          "base_uri": "https://localhost:8080/"
        },
        "id": "7LttlDQUYgSI",
        "outputId": "9dca95ab-4d02-4adf-ec3f-cb831326dc54"
      },
      "outputs": [],
      "source": [
        "# import os\n",
        "# import getpass\n",
        "\n",
        "# os.environ[\"OPENAI_API_KEY\"] = getpass.getpass(\"Enter your OpenAI API Key:\")"
      ]
    },
    {
      "cell_type": "code",
      "execution_count": 84,
      "metadata": {
        "colab": {
          "base_uri": "https://localhost:8080/"
        },
        "id": "3iUahNiJyQbv",
        "outputId": "78bf06ef-2ee8-46c3-f73d-27958b4dd79b"
      },
      "outputs": [],
      "source": [
        "# os.environ[\"COHERE_API_KEY\"] = getpass.getpass(\"Cohere API Key:\")"
      ]
    },
    {
      "cell_type": "markdown",
      "metadata": {
        "id": "mw304iAFyRtl"
      },
      "source": [
        "## Task 2: Data Collection and Preparation\n",
        "\n",
        "We'll be using our Loan Data once again - this time the strutured data available through the CSV!"
      ]
    },
    {
      "cell_type": "markdown",
      "metadata": {
        "id": "A92NC2QZzCsi"
      },
      "source": [
        "### Data Preparation\n",
        "\n",
        "We want to make sure all our documents have the relevant metadata for the various retrieval strategies we're going to be applying today."
      ]
    },
    {
      "cell_type": "code",
      "execution_count": 85,
      "metadata": {
        "id": "GshBjVRJZ6p8"
      },
      "outputs": [],
      "source": [
        "from langchain_community.document_loaders.csv_loader import CSVLoader\n",
        "from datetime import datetime, timedelta\n",
        "\n",
        "loader = CSVLoader(\n",
        "    file_path=f\"./data/complaints.csv\",\n",
        "    metadata_columns=[\n",
        "      \"Date received\", \n",
        "      \"Product\", \n",
        "      \"Sub-product\", \n",
        "      \"Issue\", \n",
        "      \"Sub-issue\", \n",
        "      \"Consumer complaint narrative\", \n",
        "      \"Company public response\", \n",
        "      \"Company\", \n",
        "      \"State\", \n",
        "      \"ZIP code\", \n",
        "      \"Tags\", \n",
        "      \"Consumer consent provided?\", \n",
        "      \"Submitted via\", \n",
        "      \"Date sent to company\", \n",
        "      \"Company response to consumer\", \n",
        "      \"Timely response?\", \n",
        "      \"Consumer disputed?\", \n",
        "      \"Complaint ID\"\n",
        "    ]\n",
        ")\n",
        "\n",
        "loan_complaint_data = loader.load()\n",
        "\n",
        "for doc in loan_complaint_data:\n",
        "    doc.page_content = doc.metadata[\"Consumer complaint narrative\"]"
      ]
    },
    {
      "cell_type": "markdown",
      "metadata": {
        "id": "9gQphb6y0C0S"
      },
      "source": [
        "Let's look at an example document to see if everything worked as expected!"
      ]
    },
    {
      "cell_type": "code",
      "execution_count": 86,
      "metadata": {
        "colab": {
          "base_uri": "https://localhost:8080/"
        },
        "id": "PkUkCf7DaMiq",
        "outputId": "e90bd5da-1d87-423b-838a-cb6efc16b199"
      },
      "outputs": [
        {
          "data": {
            "text/plain": [
              "Document(metadata={'source': './data/complaints.csv', 'row': 0, 'Date received': '03/27/25', 'Product': 'Student loan', 'Sub-product': 'Federal student loan servicing', 'Issue': 'Dealing with your lender or servicer', 'Sub-issue': 'Trouble with how payments are being handled', 'Consumer complaint narrative': \"The federal student loan COVID-19 forbearance program ended in XX/XX/XXXX. However, payments were not re-amortized on my federal student loans currently serviced by Nelnet until very recently. The new payment amount that is effective starting with the XX/XX/XXXX payment will nearly double my payment from {$180.00} per month to {$360.00} per month. I'm fortunate that my current financial position allows me to be able to handle the increased payment amount, but I am sure there are likely many borrowers who are not in the same position. The re-amortization should have occurred once the forbearance ended to reduce the impact to borrowers.\", 'Company public response': 'None', 'Company': 'Nelnet, Inc.', 'State': 'IL', 'ZIP code': '60030', 'Tags': 'None', 'Consumer consent provided?': 'Consent provided', 'Submitted via': 'Web', 'Date sent to company': '03/27/25', 'Company response to consumer': 'Closed with explanation', 'Timely response?': 'Yes', 'Consumer disputed?': 'N/A', 'Complaint ID': '12686613'}, page_content=\"The federal student loan COVID-19 forbearance program ended in XX/XX/XXXX. However, payments were not re-amortized on my federal student loans currently serviced by Nelnet until very recently. The new payment amount that is effective starting with the XX/XX/XXXX payment will nearly double my payment from {$180.00} per month to {$360.00} per month. I'm fortunate that my current financial position allows me to be able to handle the increased payment amount, but I am sure there are likely many borrowers who are not in the same position. The re-amortization should have occurred once the forbearance ended to reduce the impact to borrowers.\")"
            ]
          },
          "execution_count": 86,
          "metadata": {},
          "output_type": "execute_result"
        }
      ],
      "source": [
        "loan_complaint_data[0]"
      ]
    },
    {
      "cell_type": "markdown",
      "metadata": {
        "id": "lWaQpdHl0Gzc"
      },
      "source": [
        "## Task 3: Setting up QDrant!\n",
        "\n",
        "Now that we have our documents, let's create a QDrant VectorStore with the collection name \"LoanComplaints\".\n",
        "\n",
        "We'll leverage OpenAI's [`text-embedding-3-small`](https://openai.com/blog/new-embedding-models-and-api-updates) because it's a very powerful (and low-cost) embedding model.\n",
        "\n",
        "> NOTE: We'll be creating additional vectorstores where necessary, but this pattern is still extremely useful."
      ]
    },
    {
      "cell_type": "code",
      "execution_count": 87,
      "metadata": {
        "id": "NT8ihRJbYmMT"
      },
      "outputs": [
        {
          "ename": "KeyboardInterrupt",
          "evalue": "",
          "output_type": "error",
          "traceback": [
            "\u001b[31m---------------------------------------------------------------------------\u001b[39m",
            "\u001b[31mKeyboardInterrupt\u001b[39m                         Traceback (most recent call last)",
            "\u001b[36mCell\u001b[39m\u001b[36m \u001b[39m\u001b[32mIn[87]\u001b[39m\u001b[32m, line 6\u001b[39m\n\u001b[32m      2\u001b[39m \u001b[38;5;28;01mfrom\u001b[39;00m\u001b[38;5;250m \u001b[39m\u001b[34;01mlangchain_openai\u001b[39;00m\u001b[38;5;250m \u001b[39m\u001b[38;5;28;01mimport\u001b[39;00m OpenAIEmbeddings\n\u001b[32m      4\u001b[39m embeddings = OpenAIEmbeddings(model=\u001b[33m\"\u001b[39m\u001b[33mtext-embedding-3-small\u001b[39m\u001b[33m\"\u001b[39m)\n\u001b[32m----> \u001b[39m\u001b[32m6\u001b[39m vectorstore = \u001b[43mQdrant\u001b[49m\u001b[43m.\u001b[49m\u001b[43mfrom_documents\u001b[49m\u001b[43m(\u001b[49m\n\u001b[32m      7\u001b[39m \u001b[43m    \u001b[49m\u001b[43mloan_complaint_data\u001b[49m\u001b[43m,\u001b[49m\n\u001b[32m      8\u001b[39m \u001b[43m    \u001b[49m\u001b[43membeddings\u001b[49m\u001b[43m,\u001b[49m\n\u001b[32m      9\u001b[39m \u001b[43m    \u001b[49m\u001b[43mlocation\u001b[49m\u001b[43m=\u001b[49m\u001b[33;43m\"\u001b[39;49m\u001b[33;43m:memory:\u001b[39;49m\u001b[33;43m\"\u001b[39;49m\u001b[43m,\u001b[49m\n\u001b[32m     10\u001b[39m \u001b[43m    \u001b[49m\u001b[43mcollection_name\u001b[49m\u001b[43m=\u001b[49m\u001b[33;43m\"\u001b[39;49m\u001b[33;43mLoanComplaints\u001b[39;49m\u001b[33;43m\"\u001b[39;49m\n\u001b[32m     11\u001b[39m \u001b[43m)\u001b[49m\n",
            "\u001b[36mFile \u001b[39m\u001b[32m~/git-repos/AIE7/09_Advanced_Retrieval/.venv/lib/python3.13/site-packages/langchain_core/vectorstores/base.py:848\u001b[39m, in \u001b[36mVectorStore.from_documents\u001b[39m\u001b[34m(cls, documents, embedding, **kwargs)\u001b[39m\n\u001b[32m    845\u001b[39m     \u001b[38;5;28;01mif\u001b[39;00m \u001b[38;5;28many\u001b[39m(ids):\n\u001b[32m    846\u001b[39m         kwargs[\u001b[33m\"\u001b[39m\u001b[33mids\u001b[39m\u001b[33m\"\u001b[39m] = ids\n\u001b[32m--> \u001b[39m\u001b[32m848\u001b[39m \u001b[38;5;28;01mreturn\u001b[39;00m \u001b[38;5;28;43mcls\u001b[39;49m\u001b[43m.\u001b[49m\u001b[43mfrom_texts\u001b[49m\u001b[43m(\u001b[49m\u001b[43mtexts\u001b[49m\u001b[43m,\u001b[49m\u001b[43m \u001b[49m\u001b[43membedding\u001b[49m\u001b[43m,\u001b[49m\u001b[43m \u001b[49m\u001b[43mmetadatas\u001b[49m\u001b[43m=\u001b[49m\u001b[43mmetadatas\u001b[49m\u001b[43m,\u001b[49m\u001b[43m \u001b[49m\u001b[43m*\u001b[49m\u001b[43m*\u001b[49m\u001b[43mkwargs\u001b[49m\u001b[43m)\u001b[49m\n",
            "\u001b[36mFile \u001b[39m\u001b[32m~/git-repos/AIE7/09_Advanced_Retrieval/.venv/lib/python3.13/site-packages/langchain_community/vectorstores/qdrant.py:1369\u001b[39m, in \u001b[36mQdrant.from_texts\u001b[39m\u001b[34m(cls, texts, embedding, metadatas, ids, location, url, port, grpc_port, prefer_grpc, https, api_key, prefix, timeout, host, path, collection_name, distance_func, content_payload_key, metadata_payload_key, vector_name, batch_size, shard_number, replication_factor, write_consistency_factor, on_disk_payload, hnsw_config, optimizers_config, wal_config, quantization_config, init_from, on_disk, force_recreate, **kwargs)\u001b[39m\n\u001b[32m   1234\u001b[39m \u001b[38;5;250m\u001b[39m\u001b[33;03m\"\"\"Construct Qdrant wrapper from a list of texts.\u001b[39;00m\n\u001b[32m   1235\u001b[39m \n\u001b[32m   1236\u001b[39m \u001b[33;03mArgs:\u001b[39;00m\n\u001b[32m   (...)\u001b[39m\u001b[32m   1335\u001b[39m \u001b[33;03m        qdrant = Qdrant.from_texts(texts, embeddings, \"localhost\")\u001b[39;00m\n\u001b[32m   1336\u001b[39m \u001b[33;03m\"\"\"\u001b[39;00m\n\u001b[32m   1337\u001b[39m qdrant = \u001b[38;5;28mcls\u001b[39m.construct_instance(\n\u001b[32m   1338\u001b[39m     texts,\n\u001b[32m   1339\u001b[39m     embedding,\n\u001b[32m   (...)\u001b[39m\u001b[32m   1367\u001b[39m     **kwargs,\n\u001b[32m   1368\u001b[39m )\n\u001b[32m-> \u001b[39m\u001b[32m1369\u001b[39m \u001b[43mqdrant\u001b[49m\u001b[43m.\u001b[49m\u001b[43madd_texts\u001b[49m\u001b[43m(\u001b[49m\u001b[43mtexts\u001b[49m\u001b[43m,\u001b[49m\u001b[43m \u001b[49m\u001b[43mmetadatas\u001b[49m\u001b[43m,\u001b[49m\u001b[43m \u001b[49m\u001b[43mids\u001b[49m\u001b[43m,\u001b[49m\u001b[43m \u001b[49m\u001b[43mbatch_size\u001b[49m\u001b[43m)\u001b[49m\n\u001b[32m   1370\u001b[39m \u001b[38;5;28;01mreturn\u001b[39;00m qdrant\n",
            "\u001b[36mFile \u001b[39m\u001b[32m~/git-repos/AIE7/09_Advanced_Retrieval/.venv/lib/python3.13/site-packages/langchain_community/vectorstores/qdrant.py:189\u001b[39m, in \u001b[36mQdrant.add_texts\u001b[39m\u001b[34m(self, texts, metadatas, ids, batch_size, **kwargs)\u001b[39m\n\u001b[32m    173\u001b[39m \u001b[38;5;250m\u001b[39m\u001b[33;03m\"\"\"Run more texts through the embeddings and add to the vectorstore.\u001b[39;00m\n\u001b[32m    174\u001b[39m \n\u001b[32m    175\u001b[39m \u001b[33;03mArgs:\u001b[39;00m\n\u001b[32m   (...)\u001b[39m\u001b[32m    186\u001b[39m \u001b[33;03m    List of ids from adding the texts into the vectorstore.\u001b[39;00m\n\u001b[32m    187\u001b[39m \u001b[33;03m\"\"\"\u001b[39;00m\n\u001b[32m    188\u001b[39m added_ids = []\n\u001b[32m--> \u001b[39m\u001b[32m189\u001b[39m \u001b[43m\u001b[49m\u001b[38;5;28;43;01mfor\u001b[39;49;00m\u001b[43m \u001b[49m\u001b[43mbatch_ids\u001b[49m\u001b[43m,\u001b[49m\u001b[43m \u001b[49m\u001b[43mpoints\u001b[49m\u001b[43m \u001b[49m\u001b[38;5;129;43;01min\u001b[39;49;00m\u001b[43m \u001b[49m\u001b[38;5;28;43mself\u001b[39;49m\u001b[43m.\u001b[49m\u001b[43m_generate_rest_batches\u001b[49m\u001b[43m(\u001b[49m\n\u001b[32m    190\u001b[39m \u001b[43m    \u001b[49m\u001b[43mtexts\u001b[49m\u001b[43m,\u001b[49m\u001b[43m \u001b[49m\u001b[43mmetadatas\u001b[49m\u001b[43m,\u001b[49m\u001b[43m \u001b[49m\u001b[43mids\u001b[49m\u001b[43m,\u001b[49m\u001b[43m \u001b[49m\u001b[43mbatch_size\u001b[49m\n\u001b[32m    191\u001b[39m \u001b[43m\u001b[49m\u001b[43m)\u001b[49m\u001b[43m:\u001b[49m\n\u001b[32m    192\u001b[39m \u001b[43m    \u001b[49m\u001b[38;5;28;43mself\u001b[39;49m\u001b[43m.\u001b[49m\u001b[43mclient\u001b[49m\u001b[43m.\u001b[49m\u001b[43mupsert\u001b[49m\u001b[43m(\u001b[49m\n\u001b[32m    193\u001b[39m \u001b[43m        \u001b[49m\u001b[43mcollection_name\u001b[49m\u001b[43m=\u001b[49m\u001b[38;5;28;43mself\u001b[39;49m\u001b[43m.\u001b[49m\u001b[43mcollection_name\u001b[49m\u001b[43m,\u001b[49m\u001b[43m \u001b[49m\u001b[43mpoints\u001b[49m\u001b[43m=\u001b[49m\u001b[43mpoints\u001b[49m\u001b[43m,\u001b[49m\u001b[43m \u001b[49m\u001b[43m*\u001b[49m\u001b[43m*\u001b[49m\u001b[43mkwargs\u001b[49m\n\u001b[32m    194\u001b[39m \u001b[43m    \u001b[49m\u001b[43m)\u001b[49m\n\u001b[32m    195\u001b[39m \u001b[43m    \u001b[49m\u001b[43madded_ids\u001b[49m\u001b[43m.\u001b[49m\u001b[43mextend\u001b[49m\u001b[43m(\u001b[49m\u001b[43mbatch_ids\u001b[49m\u001b[43m)\u001b[49m\n",
            "\u001b[36mFile \u001b[39m\u001b[32m~/git-repos/AIE7/09_Advanced_Retrieval/.venv/lib/python3.13/site-packages/langchain_community/vectorstores/qdrant.py:2161\u001b[39m, in \u001b[36mQdrant._generate_rest_batches\u001b[39m\u001b[34m(self, texts, metadatas, ids, batch_size)\u001b[39m\n\u001b[32m   2158\u001b[39m batch_ids = \u001b[38;5;28mlist\u001b[39m(islice(ids_iterator, batch_size))\n\u001b[32m   2160\u001b[39m \u001b[38;5;66;03m# Generate the embeddings for all the texts in a batch\u001b[39;00m\n\u001b[32m-> \u001b[39m\u001b[32m2161\u001b[39m batch_embeddings = \u001b[38;5;28;43mself\u001b[39;49m\u001b[43m.\u001b[49m\u001b[43m_embed_texts\u001b[49m\u001b[43m(\u001b[49m\u001b[43mbatch_texts\u001b[49m\u001b[43m)\u001b[49m\n\u001b[32m   2163\u001b[39m points = [\n\u001b[32m   2164\u001b[39m     rest.PointStruct(\n\u001b[32m   2165\u001b[39m         \u001b[38;5;28mid\u001b[39m=point_id,\n\u001b[32m   (...)\u001b[39m\u001b[32m   2180\u001b[39m     )\n\u001b[32m   2181\u001b[39m ]\n\u001b[32m   2183\u001b[39m \u001b[38;5;28;01myield\u001b[39;00m batch_ids, points\n",
            "\u001b[36mFile \u001b[39m\u001b[32m~/git-repos/AIE7/09_Advanced_Retrieval/.venv/lib/python3.13/site-packages/langchain_community/vectorstores/qdrant.py:2101\u001b[39m, in \u001b[36mQdrant._embed_texts\u001b[39m\u001b[34m(self, texts)\u001b[39m\n\u001b[32m   2090\u001b[39m \u001b[38;5;250m\u001b[39m\u001b[33;03m\"\"\"Embed search texts.\u001b[39;00m\n\u001b[32m   2091\u001b[39m \n\u001b[32m   2092\u001b[39m \u001b[33;03mUsed to provide backward compatibility with `embedding_function` argument.\u001b[39;00m\n\u001b[32m   (...)\u001b[39m\u001b[32m   2098\u001b[39m \u001b[33;03m    List of floats representing the texts embedding.\u001b[39;00m\n\u001b[32m   2099\u001b[39m \u001b[33;03m\"\"\"\u001b[39;00m\n\u001b[32m   2100\u001b[39m \u001b[38;5;28;01mif\u001b[39;00m \u001b[38;5;28mself\u001b[39m.embeddings \u001b[38;5;129;01mis\u001b[39;00m \u001b[38;5;129;01mnot\u001b[39;00m \u001b[38;5;28;01mNone\u001b[39;00m:\n\u001b[32m-> \u001b[39m\u001b[32m2101\u001b[39m     embeddings = \u001b[38;5;28;43mself\u001b[39;49m\u001b[43m.\u001b[49m\u001b[43membeddings\u001b[49m\u001b[43m.\u001b[49m\u001b[43membed_documents\u001b[49m\u001b[43m(\u001b[49m\u001b[38;5;28;43mlist\u001b[39;49m\u001b[43m(\u001b[49m\u001b[43mtexts\u001b[49m\u001b[43m)\u001b[49m\u001b[43m)\u001b[49m\n\u001b[32m   2102\u001b[39m     \u001b[38;5;28;01mif\u001b[39;00m \u001b[38;5;28mhasattr\u001b[39m(embeddings, \u001b[33m\"\u001b[39m\u001b[33mtolist\u001b[39m\u001b[33m\"\u001b[39m):\n\u001b[32m   2103\u001b[39m         embeddings = embeddings.tolist()\n",
            "\u001b[36mFile \u001b[39m\u001b[32m~/git-repos/AIE7/09_Advanced_Retrieval/.venv/lib/python3.13/site-packages/langchain_openai/embeddings/base.py:590\u001b[39m, in \u001b[36mOpenAIEmbeddings.embed_documents\u001b[39m\u001b[34m(self, texts, chunk_size, **kwargs)\u001b[39m\n\u001b[32m    587\u001b[39m \u001b[38;5;66;03m# NOTE: to keep things simple, we assume the list may contain texts longer\u001b[39;00m\n\u001b[32m    588\u001b[39m \u001b[38;5;66;03m#       than the maximum context and use length-safe embedding function.\u001b[39;00m\n\u001b[32m    589\u001b[39m engine = cast(\u001b[38;5;28mstr\u001b[39m, \u001b[38;5;28mself\u001b[39m.deployment)\n\u001b[32m--> \u001b[39m\u001b[32m590\u001b[39m \u001b[38;5;28;01mreturn\u001b[39;00m \u001b[38;5;28;43mself\u001b[39;49m\u001b[43m.\u001b[49m\u001b[43m_get_len_safe_embeddings\u001b[49m\u001b[43m(\u001b[49m\n\u001b[32m    591\u001b[39m \u001b[43m    \u001b[49m\u001b[43mtexts\u001b[49m\u001b[43m,\u001b[49m\u001b[43m \u001b[49m\u001b[43mengine\u001b[49m\u001b[43m=\u001b[49m\u001b[43mengine\u001b[49m\u001b[43m,\u001b[49m\u001b[43m \u001b[49m\u001b[43mchunk_size\u001b[49m\u001b[43m=\u001b[49m\u001b[43mchunk_size\u001b[49m\u001b[43m,\u001b[49m\u001b[43m \u001b[49m\u001b[43m*\u001b[49m\u001b[43m*\u001b[49m\u001b[43mkwargs\u001b[49m\n\u001b[32m    592\u001b[39m \u001b[43m\u001b[49m\u001b[43m)\u001b[49m\n",
            "\u001b[36mFile \u001b[39m\u001b[32m~/git-repos/AIE7/09_Advanced_Retrieval/.venv/lib/python3.13/site-packages/langchain_openai/embeddings/base.py:478\u001b[39m, in \u001b[36mOpenAIEmbeddings._get_len_safe_embeddings\u001b[39m\u001b[34m(self, texts, engine, chunk_size, **kwargs)\u001b[39m\n\u001b[32m    476\u001b[39m batched_embeddings: \u001b[38;5;28mlist\u001b[39m[\u001b[38;5;28mlist\u001b[39m[\u001b[38;5;28mfloat\u001b[39m]] = []\n\u001b[32m    477\u001b[39m \u001b[38;5;28;01mfor\u001b[39;00m i \u001b[38;5;129;01min\u001b[39;00m _iter:\n\u001b[32m--> \u001b[39m\u001b[32m478\u001b[39m     response = \u001b[38;5;28;43mself\u001b[39;49m\u001b[43m.\u001b[49m\u001b[43mclient\u001b[49m\u001b[43m.\u001b[49m\u001b[43mcreate\u001b[49m\u001b[43m(\u001b[49m\n\u001b[32m    479\u001b[39m \u001b[43m        \u001b[49m\u001b[38;5;28;43minput\u001b[39;49m\u001b[43m=\u001b[49m\u001b[43mtokens\u001b[49m\u001b[43m[\u001b[49m\u001b[43mi\u001b[49m\u001b[43m \u001b[49m\u001b[43m:\u001b[49m\u001b[43m \u001b[49m\u001b[43mi\u001b[49m\u001b[43m \u001b[49m\u001b[43m+\u001b[49m\u001b[43m \u001b[49m\u001b[43m_chunk_size\u001b[49m\u001b[43m]\u001b[49m\u001b[43m,\u001b[49m\u001b[43m \u001b[49m\u001b[43m*\u001b[49m\u001b[43m*\u001b[49m\u001b[43mclient_kwargs\u001b[49m\n\u001b[32m    480\u001b[39m \u001b[43m    \u001b[49m\u001b[43m)\u001b[49m\n\u001b[32m    481\u001b[39m     \u001b[38;5;28;01mif\u001b[39;00m \u001b[38;5;129;01mnot\u001b[39;00m \u001b[38;5;28misinstance\u001b[39m(response, \u001b[38;5;28mdict\u001b[39m):\n\u001b[32m    482\u001b[39m         response = response.model_dump()\n",
            "\u001b[36mFile \u001b[39m\u001b[32m~/git-repos/AIE7/09_Advanced_Retrieval/.venv/lib/python3.13/site-packages/openai/resources/embeddings.py:132\u001b[39m, in \u001b[36mEmbeddings.create\u001b[39m\u001b[34m(self, input, model, dimensions, encoding_format, user, extra_headers, extra_query, extra_body, timeout)\u001b[39m\n\u001b[32m    126\u001b[39m             embedding.embedding = np.frombuffer(  \u001b[38;5;66;03m# type: ignore[no-untyped-call]\u001b[39;00m\n\u001b[32m    127\u001b[39m                 base64.b64decode(data), dtype=\u001b[33m\"\u001b[39m\u001b[33mfloat32\u001b[39m\u001b[33m\"\u001b[39m\n\u001b[32m    128\u001b[39m             ).tolist()\n\u001b[32m    130\u001b[39m     \u001b[38;5;28;01mreturn\u001b[39;00m obj\n\u001b[32m--> \u001b[39m\u001b[32m132\u001b[39m \u001b[38;5;28;01mreturn\u001b[39;00m \u001b[38;5;28;43mself\u001b[39;49m\u001b[43m.\u001b[49m\u001b[43m_post\u001b[49m\u001b[43m(\u001b[49m\n\u001b[32m    133\u001b[39m \u001b[43m    \u001b[49m\u001b[33;43m\"\u001b[39;49m\u001b[33;43m/embeddings\u001b[39;49m\u001b[33;43m\"\u001b[39;49m\u001b[43m,\u001b[49m\n\u001b[32m    134\u001b[39m \u001b[43m    \u001b[49m\u001b[43mbody\u001b[49m\u001b[43m=\u001b[49m\u001b[43mmaybe_transform\u001b[49m\u001b[43m(\u001b[49m\u001b[43mparams\u001b[49m\u001b[43m,\u001b[49m\u001b[43m \u001b[49m\u001b[43membedding_create_params\u001b[49m\u001b[43m.\u001b[49m\u001b[43mEmbeddingCreateParams\u001b[49m\u001b[43m)\u001b[49m\u001b[43m,\u001b[49m\n\u001b[32m    135\u001b[39m \u001b[43m    \u001b[49m\u001b[43moptions\u001b[49m\u001b[43m=\u001b[49m\u001b[43mmake_request_options\u001b[49m\u001b[43m(\u001b[49m\n\u001b[32m    136\u001b[39m \u001b[43m        \u001b[49m\u001b[43mextra_headers\u001b[49m\u001b[43m=\u001b[49m\u001b[43mextra_headers\u001b[49m\u001b[43m,\u001b[49m\n\u001b[32m    137\u001b[39m \u001b[43m        \u001b[49m\u001b[43mextra_query\u001b[49m\u001b[43m=\u001b[49m\u001b[43mextra_query\u001b[49m\u001b[43m,\u001b[49m\n\u001b[32m    138\u001b[39m \u001b[43m        \u001b[49m\u001b[43mextra_body\u001b[49m\u001b[43m=\u001b[49m\u001b[43mextra_body\u001b[49m\u001b[43m,\u001b[49m\n\u001b[32m    139\u001b[39m \u001b[43m        \u001b[49m\u001b[43mtimeout\u001b[49m\u001b[43m=\u001b[49m\u001b[43mtimeout\u001b[49m\u001b[43m,\u001b[49m\n\u001b[32m    140\u001b[39m \u001b[43m        \u001b[49m\u001b[43mpost_parser\u001b[49m\u001b[43m=\u001b[49m\u001b[43mparser\u001b[49m\u001b[43m,\u001b[49m\n\u001b[32m    141\u001b[39m \u001b[43m    \u001b[49m\u001b[43m)\u001b[49m\u001b[43m,\u001b[49m\n\u001b[32m    142\u001b[39m \u001b[43m    \u001b[49m\u001b[43mcast_to\u001b[49m\u001b[43m=\u001b[49m\u001b[43mCreateEmbeddingResponse\u001b[49m\u001b[43m,\u001b[49m\n\u001b[32m    143\u001b[39m \u001b[43m\u001b[49m\u001b[43m)\u001b[49m\n",
            "\u001b[36mFile \u001b[39m\u001b[32m~/git-repos/AIE7/09_Advanced_Retrieval/.venv/lib/python3.13/site-packages/openai/_base_client.py:1256\u001b[39m, in \u001b[36mSyncAPIClient.post\u001b[39m\u001b[34m(self, path, cast_to, body, options, files, stream, stream_cls)\u001b[39m\n\u001b[32m   1242\u001b[39m \u001b[38;5;28;01mdef\u001b[39;00m\u001b[38;5;250m \u001b[39m\u001b[34mpost\u001b[39m(\n\u001b[32m   1243\u001b[39m     \u001b[38;5;28mself\u001b[39m,\n\u001b[32m   1244\u001b[39m     path: \u001b[38;5;28mstr\u001b[39m,\n\u001b[32m   (...)\u001b[39m\u001b[32m   1251\u001b[39m     stream_cls: \u001b[38;5;28mtype\u001b[39m[_StreamT] | \u001b[38;5;28;01mNone\u001b[39;00m = \u001b[38;5;28;01mNone\u001b[39;00m,\n\u001b[32m   1252\u001b[39m ) -> ResponseT | _StreamT:\n\u001b[32m   1253\u001b[39m     opts = FinalRequestOptions.construct(\n\u001b[32m   1254\u001b[39m         method=\u001b[33m\"\u001b[39m\u001b[33mpost\u001b[39m\u001b[33m\"\u001b[39m, url=path, json_data=body, files=to_httpx_files(files), **options\n\u001b[32m   1255\u001b[39m     )\n\u001b[32m-> \u001b[39m\u001b[32m1256\u001b[39m     \u001b[38;5;28;01mreturn\u001b[39;00m cast(ResponseT, \u001b[38;5;28;43mself\u001b[39;49m\u001b[43m.\u001b[49m\u001b[43mrequest\u001b[49m\u001b[43m(\u001b[49m\u001b[43mcast_to\u001b[49m\u001b[43m,\u001b[49m\u001b[43m \u001b[49m\u001b[43mopts\u001b[49m\u001b[43m,\u001b[49m\u001b[43m \u001b[49m\u001b[43mstream\u001b[49m\u001b[43m=\u001b[49m\u001b[43mstream\u001b[49m\u001b[43m,\u001b[49m\u001b[43m \u001b[49m\u001b[43mstream_cls\u001b[49m\u001b[43m=\u001b[49m\u001b[43mstream_cls\u001b[49m\u001b[43m)\u001b[49m)\n",
            "\u001b[36mFile \u001b[39m\u001b[32m~/git-repos/AIE7/09_Advanced_Retrieval/.venv/lib/python3.13/site-packages/openai/_base_client.py:979\u001b[39m, in \u001b[36mSyncAPIClient.request\u001b[39m\u001b[34m(self, cast_to, options, stream, stream_cls)\u001b[39m\n\u001b[32m    977\u001b[39m response = \u001b[38;5;28;01mNone\u001b[39;00m\n\u001b[32m    978\u001b[39m \u001b[38;5;28;01mtry\u001b[39;00m:\n\u001b[32m--> \u001b[39m\u001b[32m979\u001b[39m     response = \u001b[38;5;28;43mself\u001b[39;49m\u001b[43m.\u001b[49m\u001b[43m_client\u001b[49m\u001b[43m.\u001b[49m\u001b[43msend\u001b[49m\u001b[43m(\u001b[49m\n\u001b[32m    980\u001b[39m \u001b[43m        \u001b[49m\u001b[43mrequest\u001b[49m\u001b[43m,\u001b[49m\n\u001b[32m    981\u001b[39m \u001b[43m        \u001b[49m\u001b[43mstream\u001b[49m\u001b[43m=\u001b[49m\u001b[43mstream\u001b[49m\u001b[43m \u001b[49m\u001b[38;5;129;43;01mor\u001b[39;49;00m\u001b[43m \u001b[49m\u001b[38;5;28;43mself\u001b[39;49m\u001b[43m.\u001b[49m\u001b[43m_should_stream_response_body\u001b[49m\u001b[43m(\u001b[49m\u001b[43mrequest\u001b[49m\u001b[43m=\u001b[49m\u001b[43mrequest\u001b[49m\u001b[43m)\u001b[49m\u001b[43m,\u001b[49m\n\u001b[32m    982\u001b[39m \u001b[43m        \u001b[49m\u001b[43m*\u001b[49m\u001b[43m*\u001b[49m\u001b[43mkwargs\u001b[49m\u001b[43m,\u001b[49m\n\u001b[32m    983\u001b[39m \u001b[43m    \u001b[49m\u001b[43m)\u001b[49m\n\u001b[32m    984\u001b[39m \u001b[38;5;28;01mexcept\u001b[39;00m httpx.TimeoutException \u001b[38;5;28;01mas\u001b[39;00m err:\n\u001b[32m    985\u001b[39m     log.debug(\u001b[33m\"\u001b[39m\u001b[33mEncountered httpx.TimeoutException\u001b[39m\u001b[33m\"\u001b[39m, exc_info=\u001b[38;5;28;01mTrue\u001b[39;00m)\n",
            "\u001b[36mFile \u001b[39m\u001b[32m~/git-repos/AIE7/09_Advanced_Retrieval/.venv/lib/python3.13/site-packages/httpx/_client.py:914\u001b[39m, in \u001b[36mClient.send\u001b[39m\u001b[34m(self, request, stream, auth, follow_redirects)\u001b[39m\n\u001b[32m    910\u001b[39m \u001b[38;5;28mself\u001b[39m._set_timeout(request)\n\u001b[32m    912\u001b[39m auth = \u001b[38;5;28mself\u001b[39m._build_request_auth(request, auth)\n\u001b[32m--> \u001b[39m\u001b[32m914\u001b[39m response = \u001b[38;5;28;43mself\u001b[39;49m\u001b[43m.\u001b[49m\u001b[43m_send_handling_auth\u001b[49m\u001b[43m(\u001b[49m\n\u001b[32m    915\u001b[39m \u001b[43m    \u001b[49m\u001b[43mrequest\u001b[49m\u001b[43m,\u001b[49m\n\u001b[32m    916\u001b[39m \u001b[43m    \u001b[49m\u001b[43mauth\u001b[49m\u001b[43m=\u001b[49m\u001b[43mauth\u001b[49m\u001b[43m,\u001b[49m\n\u001b[32m    917\u001b[39m \u001b[43m    \u001b[49m\u001b[43mfollow_redirects\u001b[49m\u001b[43m=\u001b[49m\u001b[43mfollow_redirects\u001b[49m\u001b[43m,\u001b[49m\n\u001b[32m    918\u001b[39m \u001b[43m    \u001b[49m\u001b[43mhistory\u001b[49m\u001b[43m=\u001b[49m\u001b[43m[\u001b[49m\u001b[43m]\u001b[49m\u001b[43m,\u001b[49m\n\u001b[32m    919\u001b[39m \u001b[43m\u001b[49m\u001b[43m)\u001b[49m\n\u001b[32m    920\u001b[39m \u001b[38;5;28;01mtry\u001b[39;00m:\n\u001b[32m    921\u001b[39m     \u001b[38;5;28;01mif\u001b[39;00m \u001b[38;5;129;01mnot\u001b[39;00m stream:\n",
            "\u001b[36mFile \u001b[39m\u001b[32m~/git-repos/AIE7/09_Advanced_Retrieval/.venv/lib/python3.13/site-packages/httpx/_client.py:942\u001b[39m, in \u001b[36mClient._send_handling_auth\u001b[39m\u001b[34m(self, request, auth, follow_redirects, history)\u001b[39m\n\u001b[32m    939\u001b[39m request = \u001b[38;5;28mnext\u001b[39m(auth_flow)\n\u001b[32m    941\u001b[39m \u001b[38;5;28;01mwhile\u001b[39;00m \u001b[38;5;28;01mTrue\u001b[39;00m:\n\u001b[32m--> \u001b[39m\u001b[32m942\u001b[39m     response = \u001b[38;5;28;43mself\u001b[39;49m\u001b[43m.\u001b[49m\u001b[43m_send_handling_redirects\u001b[49m\u001b[43m(\u001b[49m\n\u001b[32m    943\u001b[39m \u001b[43m        \u001b[49m\u001b[43mrequest\u001b[49m\u001b[43m,\u001b[49m\n\u001b[32m    944\u001b[39m \u001b[43m        \u001b[49m\u001b[43mfollow_redirects\u001b[49m\u001b[43m=\u001b[49m\u001b[43mfollow_redirects\u001b[49m\u001b[43m,\u001b[49m\n\u001b[32m    945\u001b[39m \u001b[43m        \u001b[49m\u001b[43mhistory\u001b[49m\u001b[43m=\u001b[49m\u001b[43mhistory\u001b[49m\u001b[43m,\u001b[49m\n\u001b[32m    946\u001b[39m \u001b[43m    \u001b[49m\u001b[43m)\u001b[49m\n\u001b[32m    947\u001b[39m     \u001b[38;5;28;01mtry\u001b[39;00m:\n\u001b[32m    948\u001b[39m         \u001b[38;5;28;01mtry\u001b[39;00m:\n",
            "\u001b[36mFile \u001b[39m\u001b[32m~/git-repos/AIE7/09_Advanced_Retrieval/.venv/lib/python3.13/site-packages/httpx/_client.py:979\u001b[39m, in \u001b[36mClient._send_handling_redirects\u001b[39m\u001b[34m(self, request, follow_redirects, history)\u001b[39m\n\u001b[32m    976\u001b[39m \u001b[38;5;28;01mfor\u001b[39;00m hook \u001b[38;5;129;01min\u001b[39;00m \u001b[38;5;28mself\u001b[39m._event_hooks[\u001b[33m\"\u001b[39m\u001b[33mrequest\u001b[39m\u001b[33m\"\u001b[39m]:\n\u001b[32m    977\u001b[39m     hook(request)\n\u001b[32m--> \u001b[39m\u001b[32m979\u001b[39m response = \u001b[38;5;28;43mself\u001b[39;49m\u001b[43m.\u001b[49m\u001b[43m_send_single_request\u001b[49m\u001b[43m(\u001b[49m\u001b[43mrequest\u001b[49m\u001b[43m)\u001b[49m\n\u001b[32m    980\u001b[39m \u001b[38;5;28;01mtry\u001b[39;00m:\n\u001b[32m    981\u001b[39m     \u001b[38;5;28;01mfor\u001b[39;00m hook \u001b[38;5;129;01min\u001b[39;00m \u001b[38;5;28mself\u001b[39m._event_hooks[\u001b[33m\"\u001b[39m\u001b[33mresponse\u001b[39m\u001b[33m\"\u001b[39m]:\n",
            "\u001b[36mFile \u001b[39m\u001b[32m~/git-repos/AIE7/09_Advanced_Retrieval/.venv/lib/python3.13/site-packages/httpx/_client.py:1014\u001b[39m, in \u001b[36mClient._send_single_request\u001b[39m\u001b[34m(self, request)\u001b[39m\n\u001b[32m   1009\u001b[39m     \u001b[38;5;28;01mraise\u001b[39;00m \u001b[38;5;167;01mRuntimeError\u001b[39;00m(\n\u001b[32m   1010\u001b[39m         \u001b[33m\"\u001b[39m\u001b[33mAttempted to send an async request with a sync Client instance.\u001b[39m\u001b[33m\"\u001b[39m\n\u001b[32m   1011\u001b[39m     )\n\u001b[32m   1013\u001b[39m \u001b[38;5;28;01mwith\u001b[39;00m request_context(request=request):\n\u001b[32m-> \u001b[39m\u001b[32m1014\u001b[39m     response = \u001b[43mtransport\u001b[49m\u001b[43m.\u001b[49m\u001b[43mhandle_request\u001b[49m\u001b[43m(\u001b[49m\u001b[43mrequest\u001b[49m\u001b[43m)\u001b[49m\n\u001b[32m   1016\u001b[39m \u001b[38;5;28;01massert\u001b[39;00m \u001b[38;5;28misinstance\u001b[39m(response.stream, SyncByteStream)\n\u001b[32m   1018\u001b[39m response.request = request\n",
            "\u001b[36mFile \u001b[39m\u001b[32m~/git-repos/AIE7/09_Advanced_Retrieval/.venv/lib/python3.13/site-packages/httpx/_transports/default.py:250\u001b[39m, in \u001b[36mHTTPTransport.handle_request\u001b[39m\u001b[34m(self, request)\u001b[39m\n\u001b[32m    237\u001b[39m req = httpcore.Request(\n\u001b[32m    238\u001b[39m     method=request.method,\n\u001b[32m    239\u001b[39m     url=httpcore.URL(\n\u001b[32m   (...)\u001b[39m\u001b[32m    247\u001b[39m     extensions=request.extensions,\n\u001b[32m    248\u001b[39m )\n\u001b[32m    249\u001b[39m \u001b[38;5;28;01mwith\u001b[39;00m map_httpcore_exceptions():\n\u001b[32m--> \u001b[39m\u001b[32m250\u001b[39m     resp = \u001b[38;5;28;43mself\u001b[39;49m\u001b[43m.\u001b[49m\u001b[43m_pool\u001b[49m\u001b[43m.\u001b[49m\u001b[43mhandle_request\u001b[49m\u001b[43m(\u001b[49m\u001b[43mreq\u001b[49m\u001b[43m)\u001b[49m\n\u001b[32m    252\u001b[39m \u001b[38;5;28;01massert\u001b[39;00m \u001b[38;5;28misinstance\u001b[39m(resp.stream, typing.Iterable)\n\u001b[32m    254\u001b[39m \u001b[38;5;28;01mreturn\u001b[39;00m Response(\n\u001b[32m    255\u001b[39m     status_code=resp.status,\n\u001b[32m    256\u001b[39m     headers=resp.headers,\n\u001b[32m    257\u001b[39m     stream=ResponseStream(resp.stream),\n\u001b[32m    258\u001b[39m     extensions=resp.extensions,\n\u001b[32m    259\u001b[39m )\n",
            "\u001b[36mFile \u001b[39m\u001b[32m~/git-repos/AIE7/09_Advanced_Retrieval/.venv/lib/python3.13/site-packages/httpcore/_sync/connection_pool.py:256\u001b[39m, in \u001b[36mConnectionPool.handle_request\u001b[39m\u001b[34m(self, request)\u001b[39m\n\u001b[32m    253\u001b[39m         closing = \u001b[38;5;28mself\u001b[39m._assign_requests_to_connections()\n\u001b[32m    255\u001b[39m     \u001b[38;5;28mself\u001b[39m._close_connections(closing)\n\u001b[32m--> \u001b[39m\u001b[32m256\u001b[39m     \u001b[38;5;28;01mraise\u001b[39;00m exc \u001b[38;5;28;01mfrom\u001b[39;00m\u001b[38;5;250m \u001b[39m\u001b[38;5;28;01mNone\u001b[39;00m\n\u001b[32m    258\u001b[39m \u001b[38;5;66;03m# Return the response. Note that in this case we still have to manage\u001b[39;00m\n\u001b[32m    259\u001b[39m \u001b[38;5;66;03m# the point at which the response is closed.\u001b[39;00m\n\u001b[32m    260\u001b[39m \u001b[38;5;28;01massert\u001b[39;00m \u001b[38;5;28misinstance\u001b[39m(response.stream, typing.Iterable)\n",
            "\u001b[36mFile \u001b[39m\u001b[32m~/git-repos/AIE7/09_Advanced_Retrieval/.venv/lib/python3.13/site-packages/httpcore/_sync/connection_pool.py:236\u001b[39m, in \u001b[36mConnectionPool.handle_request\u001b[39m\u001b[34m(self, request)\u001b[39m\n\u001b[32m    232\u001b[39m connection = pool_request.wait_for_connection(timeout=timeout)\n\u001b[32m    234\u001b[39m \u001b[38;5;28;01mtry\u001b[39;00m:\n\u001b[32m    235\u001b[39m     \u001b[38;5;66;03m# Send the request on the assigned connection.\u001b[39;00m\n\u001b[32m--> \u001b[39m\u001b[32m236\u001b[39m     response = \u001b[43mconnection\u001b[49m\u001b[43m.\u001b[49m\u001b[43mhandle_request\u001b[49m\u001b[43m(\u001b[49m\n\u001b[32m    237\u001b[39m \u001b[43m        \u001b[49m\u001b[43mpool_request\u001b[49m\u001b[43m.\u001b[49m\u001b[43mrequest\u001b[49m\n\u001b[32m    238\u001b[39m \u001b[43m    \u001b[49m\u001b[43m)\u001b[49m\n\u001b[32m    239\u001b[39m \u001b[38;5;28;01mexcept\u001b[39;00m ConnectionNotAvailable:\n\u001b[32m    240\u001b[39m     \u001b[38;5;66;03m# In some cases a connection may initially be available to\u001b[39;00m\n\u001b[32m    241\u001b[39m     \u001b[38;5;66;03m# handle a request, but then become unavailable.\u001b[39;00m\n\u001b[32m    242\u001b[39m     \u001b[38;5;66;03m#\u001b[39;00m\n\u001b[32m    243\u001b[39m     \u001b[38;5;66;03m# In this case we clear the connection and try again.\u001b[39;00m\n\u001b[32m    244\u001b[39m     pool_request.clear_connection()\n",
            "\u001b[36mFile \u001b[39m\u001b[32m~/git-repos/AIE7/09_Advanced_Retrieval/.venv/lib/python3.13/site-packages/httpcore/_sync/connection.py:103\u001b[39m, in \u001b[36mHTTPConnection.handle_request\u001b[39m\u001b[34m(self, request)\u001b[39m\n\u001b[32m    100\u001b[39m     \u001b[38;5;28mself\u001b[39m._connect_failed = \u001b[38;5;28;01mTrue\u001b[39;00m\n\u001b[32m    101\u001b[39m     \u001b[38;5;28;01mraise\u001b[39;00m exc\n\u001b[32m--> \u001b[39m\u001b[32m103\u001b[39m \u001b[38;5;28;01mreturn\u001b[39;00m \u001b[38;5;28;43mself\u001b[39;49m\u001b[43m.\u001b[49m\u001b[43m_connection\u001b[49m\u001b[43m.\u001b[49m\u001b[43mhandle_request\u001b[49m\u001b[43m(\u001b[49m\u001b[43mrequest\u001b[49m\u001b[43m)\u001b[49m\n",
            "\u001b[36mFile \u001b[39m\u001b[32m~/git-repos/AIE7/09_Advanced_Retrieval/.venv/lib/python3.13/site-packages/httpcore/_sync/http11.py:136\u001b[39m, in \u001b[36mHTTP11Connection.handle_request\u001b[39m\u001b[34m(self, request)\u001b[39m\n\u001b[32m    134\u001b[39m     \u001b[38;5;28;01mwith\u001b[39;00m Trace(\u001b[33m\"\u001b[39m\u001b[33mresponse_closed\u001b[39m\u001b[33m\"\u001b[39m, logger, request) \u001b[38;5;28;01mas\u001b[39;00m trace:\n\u001b[32m    135\u001b[39m         \u001b[38;5;28mself\u001b[39m._response_closed()\n\u001b[32m--> \u001b[39m\u001b[32m136\u001b[39m \u001b[38;5;28;01mraise\u001b[39;00m exc\n",
            "\u001b[36mFile \u001b[39m\u001b[32m~/git-repos/AIE7/09_Advanced_Retrieval/.venv/lib/python3.13/site-packages/httpcore/_sync/http11.py:106\u001b[39m, in \u001b[36mHTTP11Connection.handle_request\u001b[39m\u001b[34m(self, request)\u001b[39m\n\u001b[32m     95\u001b[39m     \u001b[38;5;28;01mpass\u001b[39;00m\n\u001b[32m     97\u001b[39m \u001b[38;5;28;01mwith\u001b[39;00m Trace(\n\u001b[32m     98\u001b[39m     \u001b[33m\"\u001b[39m\u001b[33mreceive_response_headers\u001b[39m\u001b[33m\"\u001b[39m, logger, request, kwargs\n\u001b[32m     99\u001b[39m ) \u001b[38;5;28;01mas\u001b[39;00m trace:\n\u001b[32m    100\u001b[39m     (\n\u001b[32m    101\u001b[39m         http_version,\n\u001b[32m    102\u001b[39m         status,\n\u001b[32m    103\u001b[39m         reason_phrase,\n\u001b[32m    104\u001b[39m         headers,\n\u001b[32m    105\u001b[39m         trailing_data,\n\u001b[32m--> \u001b[39m\u001b[32m106\u001b[39m     ) = \u001b[38;5;28;43mself\u001b[39;49m\u001b[43m.\u001b[49m\u001b[43m_receive_response_headers\u001b[49m\u001b[43m(\u001b[49m\u001b[43m*\u001b[49m\u001b[43m*\u001b[49m\u001b[43mkwargs\u001b[49m\u001b[43m)\u001b[49m\n\u001b[32m    107\u001b[39m     trace.return_value = (\n\u001b[32m    108\u001b[39m         http_version,\n\u001b[32m    109\u001b[39m         status,\n\u001b[32m    110\u001b[39m         reason_phrase,\n\u001b[32m    111\u001b[39m         headers,\n\u001b[32m    112\u001b[39m     )\n\u001b[32m    114\u001b[39m network_stream = \u001b[38;5;28mself\u001b[39m._network_stream\n",
            "\u001b[36mFile \u001b[39m\u001b[32m~/git-repos/AIE7/09_Advanced_Retrieval/.venv/lib/python3.13/site-packages/httpcore/_sync/http11.py:177\u001b[39m, in \u001b[36mHTTP11Connection._receive_response_headers\u001b[39m\u001b[34m(self, request)\u001b[39m\n\u001b[32m    174\u001b[39m timeout = timeouts.get(\u001b[33m\"\u001b[39m\u001b[33mread\u001b[39m\u001b[33m\"\u001b[39m, \u001b[38;5;28;01mNone\u001b[39;00m)\n\u001b[32m    176\u001b[39m \u001b[38;5;28;01mwhile\u001b[39;00m \u001b[38;5;28;01mTrue\u001b[39;00m:\n\u001b[32m--> \u001b[39m\u001b[32m177\u001b[39m     event = \u001b[38;5;28;43mself\u001b[39;49m\u001b[43m.\u001b[49m\u001b[43m_receive_event\u001b[49m\u001b[43m(\u001b[49m\u001b[43mtimeout\u001b[49m\u001b[43m=\u001b[49m\u001b[43mtimeout\u001b[49m\u001b[43m)\u001b[49m\n\u001b[32m    178\u001b[39m     \u001b[38;5;28;01mif\u001b[39;00m \u001b[38;5;28misinstance\u001b[39m(event, h11.Response):\n\u001b[32m    179\u001b[39m         \u001b[38;5;28;01mbreak\u001b[39;00m\n",
            "\u001b[36mFile \u001b[39m\u001b[32m~/git-repos/AIE7/09_Advanced_Retrieval/.venv/lib/python3.13/site-packages/httpcore/_sync/http11.py:217\u001b[39m, in \u001b[36mHTTP11Connection._receive_event\u001b[39m\u001b[34m(self, timeout)\u001b[39m\n\u001b[32m    214\u001b[39m     event = \u001b[38;5;28mself\u001b[39m._h11_state.next_event()\n\u001b[32m    216\u001b[39m \u001b[38;5;28;01mif\u001b[39;00m event \u001b[38;5;129;01mis\u001b[39;00m h11.NEED_DATA:\n\u001b[32m--> \u001b[39m\u001b[32m217\u001b[39m     data = \u001b[38;5;28;43mself\u001b[39;49m\u001b[43m.\u001b[49m\u001b[43m_network_stream\u001b[49m\u001b[43m.\u001b[49m\u001b[43mread\u001b[49m\u001b[43m(\u001b[49m\n\u001b[32m    218\u001b[39m \u001b[43m        \u001b[49m\u001b[38;5;28;43mself\u001b[39;49m\u001b[43m.\u001b[49m\u001b[43mREAD_NUM_BYTES\u001b[49m\u001b[43m,\u001b[49m\u001b[43m \u001b[49m\u001b[43mtimeout\u001b[49m\u001b[43m=\u001b[49m\u001b[43mtimeout\u001b[49m\n\u001b[32m    219\u001b[39m \u001b[43m    \u001b[49m\u001b[43m)\u001b[49m\n\u001b[32m    221\u001b[39m     \u001b[38;5;66;03m# If we feed this case through h11 we'll raise an exception like:\u001b[39;00m\n\u001b[32m    222\u001b[39m     \u001b[38;5;66;03m#\u001b[39;00m\n\u001b[32m    223\u001b[39m     \u001b[38;5;66;03m#     httpcore.RemoteProtocolError: can't handle event type\u001b[39;00m\n\u001b[32m   (...)\u001b[39m\u001b[32m    227\u001b[39m     \u001b[38;5;66;03m# perspective. Instead we handle this case distinctly and treat\u001b[39;00m\n\u001b[32m    228\u001b[39m     \u001b[38;5;66;03m# it as a ConnectError.\u001b[39;00m\n\u001b[32m    229\u001b[39m     \u001b[38;5;28;01mif\u001b[39;00m data == \u001b[33mb\u001b[39m\u001b[33m\"\u001b[39m\u001b[33m\"\u001b[39m \u001b[38;5;129;01mand\u001b[39;00m \u001b[38;5;28mself\u001b[39m._h11_state.their_state == h11.SEND_RESPONSE:\n",
            "\u001b[36mFile \u001b[39m\u001b[32m~/git-repos/AIE7/09_Advanced_Retrieval/.venv/lib/python3.13/site-packages/httpcore/_backends/sync.py:128\u001b[39m, in \u001b[36mSyncStream.read\u001b[39m\u001b[34m(self, max_bytes, timeout)\u001b[39m\n\u001b[32m    126\u001b[39m \u001b[38;5;28;01mwith\u001b[39;00m map_exceptions(exc_map):\n\u001b[32m    127\u001b[39m     \u001b[38;5;28mself\u001b[39m._sock.settimeout(timeout)\n\u001b[32m--> \u001b[39m\u001b[32m128\u001b[39m     \u001b[38;5;28;01mreturn\u001b[39;00m \u001b[38;5;28;43mself\u001b[39;49m\u001b[43m.\u001b[49m\u001b[43m_sock\u001b[49m\u001b[43m.\u001b[49m\u001b[43mrecv\u001b[49m\u001b[43m(\u001b[49m\u001b[43mmax_bytes\u001b[49m\u001b[43m)\u001b[49m\n",
            "\u001b[36mFile \u001b[39m\u001b[32m~/.local/share/uv/python/cpython-3.13.3-macos-aarch64-none/lib/python3.13/ssl.py:1285\u001b[39m, in \u001b[36mSSLSocket.recv\u001b[39m\u001b[34m(self, buflen, flags)\u001b[39m\n\u001b[32m   1281\u001b[39m     \u001b[38;5;28;01mif\u001b[39;00m flags != \u001b[32m0\u001b[39m:\n\u001b[32m   1282\u001b[39m         \u001b[38;5;28;01mraise\u001b[39;00m \u001b[38;5;167;01mValueError\u001b[39;00m(\n\u001b[32m   1283\u001b[39m             \u001b[33m\"\u001b[39m\u001b[33mnon-zero flags not allowed in calls to recv() on \u001b[39m\u001b[38;5;132;01m%s\u001b[39;00m\u001b[33m\"\u001b[39m %\n\u001b[32m   1284\u001b[39m             \u001b[38;5;28mself\u001b[39m.\u001b[34m__class__\u001b[39m)\n\u001b[32m-> \u001b[39m\u001b[32m1285\u001b[39m     \u001b[38;5;28;01mreturn\u001b[39;00m \u001b[38;5;28;43mself\u001b[39;49m\u001b[43m.\u001b[49m\u001b[43mread\u001b[49m\u001b[43m(\u001b[49m\u001b[43mbuflen\u001b[49m\u001b[43m)\u001b[49m\n\u001b[32m   1286\u001b[39m \u001b[38;5;28;01melse\u001b[39;00m:\n\u001b[32m   1287\u001b[39m     \u001b[38;5;28;01mreturn\u001b[39;00m \u001b[38;5;28msuper\u001b[39m().recv(buflen, flags)\n",
            "\u001b[36mFile \u001b[39m\u001b[32m~/.local/share/uv/python/cpython-3.13.3-macos-aarch64-none/lib/python3.13/ssl.py:1140\u001b[39m, in \u001b[36mSSLSocket.read\u001b[39m\u001b[34m(self, len, buffer)\u001b[39m\n\u001b[32m   1138\u001b[39m         \u001b[38;5;28;01mreturn\u001b[39;00m \u001b[38;5;28mself\u001b[39m._sslobj.read(\u001b[38;5;28mlen\u001b[39m, buffer)\n\u001b[32m   1139\u001b[39m     \u001b[38;5;28;01melse\u001b[39;00m:\n\u001b[32m-> \u001b[39m\u001b[32m1140\u001b[39m         \u001b[38;5;28;01mreturn\u001b[39;00m \u001b[38;5;28;43mself\u001b[39;49m\u001b[43m.\u001b[49m\u001b[43m_sslobj\u001b[49m\u001b[43m.\u001b[49m\u001b[43mread\u001b[49m\u001b[43m(\u001b[49m\u001b[38;5;28;43mlen\u001b[39;49m\u001b[43m)\u001b[49m\n\u001b[32m   1141\u001b[39m \u001b[38;5;28;01mexcept\u001b[39;00m SSLError \u001b[38;5;28;01mas\u001b[39;00m x:\n\u001b[32m   1142\u001b[39m     \u001b[38;5;28;01mif\u001b[39;00m x.args[\u001b[32m0\u001b[39m] == SSL_ERROR_EOF \u001b[38;5;129;01mand\u001b[39;00m \u001b[38;5;28mself\u001b[39m.suppress_ragged_eofs:\n",
            "\u001b[31mKeyboardInterrupt\u001b[39m: "
          ]
        }
      ],
      "source": [
        "from langchain_community.vectorstores import Qdrant\n",
        "from langchain_openai import OpenAIEmbeddings\n",
        "\n",
        "embeddings = OpenAIEmbeddings(model=\"text-embedding-3-small\")\n",
        "\n",
        "vectorstore = Qdrant.from_documents(\n",
        "    loan_complaint_data,\n",
        "    embeddings,\n",
        "    location=\":memory:\",\n",
        "    collection_name=\"LoanComplaints\"\n",
        ")"
      ]
    },
    {
      "cell_type": "markdown",
      "metadata": {
        "id": "-x2SS4Rh0hiN"
      },
      "source": [
        "## Task 4: Naive RAG Chain\n",
        "\n",
        "Since we're focusing on the \"R\" in RAG today - we'll create our Retriever first."
      ]
    },
    {
      "cell_type": "markdown",
      "metadata": {
        "id": "NEH7X5Ai08FH"
      },
      "source": [
        "### R - Retrieval\n",
        "\n",
        "This naive retriever will simply look at each review as a document, and use cosine-similarity to fetch the 10 most relevant documents.\n",
        "\n",
        "> NOTE: We're choosing `10` as our `k` here to provide enough documents for our reranking process later"
      ]
    },
    {
      "cell_type": "code",
      "execution_count": null,
      "metadata": {
        "id": "GFDPrNBtb72o"
      },
      "outputs": [],
      "source": [
        "naive_retriever = vectorstore.as_retriever(search_kwargs={\"k\" : 10})"
      ]
    },
    {
      "cell_type": "markdown",
      "metadata": {
        "id": "MbBhyQjz06dx"
      },
      "source": [
        "### A - Augmented\n",
        "\n",
        "We're going to go with a standard prompt for our simple RAG chain today! Nothing fancy here, we want this to mostly be about the Retrieval process."
      ]
    },
    {
      "cell_type": "code",
      "execution_count": null,
      "metadata": {
        "id": "7uSz-Dbqcoki"
      },
      "outputs": [],
      "source": [
        "from langchain_core.prompts import ChatPromptTemplate\n",
        "\n",
        "RAG_TEMPLATE = \"\"\"\\\n",
        "You are a helpful and kind assistant. Use the context provided below to answer the question.\n",
        "\n",
        "If you do not know the answer, or are unsure, say you don't know.\n",
        "\n",
        "Query:\n",
        "{question}\n",
        "\n",
        "Context:\n",
        "{context}\n",
        "\"\"\"\n",
        "\n",
        "rag_prompt = ChatPromptTemplate.from_template(RAG_TEMPLATE)"
      ]
    },
    {
      "cell_type": "markdown",
      "metadata": {
        "id": "BlRzpb231GGJ"
      },
      "source": [
        "### G - Generation\n",
        "\n",
        "We're going to leverage `gpt-4.1-nano` as our LLM today, as - again - we want this to largely be about the Retrieval process."
      ]
    },
    {
      "cell_type": "code",
      "execution_count": null,
      "metadata": {
        "id": "c-1t9H60dJLg"
      },
      "outputs": [],
      "source": [
        "from langchain_openai import ChatOpenAI\n",
        "\n",
        "chat_model = ChatOpenAI(model=\"gpt-4.1-nano\")"
      ]
    },
    {
      "cell_type": "markdown",
      "metadata": {
        "id": "mg3QRGzA1M2x"
      },
      "source": [
        "### LCEL RAG Chain\n",
        "\n",
        "We're going to use LCEL to construct our chain.\n",
        "\n",
        "> NOTE: This chain will be exactly the same across the various examples with the exception of our Retriever!"
      ]
    },
    {
      "cell_type": "code",
      "execution_count": null,
      "metadata": {
        "id": "0bvstS7mdOW3"
      },
      "outputs": [],
      "source": [
        "from langchain_core.runnables import RunnablePassthrough\n",
        "from operator import itemgetter\n",
        "from langchain_core.output_parsers import StrOutputParser\n",
        "\n",
        "naive_retrieval_chain = (\n",
        "    # INVOKE CHAIN WITH: {\"question\" : \"<<SOME USER QUESTION>>\"}\n",
        "    # \"question\" : populated by getting the value of the \"question\" key\n",
        "    # \"context\"  : populated by getting the value of the \"question\" key and chaining it into the base_retriever\n",
        "    {\"context\": itemgetter(\"question\") | naive_retriever, \"question\": itemgetter(\"question\")}\n",
        "    # \"context\"  : is assigned to a RunnablePassthrough object (will not be called or considered in the next step)\n",
        "    #              by getting the value of the \"context\" key from the previous step\n",
        "    | RunnablePassthrough.assign(context=itemgetter(\"context\"))\n",
        "    # \"response\" : the \"context\" and \"question\" values are used to format our prompt object and then piped\n",
        "    #              into the LLM and stored in a key called \"response\"\n",
        "    # \"context\"  : populated by getting the value of the \"context\" key from the previous step\n",
        "    | {\"response\": rag_prompt | chat_model, \"context\": itemgetter(\"context\")}\n",
        ")"
      ]
    },
    {
      "cell_type": "markdown",
      "metadata": {
        "id": "izKujhNb1ZG8"
      },
      "source": [
        "Let's see how this simple chain does on a few different prompts.\n",
        "\n",
        "> NOTE: You might think that we've cherry picked prompts that showcase the individual skill of each of the retrieval strategies - you'd be correct!"
      ]
    },
    {
      "cell_type": "code",
      "execution_count": null,
      "metadata": {
        "colab": {
          "base_uri": "https://localhost:8080/",
          "height": 36
        },
        "id": "LI-5ueEddku9",
        "outputId": "7f3cec18-5f4e-41bb-cf71-51ba0be5388e"
      },
      "outputs": [
        {
          "data": {
            "text/plain": [
              "'Based on the provided context, the most common issues with loans appear to involve errors and mismanagement related to loan balances, payments, or information. Specific issues include:\\n\\n- Errors in loan balances, misapplied payments, or wrongful denials of payment plans.\\n- Incorrect information on credit reports, such as wrongful delinquency reporting.\\n- Problems with how payments are being handled, including restrictions on applying funds to principal or paying off loans faster.\\n- Discrepancies in loan amounts, balances, and interest, often growing despite payments.\\n- Unethical practices like improper transfer of loans, lack of transparency, and failure to communicate changes.\\n- Problems with loan sale and transfer notifications.\\n- Disputes over false or misleading information and violations of privacy laws.\\n\\nGiven this, one of the most common issues appears to be **\"Dealing with the lender or servicer\"**, especially involving errors, mismanagement, or lack of transparency. \\n\\nPlease note, issues with loan balances, incorrect reporting, and handling of payments are recurring themes in these complaints.\\n\\nIf you need a specific summary or focus on a particular aspect, let me know!'"
            ]
          },
          "execution_count": 11,
          "metadata": {},
          "output_type": "execute_result"
        }
      ],
      "source": [
        "naive_retrieval_chain.invoke({\"question\" : \"What is the most common issue with loans?\"})[\"response\"].content"
      ]
    },
    {
      "cell_type": "code",
      "execution_count": null,
      "metadata": {
        "colab": {
          "base_uri": "https://localhost:8080/",
          "height": 36
        },
        "id": "43zdcdUydtXh",
        "outputId": "db874e67-f568-4ed1-b863-b7c17b387052"
      },
      "outputs": [
        {
          "data": {
            "text/plain": [
              "'Based on the provided complaints, yes, some complaints were not handled in a timely manner. For example:\\n\\n- One complaint submitted to MOHELA on 03/28/25 was marked as \"Not timely\" response, indicating it was handled late.\\n- Multiple complaints indicate delays or failure to resolve issues promptly, such as an unresolved dispute for over 1 year or responses marked as \"None\" or \"Closed with explanation\" despite ongoing issues.\\n\\nTherefore, there is evidence that some complaints did not get handled promptly.'"
            ]
          },
          "execution_count": 12,
          "metadata": {},
          "output_type": "execute_result"
        }
      ],
      "source": [
        "naive_retrieval_chain.invoke({\"question\" : \"Did any complaints not get handled in a timely manner?\"})[\"response\"].content"
      ]
    },
    {
      "cell_type": "code",
      "execution_count": null,
      "metadata": {
        "colab": {
          "base_uri": "https://localhost:8080/",
          "height": 70
        },
        "id": "lpG6rlvvvKFq",
        "outputId": "a1b330b0-628e-41be-d829-9c1d55e781f5"
      },
      "outputs": [
        {
          "data": {
            "text/plain": [
              "\"People often fail to pay back their loans due to a combination of financial hardships, mismanagement, lack of clear communication, and unmanageable interest accumulation. Based on the provided complaints:\\n\\n- Many borrowers are unable to increase their payments without jeopardizing their ability to cover basic living expenses such as bills, food, and transportation.\\n- Loan interest continues to accumulate even when in forbearance or deferment, increasing the total amount owed over time and extending the payoff period.\\n- Borrowers report not being adequately informed or notified about loan status changes, transfers between servicers, or obligations, leading to missed payments or credit reporting errors.\\n- Some borrowers' loans were mismanaged or transferred without proper notification; they were unaware of payment resumption or owed amounts, resulting in delinquency and negative credit impacts.\\n- Certain repayment plans or inability to apply extra payments directly to the principal further prolong debt duration.\\n- Overall, these issues create a cycle where borrowers feel trapped, with their debt growing due to high interest, lack of effective communication, or insufficient support in managing repayment plans.\\n\\nIn essence, failure to pay back loans often stems from the combination of external economic factors, predatory or opaque loan servicing practices, and borrowers' limited resources and understanding of their repayment options.\""
            ]
          },
          "execution_count": 13,
          "metadata": {},
          "output_type": "execute_result"
        }
      ],
      "source": [
        "naive_retrieval_chain.invoke({\"question\" : \"Why did people fail to pay back their loans?\"})[\"response\"].content"
      ]
    },
    {
      "cell_type": "markdown",
      "metadata": {
        "id": "jsbfQmbr1leg"
      },
      "source": [
        "Overall, this is not bad! Let's see if we can make it better!"
      ]
    },
    {
      "cell_type": "markdown",
      "metadata": {
        "id": "Ft1vt8HPR16w"
      },
      "source": [
        "## Task 5: Best-Matching 25 (BM25) Retriever\n",
        "\n",
        "Taking a step back in time - [BM25](https://www.nowpublishers.com/article/Details/INR-019) is based on [Bag-Of-Words](https://en.wikipedia.org/wiki/Bag-of-words_model) which is a sparse representation of text.\n",
        "\n",
        "In essence, it's a way to compare how similar two pieces of text are based on the words they both contain.\n",
        "\n",
        "This retriever is very straightforward to set-up! Let's see it happen down below!\n"
      ]
    },
    {
      "cell_type": "code",
      "execution_count": null,
      "metadata": {
        "id": "qdF4wuj5R-cG"
      },
      "outputs": [],
      "source": [
        "from langchain_community.retrievers import BM25Retriever\n",
        "\n",
        "bm25_retriever = BM25Retriever.from_documents(loan_complaint_data, )"
      ]
    },
    {
      "cell_type": "markdown",
      "metadata": {
        "id": "KIjJlBQ8drKH"
      },
      "source": [
        "We'll construct the same chain - only changing the retriever."
      ]
    },
    {
      "cell_type": "code",
      "execution_count": null,
      "metadata": {
        "id": "WR15EQG7SLuw"
      },
      "outputs": [],
      "source": [
        "bm25_retrieval_chain = (\n",
        "    {\"context\": itemgetter(\"question\") | bm25_retriever, \"question\": itemgetter(\"question\")}\n",
        "    | RunnablePassthrough.assign(context=itemgetter(\"context\"))\n",
        "    | {\"response\": rag_prompt | chat_model, \"context\": itemgetter(\"context\")}\n",
        ")"
      ]
    },
    {
      "cell_type": "markdown",
      "metadata": {
        "id": "0Gi-yXCDdvJk"
      },
      "source": [
        "Let's look at the responses!"
      ]
    },
    {
      "cell_type": "code",
      "execution_count": null,
      "metadata": {
        "colab": {
          "base_uri": "https://localhost:8080/",
          "height": 53
        },
        "id": "oY9qzmm3SOrF",
        "outputId": "4d4f450f-5978-460f-f242-b32407868353"
      },
      "outputs": [
        {
          "data": {
            "text/plain": [
              "'The most common issue with loans, based on the provided complaints, appears to be problems dealing with lenders or servicers, such as disputes over fees, applying payments correctly, or obtaining accurate information about the loan. A specific recurring issue is the difficulty in managing payments—such as applying extra funds to principal— and receiving incomplete or incorrect information about loan balances or terms. Many complaints also involve feeling misled or experiencing delays in service and communication.'"
            ]
          },
          "execution_count": 16,
          "metadata": {},
          "output_type": "execute_result"
        }
      ],
      "source": [
        "bm25_retrieval_chain.invoke({\"question\" : \"What is the most common issue with loans?\"})[\"response\"].content"
      ]
    },
    {
      "cell_type": "code",
      "execution_count": null,
      "metadata": {
        "colab": {
          "base_uri": "https://localhost:8080/",
          "height": 36
        },
        "id": "igfinyneSQkh",
        "outputId": "9752d4a9-dd16-45b1-f63f-a76e93a05eb3"
      },
      "outputs": [
        {
          "data": {
            "text/plain": [
              "'Based on the provided information, all the complaints in the context received timely responses from the companies. Specifically, the complaints that detail ongoing issues mention that the companies responded \"Closed with explanation\" and were marked as \"Timely response? Yes.\" Therefore, it appears that no complaints were left unhandled in a timely manner.'"
            ]
          },
          "execution_count": 17,
          "metadata": {},
          "output_type": "execute_result"
        }
      ],
      "source": [
        "bm25_retrieval_chain.invoke({\"question\" : \"Did any complaints not get handled in a timely manner?\"})[\"response\"].content"
      ]
    },
    {
      "cell_type": "code",
      "execution_count": null,
      "metadata": {
        "colab": {
          "base_uri": "https://localhost:8080/",
          "height": 53
        },
        "id": "w0H7pV_USSMQ",
        "outputId": "bdead654-3109-4143-9a30-e1d6ca8dc534"
      },
      "outputs": [
        {
          "data": {
            "text/plain": [
              "'People failed to pay back their loans for various reasons, including issues with payment plans, miscommunication or lack of communication from lenders or servicers, technical problems with payments (such as payments being reversed or not processed), and sometimes because they were not properly informed about changes or statuses of their loans. In some cases, borrowers were led into incorrect repayment or forbearance options, and others experienced automated or administrative errors that prevented their payments from being properly processed or acknowledged. Additionally, some borrowers cited being unaware of transfers between loan servicers and not receiving important notifications, which contributed to missed or delayed payments.'"
            ]
          },
          "execution_count": 18,
          "metadata": {},
          "output_type": "execute_result"
        }
      ],
      "source": [
        "bm25_retrieval_chain.invoke({\"question\" : \"Why did people fail to pay back their loans?\"})[\"response\"].content"
      ]
    },
    {
      "cell_type": "markdown",
      "metadata": {
        "id": "zvg5xHaUdxCl"
      },
      "source": [
        "It's not clear that this is better or worse, if only we had a way to test this (SPOILERS: We do, the second half of the notebook will cover this)"
      ]
    },
    {
      "cell_type": "markdown",
      "metadata": {},
      "source": [
        "#### ❓ Question #1:\n",
        "\n",
        "Give an example query where BM25 is better than embeddings and justify your answer.\n",
        "\n",
        "#### Answer:\n",
        "\n",
        "Named entities - companies, addresses, people, etc.\n",
        "Embeddings of named entities can actually be misleading (imagine the embedding for Apple). Keyword search is a more direct way to retrieve data for named entities."
      ]
    },
    {
      "cell_type": "markdown",
      "metadata": {
        "id": "Q-dcbFn2vpZF"
      },
      "source": [
        "## Task 6: Contextual Compression (Using Reranking)\n",
        "\n",
        "Contextual Compression is a fairly straightforward idea: We want to \"compress\" our retrieved context into just the most useful bits.\n",
        "\n",
        "There are a few ways we can achieve this - but we're going to look at a specific example called reranking.\n",
        "\n",
        "The basic idea here is this:\n",
        "\n",
        "- We retrieve lots of documents that are very likely related to our query vector\n",
        "- We \"compress\" those documents into a smaller set of *more* related documents using a reranking algorithm.\n",
        "\n",
        "We'll be leveraging Cohere's Rerank model for our reranker today!\n",
        "\n",
        "All we need to do is the following:\n",
        "\n",
        "- Create a basic retriever\n",
        "- Create a compressor (reranker, in this case)\n",
        "\n",
        "That's it!\n",
        "\n",
        "Let's see it in the code below!"
      ]
    },
    {
      "cell_type": "code",
      "execution_count": null,
      "metadata": {
        "id": "psHvO2K1v_ZQ"
      },
      "outputs": [],
      "source": [
        "from langchain.retrievers.contextual_compression import ContextualCompressionRetriever\n",
        "from langchain_cohere import CohereRerank\n",
        "\n",
        "compressor = CohereRerank(model=\"rerank-v3.5\")\n",
        "compression_retriever = ContextualCompressionRetriever(\n",
        "    base_compressor=compressor, base_retriever=naive_retriever\n",
        ")"
      ]
    },
    {
      "cell_type": "markdown",
      "metadata": {
        "id": "_TA9RB2x-j7P"
      },
      "source": [
        "Let's create our chain again, and see how this does!"
      ]
    },
    {
      "cell_type": "code",
      "execution_count": null,
      "metadata": {
        "id": "1BXqmxvHwX6T"
      },
      "outputs": [],
      "source": [
        "contextual_compression_retrieval_chain = (\n",
        "    {\"context\": itemgetter(\"question\") | compression_retriever, \"question\": itemgetter(\"question\")}\n",
        "    | RunnablePassthrough.assign(context=itemgetter(\"context\"))\n",
        "    | {\"response\": rag_prompt | chat_model, \"context\": itemgetter(\"context\")}\n",
        ")"
      ]
    },
    {
      "cell_type": "code",
      "execution_count": null,
      "metadata": {
        "colab": {
          "base_uri": "https://localhost:8080/",
          "height": 36
        },
        "id": "V3iGpokswcBb",
        "outputId": "f15d2aa1-5e8b-417d-f623-eb835d072e59"
      },
      "outputs": [
        {
          "data": {
            "text/plain": [
              "'Based on the provided context, the most common issue with loans appears to be problems related to dealing with lenders or servicers, including errors and mismanagement such as incorrect information, misapplied payments, unauthorized transfers, and lack of communication. Specifically, for student loans, issues like incorrect balances, untransparent interest calculations, mishandling of data, and violations of privacy laws are prominent. Overall, miscommunication, errors, and mishandling by loan servicers seem to be the most frequent issues reported.'"
            ]
          },
          "execution_count": 21,
          "metadata": {},
          "output_type": "execute_result"
        }
      ],
      "source": [
        "contextual_compression_retrieval_chain.invoke({\"question\" : \"What is the most common issue with loans?\"})[\"response\"].content"
      ]
    },
    {
      "cell_type": "code",
      "execution_count": null,
      "metadata": {
        "colab": {
          "base_uri": "https://localhost:8080/",
          "height": 53
        },
        "id": "7u_k0i4OweUd",
        "outputId": "be5fccc8-2352-4189-c524-bbeaa28cf799"
      },
      "outputs": [
        {
          "data": {
            "text/plain": [
              "'Based on the provided information, at least one complaint did not get handled in a timely manner. Specifically, the complaint from the individual regarding their student loan account issues has been open for over a year and a half (nearly 18 months) without resolution, despite claims of waiting for responses and attempting multiple follow-ups. The complaint from the other individual regarding issues with payments not appearing on their account appears to have been responded to by the company within a timely manner, as indicated by the \"Timely response?\": \"Yes\" statement.\\n\\nTherefore, yes, some complaints, like the one involving the nearly 18-month unresolved issue, were not handled in a timely manner.'"
            ]
          },
          "execution_count": 22,
          "metadata": {},
          "output_type": "execute_result"
        }
      ],
      "source": [
        "contextual_compression_retrieval_chain.invoke({\"question\" : \"Did any complaints not get handled in a timely manner?\"})[\"response\"].content"
      ]
    },
    {
      "cell_type": "code",
      "execution_count": null,
      "metadata": {
        "colab": {
          "base_uri": "https://localhost:8080/",
          "height": 70
        },
        "id": "zn1EqaGqweXN",
        "outputId": "42bc5972-4164-46eb-f49d-4272f39bb89b"
      },
      "outputs": [
        {
          "data": {
            "text/plain": [
              "\"People failed to pay back their loans primarily due to several issues highlighted in the complaints:\\n\\n1. Lack of Clear Information: Borrowers were often not properly informed by financial aid officers or loan servicers about the requirement to repay loans, leading to unawareness of repayment obligations.\\n\\n2. Administrative and Communication Issues: Changes in loan servicers (e.g., transfers without notice), failure to notify borrowers about payment due dates, or updates, and difficulty accessing accurate information online hindered borrowers from making timely payments.\\n\\n3. Problematic Loan Management: Many borrowers experienced discrepancies in their account information, continued interest accrual even during deferment or forbearance, and were unable to receive detailed breakdowns of their loans' interest and balance, making it difficult to understand or manage their debt.\\n\\n4. Limited Payment Options and High Interest: The available options, such as forbearance or deferment, caused interest to accrue rapidly, often negating any payments made and extending the loan payoff period. Borrowers felt their payments were insufficient or unmanageable due to rising interest and stagnant wages.\\n\\n5. Economic Hardship and Misleading Assumptions: Borrowers, especially those not eligible for forgiveness programs, faced financial hardships that made consistent repayment challenging. Many were misled about the affordability and terms of their loans at the outset.\\n\\nIn summary, the failure to pay back loans was largely due to a combination of inadequate communication, administrative issues, unfavorable loan management practices that increased the total debt, and economic difficulties faced by borrowers.\""
            ]
          },
          "execution_count": 23,
          "metadata": {},
          "output_type": "execute_result"
        }
      ],
      "source": [
        "contextual_compression_retrieval_chain.invoke({\"question\" : \"Why did people fail to pay back their loans?\"})[\"response\"].content"
      ]
    },
    {
      "cell_type": "markdown",
      "metadata": {
        "id": "OEbT0g2S-mZ4"
      },
      "source": [
        "We'll need to rely on something like Ragas to help us get a better sense of how this is performing overall - but it \"feels\" better!"
      ]
    },
    {
      "cell_type": "markdown",
      "metadata": {
        "id": "qqbghrBEQNn5"
      },
      "source": [
        "## Task 7: Multi-Query Retriever\n",
        "\n",
        "Typically in RAG we have a single query - the one provided by the user.\n",
        "\n",
        "What if we had....more than one query!\n",
        "\n",
        "In essence, a Multi-Query Retriever works by:\n",
        "\n",
        "1. Taking the original user query and creating `n` number of new user queries using an LLM.\n",
        "2. Retrieving documents for each query.\n",
        "3. Using all unique retrieved documents as context\n",
        "\n",
        "So, how is it to set-up? Not bad! Let's see it down below!\n",
        "\n"
      ]
    },
    {
      "cell_type": "code",
      "execution_count": null,
      "metadata": {
        "id": "pfM26ReXQjzU"
      },
      "outputs": [],
      "source": [
        "from langchain.retrievers.multi_query import MultiQueryRetriever\n",
        "\n",
        "multi_query_retriever = MultiQueryRetriever.from_llm(\n",
        "    retriever=naive_retriever, llm=chat_model\n",
        ")"
      ]
    },
    {
      "cell_type": "code",
      "execution_count": null,
      "metadata": {
        "id": "1vRc129jQ5WW"
      },
      "outputs": [],
      "source": [
        "multi_query_retrieval_chain = (\n",
        "    {\"context\": itemgetter(\"question\") | multi_query_retriever, \"question\": itemgetter(\"question\")}\n",
        "    | RunnablePassthrough.assign(context=itemgetter(\"context\"))\n",
        "    | {\"response\": rag_prompt | chat_model, \"context\": itemgetter(\"context\")}\n",
        ")"
      ]
    },
    {
      "cell_type": "code",
      "execution_count": null,
      "metadata": {
        "colab": {
          "base_uri": "https://localhost:8080/",
          "height": 53
        },
        "id": "CGgNuOb3Q3M9",
        "outputId": "c5273ecf-da35-40b8-fbdb-0f8beab425f7"
      },
      "outputs": [
        {
          "data": {
            "text/plain": [
              "'The most common issue with loans appears to be problems related to servicing and management of the loans, including errors in loan balances, misapplied payments, improper reporting of delinquency or default, lack of communication from servicers, and difficulties in obtaining accurate and transparent information about the loan terms and status. Many complaints also involve issues with how payments are handled, incorrect credit reporting, and servicing failures that lead to financial hardship for borrowers.'"
            ]
          },
          "execution_count": 26,
          "metadata": {},
          "output_type": "execute_result"
        }
      ],
      "source": [
        "multi_query_retrieval_chain.invoke({\"question\" : \"What is the most common issue with loans?\"})[\"response\"].content"
      ]
    },
    {
      "cell_type": "code",
      "execution_count": null,
      "metadata": {
        "colab": {
          "base_uri": "https://localhost:8080/",
          "height": 36
        },
        "id": "aAlSthxrRDBC",
        "outputId": "230ff807-23ae-4d25-8d11-cfdbed0b77cb"
      },
      "outputs": [
        {
          "data": {
            "text/plain": [
              "'Based on the provided complaints, yes, some complaints indicate that issues were not handled in a timely manner. For example:\\n\\n- One complaint from EdFinancial Services (Complaint ID: 12709087) was marked \"No\" under timely response, meaning it was not addressed within the expected timeframe, with a delay of over 2-3 weeks.\\n- Another complaint from MOHELA (Complaint ID: 12654977) was also marked \"No\" for timely response, with wait times exceeding 3 hours and no reply after multiple follow-ups.\\n- Several complaints from Maximus Federal Services (Aidvantage) mention delays and lack of response over periods of over a year, indicating persistent handling delays.\\n\\nTherefore, the answer is: Yes, some complaints did not get handled in a timely manner.'"
            ]
          },
          "execution_count": 27,
          "metadata": {},
          "output_type": "execute_result"
        }
      ],
      "source": [
        "multi_query_retrieval_chain.invoke({\"question\" : \"Did any complaints not get handled in a timely manner?\"})[\"response\"].content"
      ]
    },
    {
      "cell_type": "code",
      "execution_count": null,
      "metadata": {
        "colab": {
          "base_uri": "https://localhost:8080/",
          "height": 88
        },
        "id": "Uv1mpCK8REs4",
        "outputId": "00fbc22a-ed9b-4613-9695-0b179e3f8369"
      },
      "outputs": [
        {
          "data": {
            "text/plain": [
              "'People failed to pay back their loans primarily due to a combination of factors highlighted in the complaints and narratives:\\n\\n1. Lack of clear and adequate information from lenders and servicers about repayment obligations, interest accrual, and available repayment options, leading to unintentional delinquency.\\n2. Mismanagement and errors by loan servicers, such as misapplied or missing payments, incorrect account reporting, or delays in updating account statuses, which negatively impacted credit scores and caused confusion.\\n3. High interest rates, especially when interest continued to accrue during forbearance or deferment, making repayment more difficult and extending the payoff period.\\n4. Insufficient communication regarding loan transfers, changes in servicers, or resumption of payments, resulting in borrowers being unaware of when repayment was due or how to manage their loans.\\n5. Limited access to or knowledge of alternative repayment plans such as income-driven repayment options, rehabilitation, or forgiveness programs, which could have made repayment more manageable.\\n6. Psychological and financial hardships such as homelessness, unemployment, health issues, or unexpected personal circumstances, which hindered borrowers’ ability to make payments.\\n7. Predatory practices like steering into long-term forbearances, coercive consolidation, or misapplication of payments, which increased overall debt and impeded repayment efforts.\\n\\nOverall, systemic issues, poor communication, mishandling of accounts, and borrowers’ unforeseen financial hardships contributed to many people’s inability to pay back their loans on time.'"
            ]
          },
          "execution_count": 28,
          "metadata": {},
          "output_type": "execute_result"
        }
      ],
      "source": [
        "multi_query_retrieval_chain.invoke({\"question\" : \"Why did people fail to pay back their loans?\"})[\"response\"].content"
      ]
    },
    {
      "cell_type": "markdown",
      "metadata": {},
      "source": [
        "#### ❓ Question #2:\n",
        "\n",
        "Explain how generating multiple reformulations of a user query can improve recall.\n",
        "\n",
        "#### Answer:\n",
        "\n",
        "Imagine you have 10 golden chunks in the vector DB. Each version of the user query may have an 80% probability of retrieving all the golden chunks, so each might pull 8 golden chunks. With n versions you have a 1 - (0.2)^n probability of getting all golden chunks (that probability is equal to the probability across a test set)."
      ]
    },
    {
      "cell_type": "markdown",
      "metadata": {
        "id": "EDEawBf_d_3G"
      },
      "source": [
        "## Task 8: Parent Document Retriever\n",
        "\n",
        "A \"small-to-big\" strategy - the Parent Document Retriever works based on a simple strategy:\n",
        "\n",
        "1. Each un-split \"document\" will be designated as a \"parent document\" (You could use larger chunks of document as well, but our data format allows us to consider the overall document as the parent chunk)\n",
        "2. Store those \"parent documents\" in a memory store (not a VectorStore)\n",
        "3. We will chunk each of those documents into smaller documents, and associate them with their respective parents, and store those in a VectorStore. We'll call those \"child chunks\".\n",
        "4. When we query our Retriever, we will do a similarity search comparing our query vector to the \"child chunks\".\n",
        "5. Instead of returning the \"child chunks\", we'll return their associated \"parent chunks\".\n",
        "\n",
        "Okay, maybe that was a few steps - but the basic idea is this:\n",
        "\n",
        "- Search for small documents\n",
        "- Return big documents\n",
        "\n",
        "The intuition is that we're likely to find the most relevant information by limiting the amount of semantic information that is encoded in each embedding vector - but we're likely to miss relevant surrounding context if we only use that information.\n",
        "\n",
        "Let's start by creating our \"parent documents\" and defining a `RecursiveCharacterTextSplitter`."
      ]
    },
    {
      "cell_type": "code",
      "execution_count": null,
      "metadata": {
        "id": "qJ53JJuMd_ZH"
      },
      "outputs": [],
      "source": [
        "from langchain.retrievers import ParentDocumentRetriever\n",
        "from langchain.storage import InMemoryStore\n",
        "from langchain_text_splitters import RecursiveCharacterTextSplitter\n",
        "from qdrant_client import QdrantClient, models\n",
        "\n",
        "parent_docs = loan_complaint_data\n",
        "child_splitter = RecursiveCharacterTextSplitter(chunk_size=750)"
      ]
    },
    {
      "cell_type": "markdown",
      "metadata": {
        "id": "oOpXfVUH3gL3"
      },
      "source": [
        "We'll need to set up a new QDrant vectorstore - and we'll use another useful pattern to do so!\n",
        "\n",
        "> NOTE: We are manually defining our embedding dimension, you'll need to change this if you're using a different embedding model."
      ]
    },
    {
      "cell_type": "code",
      "execution_count": null,
      "metadata": {
        "colab": {
          "base_uri": "https://localhost:8080/"
        },
        "id": "rzFc-_9HlGQ-",
        "outputId": "223662dd-c36f-42f7-d1b0-b086e571484e"
      },
      "outputs": [],
      "source": [
        "from langchain_qdrant import QdrantVectorStore\n",
        "\n",
        "client = QdrantClient(location=\":memory:\")\n",
        "\n",
        "client.create_collection(\n",
        "    collection_name=\"full_documents\",\n",
        "    vectors_config=models.VectorParams(size=1536, distance=models.Distance.COSINE)\n",
        ")\n",
        "\n",
        "parent_document_vectorstore = QdrantVectorStore(\n",
        "    collection_name=\"full_documents\", embedding=OpenAIEmbeddings(model=\"text-embedding-3-small\"), client=client\n",
        ")"
      ]
    },
    {
      "cell_type": "markdown",
      "metadata": {
        "id": "sf_g95FA3s6w"
      },
      "source": [
        "Now we can create our `InMemoryStore` that will hold our \"parent documents\" - and build our retriever!"
      ]
    },
    {
      "cell_type": "code",
      "execution_count": null,
      "metadata": {
        "id": "BpWVjPf4fLUp"
      },
      "outputs": [],
      "source": [
        "store = InMemoryStore()\n",
        "\n",
        "parent_document_retriever = ParentDocumentRetriever(\n",
        "    vectorstore = parent_document_vectorstore,\n",
        "    docstore=store,\n",
        "    child_splitter=child_splitter,\n",
        ")"
      ]
    },
    {
      "cell_type": "markdown",
      "metadata": {
        "id": "KoYmSWfE32Zo"
      },
      "source": [
        "By default, this is empty as we haven't added any documents - let's add some now!"
      ]
    },
    {
      "cell_type": "code",
      "execution_count": null,
      "metadata": {
        "id": "iQ2ZzfKigMZc"
      },
      "outputs": [],
      "source": [
        "parent_document_retriever.add_documents(parent_docs, ids=None)"
      ]
    },
    {
      "cell_type": "markdown",
      "metadata": {
        "id": "bI7Tip1335rE"
      },
      "source": [
        "We'll create the same chain we did before - but substitute our new `parent_document_retriever`."
      ]
    },
    {
      "cell_type": "code",
      "execution_count": null,
      "metadata": {
        "id": "Qq_adt2KlSqp"
      },
      "outputs": [],
      "source": [
        "parent_document_retrieval_chain = (\n",
        "    {\"context\": itemgetter(\"question\") | parent_document_retriever, \"question\": itemgetter(\"question\")}\n",
        "    | RunnablePassthrough.assign(context=itemgetter(\"context\"))\n",
        "    | {\"response\": rag_prompt | chat_model, \"context\": itemgetter(\"context\")}\n",
        ")"
      ]
    },
    {
      "cell_type": "markdown",
      "metadata": {
        "id": "jNolUVQb4Apt"
      },
      "source": [
        "Let's give it a whirl!"
      ]
    },
    {
      "cell_type": "code",
      "execution_count": null,
      "metadata": {
        "colab": {
          "base_uri": "https://localhost:8080/",
          "height": 70
        },
        "id": "TXB5i89Zly5W",
        "outputId": "94c240be-7c5b-4c58-9eee-56d93285a054"
      },
      "outputs": [
        {
          "data": {
            "text/plain": [
              "'The most common issue with loans, based on the provided complaints, appears to be related to errors in loan servicing, such as misreporting of account information, errors in loan balances, misapplied payments, wrongful denials of payment plans, and disputes over interest rates and fees. Many consumers also report misconduct by loan servicers, including incorrect or misleading information, unverified debt collection, and issues arising from loan transfers.'"
            ]
          },
          "execution_count": 34,
          "metadata": {},
          "output_type": "execute_result"
        }
      ],
      "source": [
        "parent_document_retrieval_chain.invoke({\"question\" : \"What is the most common issue with loans?\"})[\"response\"].content"
      ]
    },
    {
      "cell_type": "code",
      "execution_count": null,
      "metadata": {
        "colab": {
          "base_uri": "https://localhost:8080/",
          "height": 36
        },
        "id": "V5F1T-wNl3cg",
        "outputId": "9b81e72e-5db7-4b8a-b25b-400ea0df5335"
      },
      "outputs": [
        {
          "data": {
            "text/plain": [
              "'Based on the provided context, all the complaints listed were handled in a timely manner. Specifically, the complaint regarding dispute settlement with credit bureaus (Complaint ID: 13205525) was responded to within 30 days, which is generally considered timely. \\n\\nHowever, the complaints about issues with student loan processing, payment handling, and communication from Mohela (Complaint IDs: 12709087 and 12935889) explicitly indicate that responses were \"No\" or \"Closed with explanation\" but prior messages suggest these issues were not resolved promptly, and it was noted that some responses were delayed or not handled in a timely fashion.\\n\\nTherefore, yes, some complaints did not get handled in a timely manner, notably the ones involving Mohela, where responses were marked as \"No\" or lacking response within expected timeframes.'"
            ]
          },
          "execution_count": 35,
          "metadata": {},
          "output_type": "execute_result"
        }
      ],
      "source": [
        "parent_document_retrieval_chain.invoke({\"question\" : \"Did any complaints not get handled in a timely manner?\"})[\"response\"].content"
      ]
    },
    {
      "cell_type": "code",
      "execution_count": null,
      "metadata": {
        "colab": {
          "base_uri": "https://localhost:8080/",
          "height": 70
        },
        "id": "ZqARszGzvGcG",
        "outputId": "8867f83c-db13-4db4-d57f-9bd51d32cd8a"
      },
      "outputs": [
        {
          "data": {
            "text/plain": [
              "'People often fail to pay back their loans due to various reasons, including financial hardship, mismanagement, or lack of proper information or support. The provided complaints highlight some specific causes, such as:\\n\\n- Severe financial hardship post-graduation making it difficult to keep up with payments.\\n- Lack of clear communication from loan servicers regarding payment obligations, repayment start dates, or changes in terms.\\n- Misrepresentation or lack of transparency about the value of education, job prospects, and long-term financial consequences, leading to unexpected debt burdens.\\n- Problems with loan servicing practices, such as failure to notify borrowers about payments, changes in loan ownership, or issues with verification of debt legitimacy.\\n- Reliance on deferment and forbearance options that increase interest and complicate repayment.\\n- Additional complications like issues with credit reporting or legal questions about the legitimacy of the debts.\\n\\nIn summary, failure to repay loans can stem from financial difficulties, inadequate communication, misrepresentations, and operational problems within the lending and servicing systems.'"
            ]
          },
          "execution_count": 36,
          "metadata": {},
          "output_type": "execute_result"
        }
      ],
      "source": [
        "parent_document_retrieval_chain.invoke({\"question\" : \"Why did people fail to pay back their loans?\"})[\"response\"].content"
      ]
    },
    {
      "cell_type": "markdown",
      "metadata": {
        "id": "B41cj42s4DPM"
      },
      "source": [
        "Overall, the performance *seems* largely the same. We can leverage a tool like [Ragas]() to more effectively answer the question about the performance."
      ]
    },
    {
      "cell_type": "markdown",
      "metadata": {
        "id": "VUrIBKl_TwS9"
      },
      "source": [
        "## Task 9: Ensemble Retriever\n",
        "\n",
        "In brief, an Ensemble Retriever simply takes 2, or more, retrievers and combines their retrieved documents based on a rank-fusion algorithm.\n",
        "\n",
        "In this case - we're using the [Reciprocal Rank Fusion](https://plg.uwaterloo.ca/~gvcormac/cormacksigir09-rrf.pdf) algorithm.\n",
        "\n",
        "Setting it up is as easy as providing a list of our desired retrievers - and the weights for each retriever."
      ]
    },
    {
      "cell_type": "code",
      "execution_count": null,
      "metadata": {
        "id": "8j7jpZsKTxic"
      },
      "outputs": [],
      "source": [
        "from langchain.retrievers import EnsembleRetriever\n",
        "\n",
        "retriever_list = [bm25_retriever, naive_retriever, parent_document_retriever, compression_retriever, multi_query_retriever]\n",
        "equal_weighting = [1/len(retriever_list)] * len(retriever_list)\n",
        "\n",
        "ensemble_retriever = EnsembleRetriever(\n",
        "    retrievers=retriever_list, weights=equal_weighting\n",
        ")"
      ]
    },
    {
      "cell_type": "markdown",
      "metadata": {
        "id": "kpo9Psl5hhJ-"
      },
      "source": [
        "We'll pack *all* of these retrievers together in an ensemble."
      ]
    },
    {
      "cell_type": "code",
      "execution_count": null,
      "metadata": {
        "id": "KZ__EZwpUKkd"
      },
      "outputs": [],
      "source": [
        "ensemble_retrieval_chain = (\n",
        "    {\"context\": itemgetter(\"question\") | ensemble_retriever, \"question\": itemgetter(\"question\")}\n",
        "    | RunnablePassthrough.assign(context=itemgetter(\"context\"))\n",
        "    | {\"response\": rag_prompt | chat_model, \"context\": itemgetter(\"context\")}\n",
        ")"
      ]
    },
    {
      "cell_type": "markdown",
      "metadata": {
        "id": "SSsvHpRMj24L"
      },
      "source": [
        "Let's look at our results!"
      ]
    },
    {
      "cell_type": "code",
      "execution_count": null,
      "metadata": {
        "colab": {
          "base_uri": "https://localhost:8080/",
          "height": 70
        },
        "id": "0lMvqL88UQI-",
        "outputId": "d86dd5f7-0a13-4836-c0ce-cc4c431fd889"
      },
      "outputs": [
        {
          "data": {
            "text/plain": [
              "'The most common issue with loans, based on the complaints data provided, appears to be related to the mishandling and inaccuracies in loan servicing. Specifically, frequent issues include errors in loan balances, misapplied payments, wrongful default reporting, incorrect credit reporting, inadequate communication from servicers, and problems with loan transfer and data handling. Many complaints highlight failures to properly notify borrowers about default status, incorrect account statuses, and mishandling of applications for income-driven repayment or forgiveness programs. \\n\\nIn summary, the most common issue is **servicer misconduct involving errors, miscommunication, and improper handling of student loan accounts**.'"
            ]
          },
          "execution_count": 39,
          "metadata": {},
          "output_type": "execute_result"
        }
      ],
      "source": [
        "ensemble_retrieval_chain.invoke({\"question\" : \"What is the most common issue with loans?\"})[\"response\"].content"
      ]
    },
    {
      "cell_type": "code",
      "execution_count": null,
      "metadata": {
        "colab": {
          "base_uri": "https://localhost:8080/",
          "height": 53
        },
        "id": "MNFWLYECURI1",
        "outputId": "b17973b5-66a9-4481-97d5-880b5754b5c5"
      },
      "outputs": [
        {
          "data": {
            "text/plain": [
              "'Based on the provided data, yes, there are several complaints indicating that complaints were not handled in a timely manner. Specifically:\\n\\n- Complaint ID 12709087 (on 03/28/25): The complaint was marked \"Timely response?\": No, which suggests it was not handled promptly.\\n- Complaint ID 12935889 (on 04/11/25): The response was \"Closed with explanation\" but marked \"Timely response?\": No, indicating delays.\\n- Complaint ID 13062402 (on 04/18/25): The response was \"Closed with explanation\" with \"Timely response?\": Yes.\\n- Complaint ID 12650717 (on 03/25/25): Marked \"Timely response?\": No.\\n- Complaint ID 13001206 (on 04/16/25): Marked \"Timely response?\": Yes, but it was marked \"Closed with explanation.\"\\n- Several other complaints also show delays or inadequate follow-up, often marked \"Closed with explanation\" or with no response from the companies.\\n\\nOverall, multiple complaints explicitly state that they were not handled within the expected timeframe or that responses were delayed, indicating some complaints did not get handled in a timely manner.'"
            ]
          },
          "execution_count": 40,
          "metadata": {},
          "output_type": "execute_result"
        }
      ],
      "source": [
        "ensemble_retrieval_chain.invoke({\"question\" : \"Did any complaints not get handled in a timely manner?\"})[\"response\"].content"
      ]
    },
    {
      "cell_type": "code",
      "execution_count": null,
      "metadata": {
        "colab": {
          "base_uri": "https://localhost:8080/",
          "height": 88
        },
        "id": "A7qbHfWgUR4c",
        "outputId": "f7373144-59ef-4fc7-b75d-ca00e7df881e"
      },
      "outputs": [
        {
          "data": {
            "text/plain": [
              "'People failed to pay back their loans primarily due to factors such as:\\n\\n- Lack of adequate information about how interest compounds, leading to rising balances even when making payments.\\n- Limited or confusing communication from loan servicers about payment obligations, due dates, or changes in servicing companies.\\n- Financial hardships, including unemployment, low income, or unexpected expenses, making it difficult to afford payments.\\n- Mismanagement or misapplication of payments, often resulting in increased debt and poor credit outcomes.\\n- Unfair and often opaque repayment processes, including restrictions on paying down principal or paying more quickly, which prolongs debt.\\n- In some cases, borrowers were unaware of their upcoming repayment start dates or owed amounts due to inadequate notifications.\\n- Errors in loan balance reporting, account status, or incorrect transfers between servicers have contributed to confusion and difficulty in repayment.\\n- Borrowers also cited predatory practices, deceptive information, and failure to notify them of changes or delinquencies, which further impeded repayment efforts.\\n\\nOverall, systemic issues such as insufficient communication, lack of transparency, and economic hardship have led many borrowers to struggle with and sometimes fail to repay their student loans.'"
            ]
          },
          "execution_count": 41,
          "metadata": {},
          "output_type": "execute_result"
        }
      ],
      "source": [
        "ensemble_retrieval_chain.invoke({\"question\" : \"Why did people fail to pay back their loans?\"})[\"response\"].content"
      ]
    },
    {
      "cell_type": "markdown",
      "metadata": {
        "id": "MopbkNJAXVaN"
      },
      "source": [
        "## Task 10: Semantic Chunking\n",
        "\n",
        "While this is not a retrieval method - it *is* an effective way of increasing retrieval performance on corpora that have clean semantic breaks in them.\n",
        "\n",
        "Essentially, Semantic Chunking is implemented by:\n",
        "\n",
        "1. Embedding all sentences in the corpus.\n",
        "2. Combining or splitting sequences of sentences based on their semantic similarity based on a number of [possible thresholding methods](https://python.langchain.com/docs/how_to/semantic-chunker/):\n",
        "  - `percentile`\n",
        "  - `standard_deviation`\n",
        "  - `interquartile`\n",
        "  - `gradient`\n",
        "3. Each sequence of related sentences is kept as a document!\n",
        "\n",
        "Let's see how to implement this!"
      ]
    },
    {
      "cell_type": "markdown",
      "metadata": {
        "id": "U9ciZbFEldv_"
      },
      "source": [
        "We'll use the `percentile` thresholding method for this example which will:\n",
        "\n",
        "Calculate all distances between sentences, and then break apart sequences of setences that exceed a given percentile among all distances."
      ]
    },
    {
      "cell_type": "code",
      "execution_count": null,
      "metadata": {
        "id": "66EIEWiEYl5y"
      },
      "outputs": [],
      "source": [
        "from langchain_experimental.text_splitter import SemanticChunker\n",
        "\n",
        "semantic_chunker = SemanticChunker(\n",
        "    embeddings,\n",
        "    breakpoint_threshold_type=\"percentile\"\n",
        ")"
      ]
    },
    {
      "cell_type": "markdown",
      "metadata": {
        "id": "YqoKmz12mhRW"
      },
      "source": [
        "Now we can split our documents."
      ]
    },
    {
      "cell_type": "code",
      "execution_count": null,
      "metadata": {
        "id": "ROcV7o68ZIq7"
      },
      "outputs": [],
      "source": [
        "semantic_documents = semantic_chunker.split_documents(loan_complaint_data[:20])"
      ]
    },
    {
      "cell_type": "markdown",
      "metadata": {
        "id": "L8-LNC-Xmjex"
      },
      "source": [
        "Let's create a new vector store."
      ]
    },
    {
      "cell_type": "code",
      "execution_count": null,
      "metadata": {
        "id": "h3sl9QjyZhIe"
      },
      "outputs": [],
      "source": [
        "semantic_vectorstore = Qdrant.from_documents(\n",
        "    semantic_documents,\n",
        "    embeddings,\n",
        "    location=\":memory:\",\n",
        "    collection_name=\"Loan_Complaint_Data_Semantic_Chunks\"\n",
        ")"
      ]
    },
    {
      "cell_type": "markdown",
      "metadata": {
        "id": "Eh_r_-LHmmKn"
      },
      "source": [
        "We'll use naive retrieval for this example."
      ]
    },
    {
      "cell_type": "code",
      "execution_count": null,
      "metadata": {
        "id": "odVyDUHwZftc"
      },
      "outputs": [],
      "source": [
        "semantic_retriever = semantic_vectorstore.as_retriever(search_kwargs={\"k\" : 10})"
      ]
    },
    {
      "cell_type": "markdown",
      "metadata": {
        "id": "Mkeiv_ojmp6G"
      },
      "source": [
        "Finally we can create our classic chain!"
      ]
    },
    {
      "cell_type": "code",
      "execution_count": null,
      "metadata": {
        "id": "xWE_0J0mZveG"
      },
      "outputs": [],
      "source": [
        "semantic_retrieval_chain = (\n",
        "    {\"context\": itemgetter(\"question\") | semantic_retriever, \"question\": itemgetter(\"question\")}\n",
        "    | RunnablePassthrough.assign(context=itemgetter(\"context\"))\n",
        "    | {\"response\": rag_prompt | chat_model, \"context\": itemgetter(\"context\")}\n",
        ")"
      ]
    },
    {
      "cell_type": "markdown",
      "metadata": {
        "id": "R5pfjLQ3ms9_"
      },
      "source": [
        "And view the results!"
      ]
    },
    {
      "cell_type": "code",
      "execution_count": null,
      "metadata": {
        "colab": {
          "base_uri": "https://localhost:8080/",
          "height": 70
        },
        "id": "0lN2j-e4Z0SD",
        "outputId": "ef483e21-7200-4dfc-b8bf-aed4f23587b2"
      },
      "outputs": [
        {
          "data": {
            "text/plain": [
              "'Based on the provided complaints data, one of the most common issues with loans appears to be problems related to loan servicing and communication. Specific frequent issues include:\\n\\n- Struggling to repay or misunderstandings about repayment terms (e.g., incorrect payment amounts, delays, or re-amortization issues).\\n- Poor communication from loan servicers, including lack of timely or clear information about loan status, payments, or changes (e.g., misinformation about loan status, servicing changes, or availability of accounts).\\n- Errors in credit reporting, such as incorrect defaults, delinquencies, or improper account statuses.\\n- Unauthorized or improper collection activities and violations of privacy laws.\\n- Problems with auto-debit setup, missing payments, or discrepancies in payment records.\\n\\nIn summary, common issues revolve around mismanagement or miscommunication by loan servicers, errors in account information or reporting, and difficulties borrowers face in managing or verifying their loans.\\n\\nIf you need a more specific answer or further details, please let me know!'"
            ]
          },
          "execution_count": 47,
          "metadata": {},
          "output_type": "execute_result"
        }
      ],
      "source": [
        "semantic_retrieval_chain.invoke({\"question\" : \"What is the most common issue with loans?\"})[\"response\"].content"
      ]
    },
    {
      "cell_type": "code",
      "execution_count": null,
      "metadata": {
        "colab": {
          "base_uri": "https://localhost:8080/",
          "height": 53
        },
        "id": "xdqfBH1SZ3f9",
        "outputId": "ed62b2d1-7586-46cc-aaf4-c54192a56155"
      },
      "outputs": [
        {
          "data": {
            "text/plain": [
              "'Based on the provided complaints, several instances indicate that complaints were handled in a timely manner. For example, complaints with IDs 13331376, 13207537, 13425612, 13281034, 13020950, 12962044, 13179688, and 13347464 all received responses labeled as \"Closed with explanation\" within the expected 30-day period, and each explicitly states \"Timely response?\": \"Yes\". \\n\\nThere are no complaints in the provided data suggesting that any complaints were not handled in a timely manner.'"
            ]
          },
          "execution_count": 48,
          "metadata": {},
          "output_type": "execute_result"
        }
      ],
      "source": [
        "semantic_retrieval_chain.invoke({\"question\" : \"Did any complaints not get handled in a timely manner?\"})[\"response\"].content"
      ]
    },
    {
      "cell_type": "code",
      "execution_count": null,
      "metadata": {
        "colab": {
          "base_uri": "https://localhost:8080/",
          "height": 70
        },
        "id": "rAcAObZnZ4o6",
        "outputId": "3f1cade3-41e4-4e42-ef71-048dd18e5e3a"
      },
      "outputs": [
        {
          "data": {
            "text/plain": [
              "'People failed to pay back their loans for various reasons, including issues such as receiving bad or unclear information about their loans or payment status, difficulties in communicating with their loan servicers, and delays or errors in processing their payments. Some borrowers also experienced disputes over the legitimacy or status of their loans, leading to delays or refusal in repayment. Additionally, in certain cases, borrowers faced problems related to incorrect reporting of their loan status, default accusations despite never being in default, or complications due to changes in their loan transfer or servicing agencies. These issues often caused stress, confusion, and in some cases, legal disputes, which contributed to the failure to repay the loans as expected.'"
            ]
          },
          "execution_count": 49,
          "metadata": {},
          "output_type": "execute_result"
        }
      ],
      "source": [
        "semantic_retrieval_chain.invoke({\"question\" : \"Why did people fail to pay back their loans?\"})[\"response\"].content"
      ]
    },
    {
      "cell_type": "markdown",
      "metadata": {},
      "source": [
        "#### ❓ Question #3:\n",
        "\n",
        "If sentences are short and highly repetitive (e.g., FAQs), how might semantic chunking behave, and how would you adjust the algorithm?\n",
        "\n",
        "#### Answer:\n",
        "\n",
        "Semantic chunking might group these repetivite sentences together if they are semantically similar.\n",
        "\n",
        "Not sure if this is a thing, but to improve this I would consider just having an LLM chunk a document directly. Ask it to repeat back the document as a list/array where the elements are chunks, and the LLM decides how to keep semantically similar content contained within chunks."
      ]
    },
    {
      "cell_type": "markdown",
      "metadata": {
        "id": "xk2n3-pnVWDJ"
      },
      "source": [
        "# 🤝 Breakout Room Part #2"
      ]
    },
    {
      "cell_type": "markdown",
      "metadata": {
        "id": "2SkJLYwMVZkj"
      },
      "source": [
        "#### 🏗️ Activity #1\n",
        "\n",
        "Your task is to evaluate the various Retriever methods against eachother.\n",
        "\n",
        "You are expected to:\n",
        "\n",
        "1. Create a \"golden dataset\"\n",
        " - Use Synthetic Data Generation (powered by Ragas, or otherwise) to create this dataset\n",
        "2. Evaluate each retriever with *retriever specific* Ragas metrics\n",
        " - Semantic Chunking is not considered a retriever method and will not be required for marks, but you may find it useful to do a \"semantic chunking on\" vs. \"semantic chunking off\" comparision between them\n",
        "3. Compile these in a list and write a small paragraph about which is best for this particular data and why.\n",
        "\n",
        "Your analysis should factor in:\n",
        "  - Cost\n",
        "  - Latency\n",
        "  - Performance\n",
        "\n",
        "> NOTE: This is **NOT** required to be completed in class. Please spend time in your breakout rooms creating a plan before moving on to writing code."
      ]
    },
    {
      "cell_type": "markdown",
      "metadata": {
        "id": "TWAr16a5XMub"
      },
      "source": [
        "##### HINTS:\n",
        "\n",
        "- LangSmith provides detailed information about latency and cost."
      ]
    },
    {
      "cell_type": "code",
      "execution_count": null,
      "metadata": {
        "id": "tgDICngKXLGK"
      },
      "outputs": [],
      "source": [
        "### YOUR CODE HERE"
      ]
    },
    {
      "cell_type": "code",
      "execution_count": null,
      "metadata": {},
      "outputs": [],
      "source": [
        "from uuid import uuid4\n",
        "\n",
        "os.environ[\"LANGCHAIN_PROJECT\"] = f\"AIM - Assignment 09 - {uuid4().hex[0:8]}\""
      ]
    },
    {
      "cell_type": "code",
      "execution_count": null,
      "metadata": {},
      "outputs": [],
      "source": [
        "from langchain_community.document_loaders import DirectoryLoader\n",
        "from langchain_community.document_loaders import PyMuPDFLoader\n",
        "\n",
        "\n",
        "path = \"data/\"\n",
        "loader = DirectoryLoader(path, glob=\"*.pdf\", loader_cls=PyMuPDFLoader)\n",
        "docs = loader.load()"
      ]
    },
    {
      "cell_type": "code",
      "execution_count": null,
      "metadata": {},
      "outputs": [
        {
          "data": {
            "text/plain": [
              "269"
            ]
          },
          "execution_count": 53,
          "metadata": {},
          "output_type": "execute_result"
        }
      ],
      "source": [
        "len(docs)"
      ]
    },
    {
      "cell_type": "code",
      "execution_count": null,
      "metadata": {},
      "outputs": [
        {
          "data": {
            "text/plain": [
              "Document(metadata={'producer': 'GPL Ghostscript 10.00.0', 'creator': 'wkhtmltopdf 0.12.6', 'creationdate': \"D:20250418120630Z00'00'\", 'source': 'data/Academic_Calenders_Cost_of_Attendance_and_Packaging.pdf', 'file_path': 'data/Academic_Calenders_Cost_of_Attendance_and_Packaging.pdf', 'total_pages': 57, 'format': 'PDF 1.7', 'title': '', 'author': '', 'subject': '', 'keywords': '', 'moddate': \"D:20250418120630Z00'00'\", 'trapped': '', 'modDate': \"D:20250418120630Z00'00'\", 'creationDate': \"D:20250418120630Z00'00'\", 'page': 0}, page_content='Volume 3\\nAcademic Calendars, Cost of Attendance, and\\nPackaging\\nIntroduction\\nThis volume of the Federal Student Aid (FSA) Handbook discusses the academic calendar, payment period, and\\ndisbursement requirements for awarding aid under the Title IV student financial aid programs, determining a student9s\\ncost of attendance, and packaging Title IV aid.\\nThroughout this volume of the Handbook, the words \"we,\" \"our,\" and \"us\" refer to the United States Department of\\nEducation (the Department). The word \"you\" refers to the primary audience of the Handbook, school financial aid\\nadministrators. In other volumes of the Handbook we use \"institution,\" \"school,\" and \"college\" interchangeably, unless a\\nmore specific meaning is provided. In this volume we consistently use the term \"school.\" <HEA= refers to the Higher\\nEducation Act of 1965, as amended. Title IV refers to the student financial aid programs authorized under Title IV of the\\nHEA.\\nWe appreciate any comments that you have on this volume as well as the other volumes of the FSA Handbook. We revise\\nthe text based on questions and feedback from the financial aid community, so please reach out to us about how to\\nimprove the Handbook through the <Contact Customer Support= feature in our Partner Connect9s Help Center clicking on\\n<FSA Handbook= under the Topic section.\\nChanges for 2025-2026\\nThere are no major changes in Volume 3 for 2025-2026. However, we have made minor additions and clarifications to\\nexisting guidance in a few areas, as noted below.\\nChapter 1\\nIn Appendix B, we have added guidance on determining enrollment intensity for Pell Grant recipients who are enrolled in\\nsubscription-based programs.\\nChapter 2\\nWe have revised the discussion of <Allowable Costs= to clarify that for Pell Grant recipients with an enrollment\\nintensity below 50%, the cost of attendance (COA) is still based on the full-year costs for a full-time student. In this\\nsame section, we have also removed text noting that the FAFSA Simplification Act made certain changes to COA\\ncomponents. These changes are no longer new and were previously incorporated into the 2023-2024 FSA Handbook.\\nUnder <Tuition and Fees,= we have added health insurance premiums that are charged to all students as an\\nadditional example of a cost that may be included in this COA component.\\nWe have revised the text under <Costs of Obtaining a License, Certification, or First Professional Credential= to clarify\\nthat the guidance in this section pertains to credentials that are required for a student to practice or participate in\\nthe occupation the program is preparing the student to enter, and have added bar exam fees as an example of one\\nof the types of costs that may be included in this COA component.\\nUnder <Periods of Non-Attendance,= we have added language to clarify that a period of non-attendance is a period\\nduring which the student is not enrolled and is not otherwise engaged in any activity that is a requirement of the\\nstudent9s program of study.\\nChapter 3\\nUnder <Packaging Aid for Certain Dependents of Deceased Servicemembers or Public Safety Officers (Pell Grant Special\\nRule),= we have removed the note explaining that the Pell Grant Special Rule replaced the Iraq and Afghanistan Service\\nGrant (IASG) and Children of Fallen Heroes (CFH) provisions. This change is no longer new for 2025-2026.')"
            ]
          },
          "execution_count": 54,
          "metadata": {},
          "output_type": "execute_result"
        }
      ],
      "source": [
        "docs[0]"
      ]
    },
    {
      "cell_type": "code",
      "execution_count": null,
      "metadata": {},
      "outputs": [
        {
          "data": {
            "application/vnd.jupyter.widget-view+json": {
              "model_id": "567b65a34dfe4d76865cb90962065fe9",
              "version_major": 2,
              "version_minor": 0
            },
            "text/plain": [
              "Applying HeadlinesExtractor:   0%|          | 0/17 [00:00<?, ?it/s]"
            ]
          },
          "metadata": {},
          "output_type": "display_data"
        },
        {
          "data": {
            "application/vnd.jupyter.widget-view+json": {
              "model_id": "f9726bb86a4347ccb8e6bcbbb6357525",
              "version_major": 2,
              "version_minor": 0
            },
            "text/plain": [
              "Applying HeadlineSplitter:   0%|          | 0/20 [00:00<?, ?it/s]"
            ]
          },
          "metadata": {},
          "output_type": "display_data"
        },
        {
          "name": "stderr",
          "output_type": "stream",
          "text": [
            "unable to apply transformation: 'headlines' property not found in this node\n",
            "unable to apply transformation: 'headlines' property not found in this node\n",
            "unable to apply transformation: 'headlines' property not found in this node\n"
          ]
        },
        {
          "data": {
            "application/vnd.jupyter.widget-view+json": {
              "model_id": "9153137c77cc4f3db727454cfb09b6e7",
              "version_major": 2,
              "version_minor": 0
            },
            "text/plain": [
              "Applying SummaryExtractor:   0%|          | 0/31 [00:00<?, ?it/s]"
            ]
          },
          "metadata": {},
          "output_type": "display_data"
        },
        {
          "name": "stderr",
          "output_type": "stream",
          "text": [
            "Property 'summary' already exists in node 'f29b2a'. Skipping!\n",
            "Property 'summary' already exists in node '8b67fd'. Skipping!\n",
            "Property 'summary' already exists in node '866700'. Skipping!\n",
            "Property 'summary' already exists in node 'ab944f'. Skipping!\n",
            "Property 'summary' already exists in node '8df04a'. Skipping!\n",
            "Property 'summary' already exists in node '592892'. Skipping!\n",
            "Property 'summary' already exists in node 'e6a1bd'. Skipping!\n",
            "Property 'summary' already exists in node '4f5176'. Skipping!\n",
            "Property 'summary' already exists in node 'ffaecf'. Skipping!\n",
            "Property 'summary' already exists in node '38dfce'. Skipping!\n",
            "Property 'summary' already exists in node '2b167b'. Skipping!\n",
            "Property 'summary' already exists in node '7d4f32'. Skipping!\n",
            "Property 'summary' already exists in node 'd3293f'. Skipping!\n",
            "Property 'summary' already exists in node '5d48a1'. Skipping!\n"
          ]
        },
        {
          "data": {
            "application/vnd.jupyter.widget-view+json": {
              "model_id": "4972c8cc2b394d79b3b60a1216f1e2a1",
              "version_major": 2,
              "version_minor": 0
            },
            "text/plain": [
              "Applying CustomNodeFilter:   0%|          | 0/6 [00:00<?, ?it/s]"
            ]
          },
          "metadata": {},
          "output_type": "display_data"
        },
        {
          "data": {
            "application/vnd.jupyter.widget-view+json": {
              "model_id": "10962e86c0bf47e58b79333b4f6b4796",
              "version_major": 2,
              "version_minor": 0
            },
            "text/plain": [
              "Applying [EmbeddingExtractor, ThemesExtractor, NERExtractor]:   0%|          | 0/43 [00:00<?, ?it/s]"
            ]
          },
          "metadata": {},
          "output_type": "display_data"
        },
        {
          "name": "stderr",
          "output_type": "stream",
          "text": [
            "Property 'summary_embedding' already exists in node 'f29b2a'. Skipping!\n",
            "Property 'summary_embedding' already exists in node '8b67fd'. Skipping!\n",
            "Property 'summary_embedding' already exists in node '8df04a'. Skipping!\n",
            "Property 'summary_embedding' already exists in node '866700'. Skipping!\n",
            "Property 'summary_embedding' already exists in node '7d4f32'. Skipping!\n",
            "Property 'summary_embedding' already exists in node '38dfce'. Skipping!\n",
            "Property 'summary_embedding' already exists in node 'ab944f'. Skipping!\n",
            "Property 'summary_embedding' already exists in node '4f5176'. Skipping!\n",
            "Property 'summary_embedding' already exists in node '592892'. Skipping!\n",
            "Property 'summary_embedding' already exists in node 'ffaecf'. Skipping!\n",
            "Property 'summary_embedding' already exists in node 'd3293f'. Skipping!\n",
            "Property 'summary_embedding' already exists in node 'e6a1bd'. Skipping!\n",
            "Property 'summary_embedding' already exists in node '5d48a1'. Skipping!\n",
            "Property 'summary_embedding' already exists in node '2b167b'. Skipping!\n"
          ]
        },
        {
          "data": {
            "application/vnd.jupyter.widget-view+json": {
              "model_id": "7f7b70c520664fa98951f9c7b9c1fa17",
              "version_major": 2,
              "version_minor": 0
            },
            "text/plain": [
              "Applying [CosineSimilarityBuilder, OverlapScoreBuilder]:   0%|          | 0/2 [00:00<?, ?it/s]"
            ]
          },
          "metadata": {},
          "output_type": "display_data"
        },
        {
          "data": {
            "application/vnd.jupyter.widget-view+json": {
              "model_id": "09a3321fe0b84b858b804f6acdc9cef3",
              "version_major": 2,
              "version_minor": 0
            },
            "text/plain": [
              "Generating personas:   0%|          | 0/3 [00:00<?, ?it/s]"
            ]
          },
          "metadata": {},
          "output_type": "display_data"
        },
        {
          "data": {
            "application/vnd.jupyter.widget-view+json": {
              "model_id": "f2c2cad4245942feb763ae1815981d30",
              "version_major": 2,
              "version_minor": 0
            },
            "text/plain": [
              "Generating Scenarios:   0%|          | 0/3 [00:00<?, ?it/s]"
            ]
          },
          "metadata": {},
          "output_type": "display_data"
        },
        {
          "data": {
            "application/vnd.jupyter.widget-view+json": {
              "model_id": "8f6a30f6179f42d3ad1cc65d97dbf5aa",
              "version_major": 2,
              "version_minor": 0
            },
            "text/plain": [
              "Generating Samples:   0%|          | 0/12 [00:00<?, ?it/s]"
            ]
          },
          "metadata": {},
          "output_type": "display_data"
        }
      ],
      "source": [
        "from ragas.llms import LangchainLLMWrapper\n",
        "from ragas.embeddings import LangchainEmbeddingsWrapper\n",
        "from langchain_openai import ChatOpenAI\n",
        "from langchain_openai import OpenAIEmbeddings\n",
        "from ragas.testset import TestsetGenerator\n",
        "\n",
        "generator_llm = LangchainLLMWrapper(ChatOpenAI(model=\"gpt-4.1-nano\"))\n",
        "generator_embeddings = LangchainEmbeddingsWrapper(OpenAIEmbeddings())\n",
        "\n",
        "generator = TestsetGenerator(llm=generator_llm, embedding_model=generator_embeddings)\n",
        "dataset = generator.generate_with_langchain_docs(docs[:20], testset_size=10)"
      ]
    },
    {
      "cell_type": "code",
      "execution_count": 111,
      "metadata": {},
      "outputs": [
        {
          "data": {
            "text/html": [
              "<div>\n",
              "<style scoped>\n",
              "    .dataframe tbody tr th:only-of-type {\n",
              "        vertical-align: middle;\n",
              "    }\n",
              "\n",
              "    .dataframe tbody tr th {\n",
              "        vertical-align: top;\n",
              "    }\n",
              "\n",
              "    .dataframe thead th {\n",
              "        text-align: right;\n",
              "    }\n",
              "</style>\n",
              "<table border=\"1\" class=\"dataframe\">\n",
              "  <thead>\n",
              "    <tr style=\"text-align: right;\">\n",
              "      <th></th>\n",
              "      <th>user_input</th>\n",
              "      <th>reference_contexts</th>\n",
              "      <th>reference</th>\n",
              "      <th>synthesizer_name</th>\n",
              "    </tr>\n",
              "  </thead>\n",
              "  <tbody>\n",
              "    <tr>\n",
              "      <th>0</th>\n",
              "      <td>How do academic calendars impact federal stude...</td>\n",
              "      <td>[Chapter 1 Academic Years, Academic Calendars,...</td>\n",
              "      <td>Academic calendars, including the definition o...</td>\n",
              "      <td>single_hop_specifc_query_synthesizer</td>\n",
              "    </tr>\n",
              "    <tr>\n",
              "      <th>1</th>\n",
              "      <td>What is 34 CFR 668.3(a) about in relation to a...</td>\n",
              "      <td>[Regulatory Citations Academic year minimums: ...</td>\n",
              "      <td>Regulatory Citations Academic year minimums: 3...</td>\n",
              "      <td>single_hop_specifc_query_synthesizer</td>\n",
              "    </tr>\n",
              "    <tr>\n",
              "      <th>2</th>\n",
              "      <td>How does the inclusion of clinical work in a s...</td>\n",
              "      <td>[Inclusion of Clinical Work in a Standard Term...</td>\n",
              "      <td>Inclusion of clinical work in a standard term ...</td>\n",
              "      <td>single_hop_specifc_query_synthesizer</td>\n",
              "    </tr>\n",
              "    <tr>\n",
              "      <th>3</th>\n",
              "      <td>Can you explain what the FWS program is and ho...</td>\n",
              "      <td>[Non-Term Characteristics A program that measu...</td>\n",
              "      <td>The Federal Work-Study (FWS) Program is an exc...</td>\n",
              "      <td>single_hop_specifc_query_synthesizer</td>\n",
              "    </tr>\n",
              "    <tr>\n",
              "      <th>4</th>\n",
              "      <td>whn clinical work is in a non-term calndar, ho...</td>\n",
              "      <td>[&lt;1-hop&gt;\\n\\nInclusion of Clinical Work in a St...</td>\n",
              "      <td>When clinical work is included in a non-term c...</td>\n",
              "      <td>multi_hop_abstract_query_synthesizer</td>\n",
              "    </tr>\n",
              "    <tr>\n",
              "      <th>5</th>\n",
              "      <td>Hwo do the regultory citatons for acedemic pro...</td>\n",
              "      <td>[&lt;1-hop&gt;\\n\\nChapter 1 Academic Years, Academic...</td>\n",
              "      <td>The regulatory citations, such as 34 CFR 668.3...</td>\n",
              "      <td>multi_hop_abstract_query_synthesizer</td>\n",
              "    </tr>\n",
              "    <tr>\n",
              "      <th>6</th>\n",
              "      <td>what are the titl iv program requirments for a...</td>\n",
              "      <td>[&lt;1-hop&gt;\\n\\nChapter 1 Academic Years, Academic...</td>\n",
              "      <td>The requirements for the academic year under t...</td>\n",
              "      <td>multi_hop_abstract_query_synthesizer</td>\n",
              "    </tr>\n",
              "    <tr>\n",
              "      <th>7</th>\n",
              "      <td>guidance on calculating grant awards and loan ...</td>\n",
              "      <td>[&lt;1-hop&gt;\\n\\nboth the credit or clock hours and...</td>\n",
              "      <td>The context explains that the amount of Pell G...</td>\n",
              "      <td>multi_hop_abstract_query_synthesizer</td>\n",
              "    </tr>\n",
              "    <tr>\n",
              "      <th>8</th>\n",
              "      <td>How does Volume 8 relate to the inclusion of c...</td>\n",
              "      <td>[&lt;1-hop&gt;\\n\\nInclusion of Clinical Work in a St...</td>\n",
              "      <td>Volume 8 provides guidance on the inclusion of...</td>\n",
              "      <td>multi_hop_specific_query_synthesizer</td>\n",
              "    </tr>\n",
              "    <tr>\n",
              "      <th>9</th>\n",
              "      <td>Hwo do Appendix A and Appendix B relate to the...</td>\n",
              "      <td>[&lt;1-hop&gt;\\n\\nboth the credit or clock hours and...</td>\n",
              "      <td>Appendix A provides guidance on calculating Pe...</td>\n",
              "      <td>multi_hop_specific_query_synthesizer</td>\n",
              "    </tr>\n",
              "    <tr>\n",
              "      <th>10</th>\n",
              "      <td>How do the requirements outlined in Volume 2 a...</td>\n",
              "      <td>[&lt;1-hop&gt;\\n\\nboth the credit or clock hours and...</td>\n",
              "      <td>The requirements in Volume 2 specify that acad...</td>\n",
              "      <td>multi_hop_specific_query_synthesizer</td>\n",
              "    </tr>\n",
              "    <tr>\n",
              "      <th>11</th>\n",
              "      <td>How do Chapters 1 and 3 relate to the inclusio...</td>\n",
              "      <td>[&lt;1-hop&gt;\\n\\nInclusion of Clinical Work in a St...</td>\n",
              "      <td>Chapter 1 discusses the inclusion of clinical ...</td>\n",
              "      <td>multi_hop_specific_query_synthesizer</td>\n",
              "    </tr>\n",
              "  </tbody>\n",
              "</table>\n",
              "</div>"
            ],
            "text/plain": [
              "                                           user_input  \\\n",
              "0   How do academic calendars impact federal stude...   \n",
              "1   What is 34 CFR 668.3(a) about in relation to a...   \n",
              "2   How does the inclusion of clinical work in a s...   \n",
              "3   Can you explain what the FWS program is and ho...   \n",
              "4   whn clinical work is in a non-term calndar, ho...   \n",
              "5   Hwo do the regultory citatons for acedemic pro...   \n",
              "6   what are the titl iv program requirments for a...   \n",
              "7   guidance on calculating grant awards and loan ...   \n",
              "8   How does Volume 8 relate to the inclusion of c...   \n",
              "9   Hwo do Appendix A and Appendix B relate to the...   \n",
              "10  How do the requirements outlined in Volume 2 a...   \n",
              "11  How do Chapters 1 and 3 relate to the inclusio...   \n",
              "\n",
              "                                   reference_contexts  \\\n",
              "0   [Chapter 1 Academic Years, Academic Calendars,...   \n",
              "1   [Regulatory Citations Academic year minimums: ...   \n",
              "2   [Inclusion of Clinical Work in a Standard Term...   \n",
              "3   [Non-Term Characteristics A program that measu...   \n",
              "4   [<1-hop>\\n\\nInclusion of Clinical Work in a St...   \n",
              "5   [<1-hop>\\n\\nChapter 1 Academic Years, Academic...   \n",
              "6   [<1-hop>\\n\\nChapter 1 Academic Years, Academic...   \n",
              "7   [<1-hop>\\n\\nboth the credit or clock hours and...   \n",
              "8   [<1-hop>\\n\\nInclusion of Clinical Work in a St...   \n",
              "9   [<1-hop>\\n\\nboth the credit or clock hours and...   \n",
              "10  [<1-hop>\\n\\nboth the credit or clock hours and...   \n",
              "11  [<1-hop>\\n\\nInclusion of Clinical Work in a St...   \n",
              "\n",
              "                                            reference  \\\n",
              "0   Academic calendars, including the definition o...   \n",
              "1   Regulatory Citations Academic year minimums: 3...   \n",
              "2   Inclusion of clinical work in a standard term ...   \n",
              "3   The Federal Work-Study (FWS) Program is an exc...   \n",
              "4   When clinical work is included in a non-term c...   \n",
              "5   The regulatory citations, such as 34 CFR 668.3...   \n",
              "6   The requirements for the academic year under t...   \n",
              "7   The context explains that the amount of Pell G...   \n",
              "8   Volume 8 provides guidance on the inclusion of...   \n",
              "9   Appendix A provides guidance on calculating Pe...   \n",
              "10  The requirements in Volume 2 specify that acad...   \n",
              "11  Chapter 1 discusses the inclusion of clinical ...   \n",
              "\n",
              "                        synthesizer_name  \n",
              "0   single_hop_specifc_query_synthesizer  \n",
              "1   single_hop_specifc_query_synthesizer  \n",
              "2   single_hop_specifc_query_synthesizer  \n",
              "3   single_hop_specifc_query_synthesizer  \n",
              "4   multi_hop_abstract_query_synthesizer  \n",
              "5   multi_hop_abstract_query_synthesizer  \n",
              "6   multi_hop_abstract_query_synthesizer  \n",
              "7   multi_hop_abstract_query_synthesizer  \n",
              "8   multi_hop_specific_query_synthesizer  \n",
              "9   multi_hop_specific_query_synthesizer  \n",
              "10  multi_hop_specific_query_synthesizer  \n",
              "11  multi_hop_specific_query_synthesizer  "
            ]
          },
          "execution_count": 111,
          "metadata": {},
          "output_type": "execute_result"
        }
      ],
      "source": [
        "dataset.to_pandas()"
      ]
    },
    {
      "cell_type": "code",
      "execution_count": 118,
      "metadata": {},
      "outputs": [],
      "source": [
        "from langsmith import Client\n",
        "\n",
        "client = Client()\n",
        "\n",
        "dataset_name = f\"Loan Synthetic Data - Assignment 09 - RAGAS - {uuid4().hex[0:8]}\"\n",
        "\n",
        "langsmith_dataset = client.create_dataset(\n",
        "    dataset_name=dataset_name,\n",
        "    description=\"Loan Synthetic Data - Assignment 09 - RAGAS\"\n",
        ")\n",
        "\n",
        "for idx, row in dataset.to_pandas().iterrows():\n",
        "  client.create_example(\n",
        "      inputs={\n",
        "          \"question\": row[\"user_input\"]\n",
        "      },\n",
        "      outputs={\n",
        "          \"answer\": row[\"reference\"],\n",
        "          \"context\": row[\"reference_contexts\"]\n",
        "      },\n",
        "      dataset_id=langsmith_dataset.id\n",
        "  )\n",
        "\n",
        "# for idx, row in dataset.to_pandas().iterrows():\n",
        "#     client.create_example(\n",
        "#     inputs={\"question\": row[\"user_input\"]},\n",
        "#     outputs={\"ground_truth\": row[\"reference\"]},\n",
        "#     metadata={\n",
        "#         \"context\": row[\"reference_contexts\"]\n",
        "#     },\n",
        "#     dataset_id=langsmith_dataset.id,\n",
        "# )\n"
      ]
    },
    {
      "cell_type": "code",
      "execution_count": null,
      "metadata": {},
      "outputs": [],
      "source": [
        "# from langsmith.evaluation import evaluate\n",
        "# from ragas.metrics import (\n",
        "#     Faithfulness, FactualCorrectness, ResponseRelevancy,\n",
        "#     ContextEntityRecall, NoiseSensitivity,\n",
        "# )\n",
        "# from ragas.metrics import LLMContextRecall, Faithfulness, FactualCorrectness, ResponseRelevancy, ContextEntityRecall, NoiseSensitivity\n",
        "\n",
        "# from ragas.integrations.langchain import EvaluatorChain\n",
        "# from langchain_openai import ChatOpenAI\n",
        "# from ragas.llms import LangchainLLMWrapper\n",
        "\n",
        "# class PatchedEvaluator(EvaluatorChain):\n",
        "#     def evaluate_run(self, run, example=None, evaluator_run_id=None):\n",
        "#         return super().evaluate_run(run, example)\n",
        "    \n",
        "# metrics = [\n",
        "#     LLMContextRecall(), Faithfulness(), FactualCorrectness(), ResponseRelevancy(), ContextEntityRecall(), NoiseSensitivity()\n",
        "# ]\n",
        "# llm = LangchainLLMWrapper(ChatOpenAI(model_name=\"gpt-4o-mini\", temperature=0))\n",
        "# ragas_evaluators = [\n",
        "#     PatchedEvaluator(metric=m, llm=llm) for m in metrics\n",
        "# ]\n",
        "\n",
        "# def run_eval(invocable, invocable_name, dataset_name):\n",
        "#     # Run evaluation with all metrics tracked in LangSmith\n",
        "#     evaluate(\n",
        "#         invocable.invoke,\n",
        "#         data=dataset_name,\n",
        "#         evaluators=ragas_evaluators,\n",
        "#         metadata={\"revision_id\": invocable_name},\n",
        "#     )"
      ]
    },
    {
      "cell_type": "code",
      "execution_count": null,
      "metadata": {},
      "outputs": [],
      "source": [
        "from ragas.dataset_schema import SingleTurnSample, MultiTurnSample\n",
        "from ragas.metrics import (\n",
        "    Faithfulness, \n",
        "    FactualCorrectness, \n",
        "    ResponseRelevancy, \n",
        "    ContextEntityRecall, \n",
        "    NoiseSensitivity,\n",
        "    LLMContextRecall,\n",
        "    ToolCallAccuracy,\n",
        "    AgentGoalAccuracyWithReference,\n",
        "    TopicAdherenceScore\n",
        ")\n",
        "from ragas.llms import LangchainLLMWrapper\n",
        "from langchain_openai import ChatOpenAI\n",
        "from typing import Dict, Any, Callable, Type, List, Union, Optional\n",
        "\n",
        "\n",
        "class MetricFactory:\n",
        "    \"\"\"\n",
        "    Advanced factory for creating evaluation functions for different Ragas metrics.\n",
        "    Handles different sample types and metric requirements.\n",
        "    \"\"\"\n",
        "    \n",
        "    def __init__(self, llm=None):\n",
        "        \"\"\"\n",
        "        Initialize the factory with an optional LLM.\n",
        "        \n",
        "        Args:\n",
        "            llm: Optional LLM wrapper. If None, creates a default one.\n",
        "        \"\"\"\n",
        "        if llm is None:\n",
        "            self.llm = LangchainLLMWrapper(ChatOpenAI(model_name=\"gpt-4o-mini\", temperature=0))\n",
        "        else:\n",
        "            self.llm = llm\n",
        "        \n",
        "        # Define which metrics use which sample types\n",
        "        self.single_turn_metrics = {\n",
        "            Faithfulness, \n",
        "            FactualCorrectness, \n",
        "            ResponseRelevancy, \n",
        "            ContextEntityRecall, \n",
        "            NoiseSensitivity,\n",
        "            LLMContextRecall\n",
        "        }\n",
        "        \n",
        "        self.multi_turn_metrics = {\n",
        "            ToolCallAccuracy,\n",
        "            AgentGoalAccuracyWithReference,\n",
        "            TopicAdherenceScore\n",
        "        }\n",
        "        \n",
        "        # Define metric signatures and required parameters\n",
        "        self.metric_signatures = {\n",
        "            Faithfulness: {\n",
        "                \"required_params\": [\"user_input\", \"response\", \"retrieved_contexts\"],\n",
        "                \"optional_params\": []\n",
        "            },\n",
        "            FactualCorrectness: {\n",
        "                \"required_params\": [\"user_input\", \"response\", \"retrieved_contexts\"],\n",
        "                \"optional_params\": []\n",
        "            },\n",
        "            ResponseRelevancy: {\n",
        "                \"required_params\": [\"user_input\", \"response\", \"retrieved_contexts\"],\n",
        "                \"optional_params\": []\n",
        "            },\n",
        "            ContextEntityRecall: {\n",
        "                \"required_params\": [\"reference\", \"retrieved_contexts\"],\n",
        "                \"optional_params\": []\n",
        "            },\n",
        "            NoiseSensitivity: {\n",
        "                \"required_params\": [\"user_input\", \"response\", \"reference\", \"retrieved_contexts\"],\n",
        "                \"optional_params\": []\n",
        "            },\n",
        "            LLMContextRecall: {\n",
        "                \"required_params\": [\"user_input\", \"response\", \"reference\", \"retrieved_contexts\"],\n",
        "                \"optional_params\": []\n",
        "            },\n",
        "            ToolCallAccuracy: {\n",
        "                \"required_params\": [\"user_input\", \"reference_tool_calls\"],\n",
        "                \"optional_params\": []\n",
        "            },\n",
        "            AgentGoalAccuracyWithReference: {\n",
        "                \"required_params\": [\"user_input\", \"reference\"],\n",
        "                \"optional_params\": []\n",
        "            },\n",
        "            TopicAdherenceScore: {\n",
        "                \"required_params\": [\"user_input\", \"reference_topics\"],\n",
        "                \"optional_params\": [\"mode\"]\n",
        "            }\n",
        "        }\n",
        "    \n",
        "    def create_evaluator(self, metric_class: Type, sample_type: str = \"auto\", **metric_kwargs) -> Callable:\n",
        "        \"\"\"\n",
        "        Create an evaluation function for a specific metric.\n",
        "        \n",
        "        Args:\n",
        "            metric_class: The Ragas metric class to use\n",
        "            sample_type: Type of sample to create (\"auto\", \"single_turn\", \"multi_turn\")\n",
        "            **metric_kwargs: Additional keyword arguments for the metric constructor\n",
        "        \n",
        "        Returns:\n",
        "            A function that evaluates inputs/outputs using the specified metric\n",
        "        \"\"\"\n",
        "        def evaluation_function(inputs: Dict[str, Any], outputs: Dict[str, Any], reference_outputs: Dict[str, Any]) -> Any:\n",
        "            \"\"\"\n",
        "            Generic evaluation function that works with any Ragas metric.\n",
        "            \n",
        "            Args:\n",
        "                inputs: Dictionary containing the question or conversation\n",
        "                outputs: Dictionary containing the response with 'content' key\n",
        "                reference_outputs: Dictionary containing the context and other reference data\n",
        "            \n",
        "            Returns:\n",
        "                Evaluation score from the specified metric\n",
        "            \"\"\"\n",
        "            # print(\"inputs\", inputs)\n",
        "            # print(\"outputs\", outputs)\n",
        "            # print(\"reference_outputs\", reference_outputs)\n",
        "            \n",
        "            # Determine sample type\n",
        "            if sample_type == \"auto\":\n",
        "                if metric_class in self.single_turn_metrics:\n",
        "                    use_single_turn = True\n",
        "                elif metric_class in self.multi_turn_metrics:\n",
        "                    use_single_turn = False\n",
        "                else:\n",
        "                    # Default to single turn for unknown metrics\n",
        "                    use_single_turn = True\n",
        "            else:\n",
        "                use_single_turn = (sample_type == \"single_turn\")\n",
        "            \n",
        "            # Create the appropriate sample based on metric requirements\n",
        "            if use_single_turn:\n",
        "                sample = self._create_single_turn_sample(metric_class, inputs, outputs, reference_outputs)\n",
        "            else:\n",
        "                sample = self._create_multi_turn_sample(metric_class, inputs, outputs, reference_outputs)\n",
        "            \n",
        "            # Create and use the metric with any additional kwargs\n",
        "            scorer = metric_class(llm=self.llm, **metric_kwargs)\n",
        "            return scorer.single_turn_score(sample)\n",
        "        \n",
        "        return evaluation_function\n",
        "    \n",
        "    def _create_single_turn_sample(self, metric_class: Type, inputs: Dict[str, Any], outputs: Dict[str, Any], reference_outputs: Dict[str, Any]) -> SingleTurnSample:\n",
        "        \"\"\"Create a SingleTurnSample based on metric requirements.\"\"\"\n",
        "        signature = self.metric_signatures.get(metric_class, {})\n",
        "        required_params = signature.get(\"required_params\", [\"user_input\", \"response\", \"retrieved_contexts\"])\n",
        "        \n",
        "        # Build sample kwargs based on required parameters\n",
        "        sample_kwargs = {}\n",
        "        \n",
        "        for param in required_params:\n",
        "            if param == \"user_input\":\n",
        "                sample_kwargs[param] = inputs[\"question\"]\n",
        "            elif param == \"response\":\n",
        "                sample_kwargs[param] = outputs[\"response\"].content\n",
        "            elif param == \"retrieved_contexts\":\n",
        "                sample_kwargs[param] = reference_outputs[\"context\"]\n",
        "            elif param == \"reference\":\n",
        "                sample_kwargs[param] = reference_outputs[\"answer\"]\n",
        "        \n",
        "        return SingleTurnSample(**sample_kwargs)\n",
        "        "
      ]
    },
    {
      "cell_type": "code",
      "execution_count": 167,
      "metadata": {},
      "outputs": [],
      "source": [
        "# from advanced_metric_factory import MetricFactory\n",
        "from ragas.metrics import Faithfulness, FactualCorrectness, ResponseRelevancy, ContextEntityRecall, NoiseSensitivity, LLMContextRecall, ToolCallAccuracy, AgentGoalAccuracyWithReference, TopicAdherenceScore\n",
        "from ragas.llms import LangchainLLMWrapper\n",
        "from langchain_openai import ChatOpenAI\n",
        "\n",
        "evaluator_llm = LangchainLLMWrapper(ChatOpenAI(model_name=\"gpt-4o-mini\", temperature=0))\n",
        "factory = MetricFactory(evaluator_llm)\n",
        "\n",
        "metrics = [\n",
        "    LLMContextRecall, Faithfulness, ResponseRelevancy, ContextEntityRecall, NoiseSensitivity\n",
        "]\n",
        "evaluators = [factory.create_evaluator(metric) for metric in metrics]"
      ]
    },
    {
      "cell_type": "code",
      "execution_count": 168,
      "metadata": {},
      "outputs": [],
      "source": [
        "# from ragas.dataset_schema import SingleTurnSample \n",
        "# from ragas.metrics import Faithfulness\n",
        "# from ragas.llms import LangchainLLMWrapper\n",
        "# from langchain_openai import ChatOpenAI\n",
        "\n",
        "\n",
        "# evaluator_llm = LangchainLLMWrapper(ChatOpenAI(model_name=\"gpt-4o-mini\", temperature=0))\n",
        "# def faith_smith(inputs, outputs, reference_outputs):\n",
        "#     print(\"inputs\", inputs)\n",
        "#     print(\"outputs\", outputs)\n",
        "#     print(\"reference_outputs\", reference_outputs)\n",
        "#     sample = SingleTurnSample(\n",
        "#         user_input=inputs[\"question\"],\n",
        "#         response=outputs[\"response\"].content,\n",
        "#         retrieved_contexts=reference_outputs[\"context\"]\n",
        "#     )\n",
        "#     scorer = Faithfulness(llm=evaluator_llm)\n",
        "#     return scorer.single_turn_score(sample)\n",
        "\n",
        "# # res = faith_smith(\n",
        "# #     {\"question\": \"When was the first super bowl?\"}, \n",
        "# #     {\"response\": {\"content\": \"The first superbowl was held on Jan 15, 1967\"}}, \n",
        "# #     {\"context\": [\"The First AFL–NFL World Championship Game was an American football game played on January 15, 1967, at the Los Angeles Memorial Coliseum in Los Angeles.\"]}\n",
        "# # )\n",
        "# # res"
      ]
    },
    {
      "cell_type": "code",
      "execution_count": 169,
      "metadata": {},
      "outputs": [],
      "source": [
        "def run_eval(invocable, invocable_name, dataset_name):\n",
        "    # Run evaluation with all metrics tracked in LangSmith\n",
        "    evaluate(\n",
        "        invocable.invoke,\n",
        "        data=dataset_name,\n",
        "        evaluators=evaluators,\n",
        "        metadata={\"revision_id\": invocable_name},\n",
        "    )"
      ]
    },
    {
      "cell_type": "code",
      "execution_count": 170,
      "metadata": {},
      "outputs": [],
      "source": [
        "invocables = {\n",
        "    \"naive\": naive_retrieval_chain,\n",
        "    \"bm25\": bm25_retrieval_chain, \n",
        "    \"contextual_compression\": contextual_compression_retrieval_chain,\n",
        "    \"multi_query\": multi_query_retrieval_chain,\n",
        "    \"parent_document\": parent_document_retrieval_chain, \n",
        "    \"ensemble\": ensemble_retrieval_chain, \n",
        "    \"semantic\": semantic_retrieval_chain, \n",
        "}"
      ]
    },
    {
      "cell_type": "code",
      "execution_count": 171,
      "metadata": {},
      "outputs": [
        {
          "name": "stderr",
          "output_type": "stream",
          "text": [
            "  0%|          | 0/7 [00:00<?, ?it/s]"
          ]
        },
        {
          "name": "stdout",
          "output_type": "stream",
          "text": [
            "Beginning evaluation of naive\n",
            "View the evaluation results for experiment: 'spotless-stick-78' at:\n",
            "https://smith.langchain.com/o/6848a1f0-9351-4081-bbdc-eaa03dcd1c1a/datasets/bfd9b876-db8d-423c-a478-1bbf4338fc0a/compare?selectedSessions=bf417a7c-1d3b-436b-9a24-34b3308124e7\n",
            "\n",
            "\n"
          ]
        },
        {
          "data": {
            "application/vnd.jupyter.widget-view+json": {
              "model_id": "df1a10b754094c5e995f8ad84bfdfe88",
              "version_major": 2,
              "version_minor": 0
            },
            "text/plain": [
              "0it [00:00, ?it/s]"
            ]
          },
          "metadata": {},
          "output_type": "display_data"
        },
        {
          "name": "stdout",
          "output_type": "stream",
          "text": [
            "inputs {'question': 'How do Chapters 1 and 3 relate to the inclusion of clinical work within standard terms and the definition of academic years for Title IV purposes?'}\n",
            "outputs {'response': AIMessage(content='Chapters 1 and 3 relate to the inclusion of clinical work within standard terms and the definition of academic years for Title IV purposes by establishing clear guidelines and definitions for what constitutes meaningful attendance and full-time enrollment. \\n\\nChapter 1 typically addresses the criteria for including clinical or practical work within the academic calendar, clarifying how such work is recognized as part of the academic year. This ensures that clinical activities are properly integrated into the standard measures used to determine student status, eligibility, and the academic calendar for Title IV purposes.\\n\\nChapter 3 further defines the parameters of the academic year, including how clinical work or internships are counted towards full-time enrollment. It clarifies whether clinical rotations are considered part of the regular academic year, and how they impact the determination of eligibility for federal aid, including disbursement schedules and progress.\\n\\nTogether, these chapters ensure that clinical work is appropriately recognized within the institutional and federal frameworks, aligning the definitions of academic years with the realities of clinical education, so that students’ eligibility for Title IV aid is accurately determined based on the actual structure of their academic programs.\\n\\nIf you need more specific details from the chapters, please let me know!', additional_kwargs={'refusal': None}, response_metadata={'token_usage': {'completion_tokens': 233, 'prompt_tokens': 8995, 'total_tokens': 9228, 'completion_tokens_details': {'accepted_prediction_tokens': 0, 'audio_tokens': 0, 'reasoning_tokens': 0, 'rejected_prediction_tokens': 0}, 'prompt_tokens_details': {'audio_tokens': 0, 'cached_tokens': 0}}, 'model_name': 'gpt-4.1-nano-2025-04-14', 'system_fingerprint': 'fp_38343a2f8f', 'id': 'chatcmpl-ByOEp5va2DN6hP7l3h3qXojGntzP3', 'service_tier': 'default', 'finish_reason': 'stop', 'logprobs': None}, id='run--5e52db7d-5730-4eb0-b2f4-289f8611e299-0', usage_metadata={'input_tokens': 8995, 'output_tokens': 233, 'total_tokens': 9228, 'input_token_details': {'audio': 0, 'cache_read': 0}, 'output_token_details': {'audio': 0, 'reasoning': 0}}), 'context': [Document(metadata={'source': './data/complaints.csv', 'row': 707, 'Date received': '05/07/25', 'Product': 'Student loan', 'Sub-product': 'Federal student loan servicing', 'Issue': 'Struggling to repay your loan', 'Sub-issue': 'Problem with forgiveness, cancellation, or discharge', 'Consumer complaint narrative': \"In 2011, I enrolled at XXXXXXXX XXXX XXXXn XXXX, Texas. Unfortunately, on the second day of classes, I was removed from the program due to an error in the financial aid processing conducted by the university. Specifically, XXXX XXXX  failed to properly account for my father 's per diem income during the initial financial aid calculation, which led to a determination that I did not meet the eligibility requirements for federal student aid. \\n\\nAs a result, I was dismissed from classes by the university on the second day of attendance. I did not attend classes long enough to qualify for federal student aid disbursement. According to the U.S. Department of Educations Federal Student Aid Handbook, a student must begin attendance in all classes for which Title IV aid is awarded in order to remain eligible ( XXXX XXXX, Volume XXXX, Chapter XXXX ). Since I was removed from the institution before establishing meaningful attendance, I should not have been considered as having officially begun the academic period for purposes of loan disbursement. \\n\\nFurthermore, I requested documentation and clarification from XXXX XXXX  regarding this incident, but did not receive a response. I was informed that staffing transitions in the relevant department prevented timely fulfillment of my request.\", 'Company public response': 'None', 'Company': 'Nelnet, Inc.', 'State': 'TX', 'ZIP code': '765XX', 'Tags': 'Servicemember', 'Consumer consent provided?': 'Consent provided', 'Submitted via': 'Web', 'Date sent to company': '05/07/25', 'Company response to consumer': 'Closed with explanation', 'Timely response?': 'Yes', 'Consumer disputed?': 'N/A', 'Complaint ID': '13376952', '_id': 'a901941bc6434a0991e0c8a3c3aa8752', '_collection_name': 'LoanComplaints'}, page_content=\"In 2011, I enrolled at XXXXXXXX XXXX XXXXn XXXX, Texas. Unfortunately, on the second day of classes, I was removed from the program due to an error in the financial aid processing conducted by the university. Specifically, XXXX XXXX  failed to properly account for my father 's per diem income during the initial financial aid calculation, which led to a determination that I did not meet the eligibility requirements for federal student aid. \\n\\nAs a result, I was dismissed from classes by the university on the second day of attendance. I did not attend classes long enough to qualify for federal student aid disbursement. According to the U.S. Department of Educations Federal Student Aid Handbook, a student must begin attendance in all classes for which Title IV aid is awarded in order to remain eligible ( XXXX XXXX, Volume XXXX, Chapter XXXX ). Since I was removed from the institution before establishing meaningful attendance, I should not have been considered as having officially begun the academic period for purposes of loan disbursement. \\n\\nFurthermore, I requested documentation and clarification from XXXX XXXX  regarding this incident, but did not receive a response. I was informed that staffing transitions in the relevant department prevented timely fulfillment of my request.\"), Document(metadata={'source': './data/complaints.csv', 'row': 771, 'Date received': '04/15/25', 'Product': 'Student loan', 'Sub-product': 'Federal student loan servicing', 'Issue': 'Struggling to repay your loan', 'Sub-issue': \"Can't temporarily delay making payments\", 'Consumer complaint narrative': \"I am a full-time doctoral student at the XXXX XXXX XXXX  XXXX XXXX XXXX XXXX, XXXX. I have been enrolled since XX/XX/XXXX. \\n\\nI have submitted paperwork four separate times since XXXX of XXXX, requesting an In-School Deferment. Each time I have been told that the paperwork was not correct. I have received denials in XXXX and XX/XX/XXXX, as well as XXXX and XXXX of XXXX. \\n\\nThe latest time I ensured that all necessary details were indicated in my Verification of Enrollment ( VOE ) and have resubmitted anew the ISD Request paperwork. Every required detail of information that has been requested by EdFinancial has been included in the attached VOEs. \\n\\nI have been denied each of the four times, and each for different and often conflicting and therefore nonsensical reasons. \\n\\nThe paperwork as I have submitted it is correct. In my first denial from XX/XX/XXXX, I was told that the anticipated graduation date was not necessary to include if it was not known. This is true in my case -- I do not have an anticipated completion date ( ACD ). \\n\\nBecause I am studying in XXXX, I also can not include the school 's OPE-ID because it does not exist for this foreign university. \\n\\nI am attaching here several email threads I have had with Customer Service; all my official notices from EdFinancial with denials ; Certificates of Enrollment which are issued per semester by my university ; a sheet detailing the semesters for which I have been enrolled full time ; and my latest VOE and ISD application paperwork as submitted in XX/XX/XXXX. \\nI can not access a history of my submitted documents to EdFinancial, and have also included a screenshot indicating that this information is being hidden from my self-service portal on the website. \\n\\nIn summary, as a full-time doctoral student for over XXXX year now at this university, I technically and legally meet every requirement in order to be given an in-school deferment through the length of my studies here in XXXX. The paperwork indicates that I am abiding by their requirements, and they are unlawfully withholding this and being entirely evasive and duplicitous.\", 'Company public response': 'None', 'Company': 'EdFinancial Services', 'State': 'None', 'ZIP code': 'XXXXX', 'Tags': 'None', 'Consumer consent provided?': 'Consent provided', 'Submitted via': 'Web', 'Date sent to company': '04/15/25', 'Company response to consumer': 'Closed with explanation', 'Timely response?': 'Yes', 'Consumer disputed?': 'N/A', 'Complaint ID': '13005228', '_id': 'd366bd44cc324b47810ffb07b06d5570', '_collection_name': 'LoanComplaints'}, page_content=\"I am a full-time doctoral student at the XXXX XXXX XXXX  XXXX XXXX XXXX XXXX, XXXX. I have been enrolled since XX/XX/XXXX. \\n\\nI have submitted paperwork four separate times since XXXX of XXXX, requesting an In-School Deferment. Each time I have been told that the paperwork was not correct. I have received denials in XXXX and XX/XX/XXXX, as well as XXXX and XXXX of XXXX. \\n\\nThe latest time I ensured that all necessary details were indicated in my Verification of Enrollment ( VOE ) and have resubmitted anew the ISD Request paperwork. Every required detail of information that has been requested by EdFinancial has been included in the attached VOEs. \\n\\nI have been denied each of the four times, and each for different and often conflicting and therefore nonsensical reasons. \\n\\nThe paperwork as I have submitted it is correct. In my first denial from XX/XX/XXXX, I was told that the anticipated graduation date was not necessary to include if it was not known. This is true in my case -- I do not have an anticipated completion date ( ACD ). \\n\\nBecause I am studying in XXXX, I also can not include the school 's OPE-ID because it does not exist for this foreign university. \\n\\nI am attaching here several email threads I have had with Customer Service; all my official notices from EdFinancial with denials ; Certificates of Enrollment which are issued per semester by my university ; a sheet detailing the semesters for which I have been enrolled full time ; and my latest VOE and ISD application paperwork as submitted in XX/XX/XXXX. \\nI can not access a history of my submitted documents to EdFinancial, and have also included a screenshot indicating that this information is being hidden from my self-service portal on the website. \\n\\nIn summary, as a full-time doctoral student for over XXXX year now at this university, I technically and legally meet every requirement in order to be given an in-school deferment through the length of my studies here in XXXX. The paperwork indicates that I am abiding by their requirements, and they are unlawfully withholding this and being entirely evasive and duplicitous.\"), Document(metadata={'source': './data/complaints.csv', 'row': 454, 'Date received': '03/25/25', 'Product': 'Student loan', 'Sub-product': 'Federal student loan servicing', 'Issue': 'Dealing with your lender or servicer', 'Sub-issue': 'Problem with customer service', 'Consumer complaint narrative': 'I am re-submitting this complaint regarding Aidvantages mishandling of my federal student loan repayment timeline and their refusal to apply the full six-month grace period to which I am legally entitled. \\nI completed my Professional XXXX XXXX  at the XXXX XXXX XXXX XXXX XXXX ), a non-traditional, modular program. My last class concluded on XX/XX/XXXX, and my degree was awarded on XX/XX/XXXX. XXXX provided a formal enrollment confirmation letter detailing my course load, which included XXXX credit hours from XXXX through XXXX XXXX demonstrating full-time enrollment through the end of XXXX. \\nAidvantage rejected this documentation, claiming that my school did not explicitly state that I was enrolled at least half-time during the XXXX XXXX period. However, the enrollment confirmation explicitly lists courses and credit hours, and links to the XXXX XXXX website verifying the non-traditional spring calendar structure. The programs part-of-term structure does not align with traditional semester timelines, which Aidvantage appears to be incorrectly applying. \\nAidvantages own transaction history confirms that a payment was applied to my account on XX/XX/XXXX, which is only 4 months and 23 days after my final class ended on XX/XX/XXXX. This timeline violates the federally mandated six-month grace period, which would extend through XX/XX/XXXX, making my first payment due in XX/XX/XXXX.', 'Company public response': 'None', 'Company': 'Maximus Federal Services, Inc.', 'State': 'GA', 'ZIP code': '30349', 'Tags': 'None', 'Consumer consent provided?': 'Consent provided', 'Submitted via': 'Web', 'Date sent to company': '03/25/25', 'Company response to consumer': 'Closed with explanation', 'Timely response?': 'Yes', 'Consumer disputed?': 'N/A', 'Complaint ID': '12623416', '_id': '44ead3343cb44c6ebfc2f2c318171bc5', '_collection_name': 'LoanComplaints'}, page_content='I am re-submitting this complaint regarding Aidvantages mishandling of my federal student loan repayment timeline and their refusal to apply the full six-month grace period to which I am legally entitled. \\nI completed my Professional XXXX XXXX  at the XXXX XXXX XXXX XXXX XXXX ), a non-traditional, modular program. My last class concluded on XX/XX/XXXX, and my degree was awarded on XX/XX/XXXX. XXXX provided a formal enrollment confirmation letter detailing my course load, which included XXXX credit hours from XXXX through XXXX XXXX demonstrating full-time enrollment through the end of XXXX. \\nAidvantage rejected this documentation, claiming that my school did not explicitly state that I was enrolled at least half-time during the XXXX XXXX period. However, the enrollment confirmation explicitly lists courses and credit hours, and links to the XXXX XXXX website verifying the non-traditional spring calendar structure. The programs part-of-term structure does not align with traditional semester timelines, which Aidvantage appears to be incorrectly applying. \\nAidvantages own transaction history confirms that a payment was applied to my account on XX/XX/XXXX, which is only 4 months and 23 days after my final class ended on XX/XX/XXXX. This timeline violates the federally mandated six-month grace period, which would extend through XX/XX/XXXX, making my first payment due in XX/XX/XXXX.'), Document(metadata={'source': './data/complaints.csv', 'row': 631, 'Date received': '03/25/25', 'Product': 'Student loan', 'Sub-product': 'Federal student loan servicing', 'Issue': 'Dealing with your lender or servicer', 'Sub-issue': 'Received bad information about your loan', 'Consumer complaint narrative': \"Formal Complaint Against XXXXXXXX XXXX XXXX XXXX XXXXXXXX ( XXXX ) for Financial Misconduct and Misclassification Dear CFPB Representative, I am submitting this formal complaint to request your office 's investigation into XXXXXXXX XXXX XXXX XXXX XXXXXXXX ( XXXX ) for engaging in deceptive financial practices, student misclassification, and systemic failure to correct financial aid-related recordsactions that have caused me severe financial harm and appear to violate multiple federal statutes. \\n\\nSummary of the Issue : I was enrolled at XXXX from XXXX to XXXX as a post-baccalaureate student. \\n\\nXXXX misclassified me as a graduate student, resulting in the disbursement of XXXX-level federal student loans, despite charging me XXXX tuition. \\n\\nThis misclassification has caused me to pay higher interest rates for over 20 years, and I have been denied access to graduate education as a result. \\n\\nI notified XXXX of this error more than a month ago, yet they have taken no corrective action or provided documentation to confirm any updates. \\n\\nViolations of CFPB Jurisdiction Include : Consumer Financial Protection Act ( CFPA ) 12 U.S.C. 5531 XXXX 's failure to disclose accurate loan classification and their inaction constitute deceptive and unfair practices. \\n\\nHigher Education Act ( HEA ) 20 U.S.C. 1094 ( a ) ( 3 ) Improper reporting to the National Student Loan Data System ( NSLDS ), impacting federal student aid. \\n\\nFailure to Provide Timely Corrections Under FERPA XXXX has ignored formal requests to amend my educational records under federal law. \\n\\nRequest for CFPB Action : Open an investigation into XXXX  handling of student classifications and financial aid reporting. \\n\\nWork with the Department of Education and relevant state agencies to ensure institutional compliance. \\n\\nProvide guidance on how I may seek compensation, student loan recalculation, or other financial remedies.\\n\\nI believe this issue may impact many more students, and as such, I am urging your office to assess whether XXXX has engaged in systemic financial misconduct that has harmed consumers. \\n\\nPlease confirm receipt of this complaint. I am available to provide documentation, including copies of my student records, loan statements, and correspondence with XXXX. \\n\\nThank you for your time and attention to this matter. \\n\\nSincerely, XXXX XXXX ID : XXXXXXXX XXXX XXXX XXXX XXXX\", 'Company public response': 'None', 'Company': 'Maximus Federal Services, Inc.', 'State': 'MS', 'ZIP code': '394XX', 'Tags': 'None', 'Consumer consent provided?': 'Consent provided', 'Submitted via': 'Web', 'Date sent to company': '03/25/25', 'Company response to consumer': 'Closed with explanation', 'Timely response?': 'Yes', 'Consumer disputed?': 'N/A', 'Complaint ID': '12665501', '_id': '321af04c7afb41ae8609359b9b0f8400', '_collection_name': 'LoanComplaints'}, page_content=\"Formal Complaint Against XXXXXXXX XXXX XXXX XXXX XXXXXXXX ( XXXX ) for Financial Misconduct and Misclassification Dear CFPB Representative, I am submitting this formal complaint to request your office 's investigation into XXXXXXXX XXXX XXXX XXXX XXXXXXXX ( XXXX ) for engaging in deceptive financial practices, student misclassification, and systemic failure to correct financial aid-related recordsactions that have caused me severe financial harm and appear to violate multiple federal statutes. \\n\\nSummary of the Issue : I was enrolled at XXXX from XXXX to XXXX as a post-baccalaureate student. \\n\\nXXXX misclassified me as a graduate student, resulting in the disbursement of XXXX-level federal student loans, despite charging me XXXX tuition. \\n\\nThis misclassification has caused me to pay higher interest rates for over 20 years, and I have been denied access to graduate education as a result. \\n\\nI notified XXXX of this error more than a month ago, yet they have taken no corrective action or provided documentation to confirm any updates. \\n\\nViolations of CFPB Jurisdiction Include : Consumer Financial Protection Act ( CFPA ) 12 U.S.C. 5531 XXXX 's failure to disclose accurate loan classification and their inaction constitute deceptive and unfair practices. \\n\\nHigher Education Act ( HEA ) 20 U.S.C. 1094 ( a ) ( 3 ) Improper reporting to the National Student Loan Data System ( NSLDS ), impacting federal student aid. \\n\\nFailure to Provide Timely Corrections Under FERPA XXXX has ignored formal requests to amend my educational records under federal law. \\n\\nRequest for CFPB Action : Open an investigation into XXXX  handling of student classifications and financial aid reporting. \\n\\nWork with the Department of Education and relevant state agencies to ensure institutional compliance. \\n\\nProvide guidance on how I may seek compensation, student loan recalculation, or other financial remedies.\\n\\nI believe this issue may impact many more students, and as such, I am urging your office to assess whether XXXX has engaged in systemic financial misconduct that has harmed consumers. \\n\\nPlease confirm receipt of this complaint. I am available to provide documentation, including copies of my student records, loan statements, and correspondence with XXXX. \\n\\nThank you for your time and attention to this matter. \\n\\nSincerely, XXXX XXXX ID : XXXXXXXX XXXX XXXX XXXX XXXX\"), Document(metadata={'source': './data/complaints.csv', 'row': 573, 'Date received': '04/16/25', 'Product': 'Student loan', 'Sub-product': 'Federal student loan servicing', 'Issue': 'Dealing with your lender or servicer', 'Sub-issue': 'Received bad information about your loan', 'Consumer complaint narrative': 'XX/XX/XXXX Received a letter that loans ( XXXX ) were in repayment for XXXX a month and due XXXX due to my last enrollment date being XXXX XX/XX/XXXX Received another letter all loans in repayment XXXX, XXXX, XXXX ( XXXX a month ) due XX/XX/XXXX and XXXX ( XXXX ) due XXXX XXXX XXXX XX/XX/XXXX Uploaded in school letter from XXXX indicating full time status from XX/XX/XXXXat same school XX/XX/XXXX Request received for in school deferment XX/XX/XXXX Called Aidvantage to request review and confirm receipt of in school deferment, ask why I was no longer in school status XX/XX/XXXX Letter due to updated enrollment Loan XXXX, XXXX, XXXX XXXX are no longer in repayment until XXXX XXXX XXXX Letter In school deferment for loan XXXX approved until XXXX XXXX XXXX Letter in school deferment for loan XXXX approved until XXXX XX/XX/XXXX Letter in school deferment for loan XXXX approved until XXXX XXXX XXXX Letter Deferment denied Loan XXXX, XXXX due to school not being eligible since XX/XX/XXXX for in school status XXXX XXXX Called Loan Servicer to explain why in school status is approved for loans XXXX, XXXX, XXXX, XXXX and not for loans XXXXXXXX XXXX XXXX, told that loans were in administrative forberance until graduation date in XXXX I responded that it doesnt resolve the issue of the XXXX  month grace period post graduation. The issue was sent for research. \\n\\nXXXX XXXX XXXX deferment denied loan XXXX, XXXX due to school not being eligible, no explanation on how of my loans are eligible, no explanation on why the school is ineligible, no explanation on how I was considered in school status to disburse loans to me for fall XXXX, and spring XXXX and not considered in school status for repayment XXXX XXXX called Aidvantage to speak with team lead/supervisor was unable to explain what had happened or why, again elevated request to research team XX/XX/XXXX more letters uploaded with the same denial of deferment without explanation', 'Company public response': 'None', 'Company': 'Maximus Federal Services, Inc.', 'State': 'OH', 'ZIP code': '44120', 'Tags': 'None', 'Consumer consent provided?': 'Consent provided', 'Submitted via': 'Web', 'Date sent to company': '04/16/25', 'Company response to consumer': 'Closed with explanation', 'Timely response?': 'Yes', 'Consumer disputed?': 'N/A', 'Complaint ID': '13001174', '_id': '147ab75ebe034c099728b3b637ed849f', '_collection_name': 'LoanComplaints'}, page_content='XX/XX/XXXX Received a letter that loans ( XXXX ) were in repayment for XXXX a month and due XXXX due to my last enrollment date being XXXX XX/XX/XXXX Received another letter all loans in repayment XXXX, XXXX, XXXX ( XXXX a month ) due XX/XX/XXXX and XXXX ( XXXX ) due XXXX XXXX XXXX XX/XX/XXXX Uploaded in school letter from XXXX indicating full time status from XX/XX/XXXXat same school XX/XX/XXXX Request received for in school deferment XX/XX/XXXX Called Aidvantage to request review and confirm receipt of in school deferment, ask why I was no longer in school status XX/XX/XXXX Letter due to updated enrollment Loan XXXX, XXXX, XXXX XXXX are no longer in repayment until XXXX XXXX XXXX Letter In school deferment for loan XXXX approved until XXXX XXXX XXXX Letter in school deferment for loan XXXX approved until XXXX XX/XX/XXXX Letter in school deferment for loan XXXX approved until XXXX XXXX XXXX Letter Deferment denied Loan XXXX, XXXX due to school not being eligible since XX/XX/XXXX for in school status XXXX XXXX Called Loan Servicer to explain why in school status is approved for loans XXXX, XXXX, XXXX, XXXX and not for loans XXXXXXXX XXXX XXXX, told that loans were in administrative forberance until graduation date in XXXX I responded that it doesnt resolve the issue of the XXXX  month grace period post graduation. The issue was sent for research. \\n\\nXXXX XXXX XXXX deferment denied loan XXXX, XXXX due to school not being eligible, no explanation on how of my loans are eligible, no explanation on why the school is ineligible, no explanation on how I was considered in school status to disburse loans to me for fall XXXX, and spring XXXX and not considered in school status for repayment XXXX XXXX called Aidvantage to speak with team lead/supervisor was unable to explain what had happened or why, again elevated request to research team XX/XX/XXXX more letters uploaded with the same denial of deferment without explanation'), Document(metadata={'source': './data/complaints.csv', 'row': 334, 'Date received': '04/14/25', 'Product': 'Student loan', 'Sub-product': 'Federal student loan servicing', 'Issue': \"Problem with a company's investigation into an existing problem\", 'Sub-issue': 'Difficulty submitting a dispute or getting information about a dispute over the phone', 'Consumer complaint narrative': 'happened? \\nEdit this section In late XX/XX/year>, I enrolled at XXXX XXXX ( formerly known as XXXX XXXX ) in XXXX, Texas, to pursue an XXXX XXXX. \\nUnfortunately, on XX/XX/year>, XXXX XXXX abruptly closed all of its campuses nationwide, including the XXXX location, due to financial difficulties, loss of accreditation, and changes in Department of Education requirements. Although it was stated that an official notification was sent via email, I never received any correspondence regarding the closure. Since then, I have made multiple attempts to contact EDFinancial to resolve the issue, but have not received any resolution. I am currently stilli repaying this XXXX XXXX, despite the fact that I was unable to complete the program, earn any credits, or receive a degree or certificate. The continued existence of this loan on my record is negatively impacting my credit score, and I feel trapped in a situation that l believe to be unjust and misleading.', 'Company public response': 'None', 'Company': 'EdFinancial Services', 'State': 'TX', 'ZIP code': '78516', 'Tags': 'None', 'Consumer consent provided?': 'Consent provided', 'Submitted via': 'Web', 'Date sent to company': '04/14/25', 'Company response to consumer': 'Closed with explanation', 'Timely response?': 'Yes', 'Consumer disputed?': 'N/A', 'Complaint ID': '12980616', '_id': '07b2a2e7f0864df2920bd6b5dcabf146', '_collection_name': 'LoanComplaints'}, page_content='happened? \\nEdit this section In late XX/XX/year>, I enrolled at XXXX XXXX ( formerly known as XXXX XXXX ) in XXXX, Texas, to pursue an XXXX XXXX. \\nUnfortunately, on XX/XX/year>, XXXX XXXX abruptly closed all of its campuses nationwide, including the XXXX location, due to financial difficulties, loss of accreditation, and changes in Department of Education requirements. Although it was stated that an official notification was sent via email, I never received any correspondence regarding the closure. Since then, I have made multiple attempts to contact EDFinancial to resolve the issue, but have not received any resolution. I am currently stilli repaying this XXXX XXXX, despite the fact that I was unable to complete the program, earn any credits, or receive a degree or certificate. The continued existence of this loan on my record is negatively impacting my credit score, and I feel trapped in a situation that l believe to be unjust and misleading.'), Document(metadata={'source': './data/complaints.csv', 'row': 351, 'Date received': '04/01/25', 'Product': 'Student loan', 'Sub-product': 'Federal student loan servicing', 'Issue': 'Struggling to repay your loan', 'Sub-issue': \"Can't temporarily delay making payments\", 'Consumer complaint narrative': 'My personal and financial data was compromised, violating FERPA and title IV.', 'Company public response': 'None', 'Company': 'Nelnet, Inc.', 'State': 'GA', 'ZIP code': '30106', 'Tags': 'None', 'Consumer consent provided?': 'Consent provided', 'Submitted via': 'Web', 'Date sent to company': '04/01/25', 'Company response to consumer': 'Closed with explanation', 'Timely response?': 'Yes', 'Consumer disputed?': 'N/A', 'Complaint ID': '12757135', '_id': '9ebbfe9ee5a24397b31a8c2a9c6bb726', '_collection_name': 'LoanComplaints'}, page_content='My personal and financial data was compromised, violating FERPA and title IV.'), Document(metadata={'source': './data/complaints.csv', 'row': 548, 'Date received': '04/14/25', 'Product': 'Student loan', 'Sub-product': 'Federal student loan servicing', 'Issue': 'Dealing with your lender or servicer', 'Sub-issue': 'Problem with customer service', 'Consumer complaint narrative': 'U.S. Department of Education\\\\nFederal Student AidXXXX XXXX XXXX, XXXX XXXX, XXXX  XXXX To Whom It May Concern : RE : Formal Dispute of Student Loan Request for Review, Validation, and Discharge I am writing to formally dispute the validity and enforceability of the federal student loan ( XXXX ) associated with my name and Social Security Number, under the authority of the Higher Education Act ( HEA ) of 1965, Fair Credit Reporting Act ( FCRA ), and Truth in Lending Act ( TILA ). I respectfully request a comprehensive investigation, verification, and validation of the origin, accounting, and legality of the aforementioned loans. Until such time, I request a hold on any collections, wage garnishment, or reporting to credit bureaus. \\nFurthermore, in light of recent legal and administrative developments, including proposed executive actions to restructure the U.S. Department of Education and shift student loan servicing and oversight to other federal agencies such as the Small Business Administration, I seek immediate clarification of how such structural changes may impact the legitimacy and continuity of any outstanding obligations. \\nLegal Basis for Dispute Higher Education Act of 1965 ( 20 U.S.C. 1087e ) : \\\\nUnder this act, federal student loans must comply with very specific disclosure, servicing, and borrower protection requirements. I request copies of all signed master promissory notes ( MPNs ), disbursement records, and evidence of compliance with disclosure requirements. \\nTruth in Lending Act ( 15 U.S.C. 1601 et seq. ) : \\\\nAny entity involved in extending credit or collecting payments must provide clear, timely, and transparent information about terms, interest rates, and repayment options. I dispute whether such disclosures were provided or understood at the time of origination. \\nFair Credit Reporting Act ( 15 U.S.C. 1681 ) : \\\\nIf this loan is being reported to credit bureaus, you are required to ensure that all information is accurate, verifiable, and complete. Inaccurate reporting constitutes a violation of my rights and may result in legal penalties. \\nAdministrative Procedure Act ( 5 U.S.C. 551559 ) : \\\\nAny major change in agency structure, authority, or regulation ( such as dismantling the Department of Education or transferring loan oversight ) must be governed by due process and public rulemaking. Until such clarity is established, enforcement of loan obligations may be legally premature. \\nBorrower Defense to Repayment ( 34 CFR 685.206 ) : \\\\nIf the school or lender engaged in deceptive or unlawful practices, I reserve the right to pursue a full discharge under this program. I request a review of whether my educational institution is under investigation or has been involved in any such misconduct. \\nRequest for Action Provide full validation and accounting of the loan ( s ), including : Original loan agreements and disbursement records Payment history Interest and fee breakdown Place the loan in forbearance or administrative hold during the investigation Cease any collection or wage garnishment efforts Refrain from reporting negative information to credit bureaus Clarify any upcoming changes in loan servicing authority related to agency restructuring If this matter is not resolved within 30 days, I reserve the right to escalate my concerns to the Consumer Financial Protection Bureau ( CFPB ), State Attorney General, and/or pursue remedies through legal channels. \\nThank you for your prompt attention to this matter. I expect written confirmation of receipt and a full response in compliance with federal consumer laws. \\nSincerely, XXXX XXXXSSN : XXXX [ Last 4 digits ] XXXXnLoan Account XXXX XXXX ( Nelnet )', 'Company public response': 'None', 'Company': 'Nelnet, Inc.', 'State': 'DE', 'ZIP code': '197XX', 'Tags': 'None', 'Consumer consent provided?': 'Consent provided', 'Submitted via': 'Web', 'Date sent to company': '04/14/25', 'Company response to consumer': 'Closed with explanation', 'Timely response?': 'Yes', 'Consumer disputed?': 'N/A', 'Complaint ID': '12981010', '_id': '1c00abe637314d45be0b5eb0da8135bf', '_collection_name': 'LoanComplaints'}, page_content='U.S. Department of Education\\\\nFederal Student AidXXXX XXXX XXXX, XXXX XXXX, XXXX  XXXX To Whom It May Concern : RE : Formal Dispute of Student Loan Request for Review, Validation, and Discharge I am writing to formally dispute the validity and enforceability of the federal student loan ( XXXX ) associated with my name and Social Security Number, under the authority of the Higher Education Act ( HEA ) of 1965, Fair Credit Reporting Act ( FCRA ), and Truth in Lending Act ( TILA ). I respectfully request a comprehensive investigation, verification, and validation of the origin, accounting, and legality of the aforementioned loans. Until such time, I request a hold on any collections, wage garnishment, or reporting to credit bureaus. \\nFurthermore, in light of recent legal and administrative developments, including proposed executive actions to restructure the U.S. Department of Education and shift student loan servicing and oversight to other federal agencies such as the Small Business Administration, I seek immediate clarification of how such structural changes may impact the legitimacy and continuity of any outstanding obligations. \\nLegal Basis for Dispute Higher Education Act of 1965 ( 20 U.S.C. 1087e ) : \\\\nUnder this act, federal student loans must comply with very specific disclosure, servicing, and borrower protection requirements. I request copies of all signed master promissory notes ( MPNs ), disbursement records, and evidence of compliance with disclosure requirements. \\nTruth in Lending Act ( 15 U.S.C. 1601 et seq. ) : \\\\nAny entity involved in extending credit or collecting payments must provide clear, timely, and transparent information about terms, interest rates, and repayment options. I dispute whether such disclosures were provided or understood at the time of origination. \\nFair Credit Reporting Act ( 15 U.S.C. 1681 ) : \\\\nIf this loan is being reported to credit bureaus, you are required to ensure that all information is accurate, verifiable, and complete. Inaccurate reporting constitutes a violation of my rights and may result in legal penalties. \\nAdministrative Procedure Act ( 5 U.S.C. 551559 ) : \\\\nAny major change in agency structure, authority, or regulation ( such as dismantling the Department of Education or transferring loan oversight ) must be governed by due process and public rulemaking. Until such clarity is established, enforcement of loan obligations may be legally premature. \\nBorrower Defense to Repayment ( 34 CFR 685.206 ) : \\\\nIf the school or lender engaged in deceptive or unlawful practices, I reserve the right to pursue a full discharge under this program. I request a review of whether my educational institution is under investigation or has been involved in any such misconduct. \\nRequest for Action Provide full validation and accounting of the loan ( s ), including : Original loan agreements and disbursement records Payment history Interest and fee breakdown Place the loan in forbearance or administrative hold during the investigation Cease any collection or wage garnishment efforts Refrain from reporting negative information to credit bureaus Clarify any upcoming changes in loan servicing authority related to agency restructuring If this matter is not resolved within 30 days, I reserve the right to escalate my concerns to the Consumer Financial Protection Bureau ( CFPB ), State Attorney General, and/or pursue remedies through legal channels. \\nThank you for your prompt attention to this matter. I expect written confirmation of receipt and a full response in compliance with federal consumer laws. \\nSincerely, XXXX XXXXSSN : XXXX [ Last 4 digits ] XXXXnLoan Account XXXX XXXX ( Nelnet )'), Document(metadata={'source': './data/complaints.csv', 'row': 385, 'Date received': '03/30/25', 'Product': 'Student loan', 'Sub-product': 'Federal student loan servicing', 'Issue': 'Dealing with your lender or servicer', 'Sub-issue': \"Don't agree with the fees charged\", 'Consumer complaint narrative': 'I am questioning the accuracy and accredited of XXXX College in XXXX  XXXX, VA. They are not honest about their for-profit status. The fee amount does not correlate nor is it ethical based on my academic attendance and completion. The school is charging me interest on a subsidized loan ( {$5700.00} ). I have multiple unsubsidized loans ( $ XXXX ) that they have falsely listed as \" Forbearance status \\'\\' and they are still enforcing payment and reporting debt.', 'Company public response': 'None', 'Company': 'Nelnet, Inc.', 'State': 'VA', 'ZIP code': '23455', 'Tags': 'None', 'Consumer consent provided?': 'Consent provided', 'Submitted via': 'Web', 'Date sent to company': '03/30/25', 'Company response to consumer': 'Closed with explanation', 'Timely response?': 'Yes', 'Consumer disputed?': 'N/A', 'Complaint ID': '12732706', '_id': 'e336b2f82b3c4befaf1d92934300f5c0', '_collection_name': 'LoanComplaints'}, page_content='I am questioning the accuracy and accredited of XXXX College in XXXX  XXXX, VA. They are not honest about their for-profit status. The fee amount does not correlate nor is it ethical based on my academic attendance and completion. The school is charging me interest on a subsidized loan ( {$5700.00} ). I have multiple unsubsidized loans ( $ XXXX ) that they have falsely listed as \" Forbearance status \\'\\' and they are still enforcing payment and reporting debt.'), Document(metadata={'source': './data/complaints.csv', 'row': 503, 'Date received': '04/14/25', 'Product': 'Student loan', 'Sub-product': 'Federal student loan servicing', 'Issue': 'Struggling to repay your loan', 'Sub-issue': 'Problem with your payment plan', 'Consumer complaint narrative': \"In XXXX, I submitted a complaint to XXXX. \\n\\nI was steered into long term forbearance and deferments. Ultimately I defaulted for a few years because I wasn't offered XXXX. I rehabilitated my loans and then was pushed into forbearance I've been paying on these loans in some capacity since XXXX. I've been unable to keep track of who has my loan and what's been done to my loans over the years because I've been shuffled from one company to the other ( XXXX, XXXX, XXXX, Aidvantage ). I have gotten little information regarding the one-time acount review. It has taken months to get contact back regarding my initial requests I have requested numerous updatse. \\n\\nXXXX XXXX XXXX added a message XX/XX/XXXX XXXX AM I am still awaiting a response and resolution to this request. It has been over 1 year since I submitted this request and have not received a response. Please review and respond with adjustments to my account specifically for the illegal and other predatory lending practices for which XXXX was found liable. I am expecting that a one-time account review is done and specific analysis is provide to me to support the adjustments that are made. I have yet to receive a response from XXXX of XXXX. This has been open since XXXX and still has not been resolved. \\nXXXX XXXX XXXX added a message XX/XX/XXXX XXXX PM I am still awaiting a response and resolution to this request. It has been over 1 year since I submitted this request and have not received a response. Please review and respond with adjustments to my account specifically for the illegal and other predatory lending practices for which XXXX was found liable. I am expecting that a one-time account review is done and specific analysis is provide to me to support the adjustments that are made. \\n\\n\\nIt has been nearly 18 months with no resolution. Now I have discovered that my information was released in violation of FERPA. I am requesting a full discharge of my loans due to these violations and failure to provide a MPN, failure to respond to inquiries in a timely manner.\", 'Company public response': 'None', 'Company': 'Maximus Federal Services, Inc.', 'State': 'TX', 'ZIP code': '75219', 'Tags': 'None', 'Consumer consent provided?': 'Consent provided', 'Submitted via': 'Web', 'Date sent to company': '04/14/25', 'Company response to consumer': 'Closed with explanation', 'Timely response?': 'Yes', 'Consumer disputed?': 'N/A', 'Complaint ID': '12975634', '_id': '498a090c62bb4a8bbb26f7a03410469a', '_collection_name': 'LoanComplaints'}, page_content=\"In XXXX, I submitted a complaint to XXXX. \\n\\nI was steered into long term forbearance and deferments. Ultimately I defaulted for a few years because I wasn't offered XXXX. I rehabilitated my loans and then was pushed into forbearance I've been paying on these loans in some capacity since XXXX. I've been unable to keep track of who has my loan and what's been done to my loans over the years because I've been shuffled from one company to the other ( XXXX, XXXX, XXXX, Aidvantage ). I have gotten little information regarding the one-time acount review. It has taken months to get contact back regarding my initial requests I have requested numerous updatse. \\n\\nXXXX XXXX XXXX added a message XX/XX/XXXX XXXX AM I am still awaiting a response and resolution to this request. It has been over 1 year since I submitted this request and have not received a response. Please review and respond with adjustments to my account specifically for the illegal and other predatory lending practices for which XXXX was found liable. I am expecting that a one-time account review is done and specific analysis is provide to me to support the adjustments that are made. I have yet to receive a response from XXXX of XXXX. This has been open since XXXX and still has not been resolved. \\nXXXX XXXX XXXX added a message XX/XX/XXXX XXXX PM I am still awaiting a response and resolution to this request. It has been over 1 year since I submitted this request and have not received a response. Please review and respond with adjustments to my account specifically for the illegal and other predatory lending practices for which XXXX was found liable. I am expecting that a one-time account review is done and specific analysis is provide to me to support the adjustments that are made. \\n\\n\\nIt has been nearly 18 months with no resolution. Now I have discovered that my information was released in violation of FERPA. I am requesting a full discharge of my loans due to these violations and failure to provide a MPN, failure to respond to inquiries in a timely manner.\")]}\n",
            "reference_outputs {'answer': 'Chapter 1 discusses the inclusion of clinical work in standard term periods, emphasizing that clinical experiences meeting specific criteria—such as participation by all students, lack of control over clinical dates, and credit hour alignment—are considered part of standard terms. Chapter 3 outlines the requirements for academic years, including minimum weeks of instructional time and how different program types, like credit-hour or clock-hour programs, define their academic years. Together, these chapters clarify that clinical work meeting the outlined criteria can be incorporated into standard terms, which are governed by the academic year definitions and instructional time requirements specified in Chapter 3, ensuring compliance with Title IV regulations.', 'context': ['<1-hop>\\n\\nInclusion of Clinical Work in a Standard Term Periods of medical and education program clinical work which is conducted outside the classroom may not be included in a standard term, unless all of the following apply: All students in the program must participate in the practicum or clinical experience, and they must be required to complete the practicum or clinical experience as a condition for applying for licensure or authorization to practice the occupation they intend to pursue; The school has little or no control over the length or starting and ending dates of the practicum or clinical experience. This may be due to constraints imposed by outside licensing bodies or the need to accommodate schedules of entities with which students are being placed (e.g., school districts or hospitals); and Credit hours associated with the practicum or clinical experience must be associated with the term in which most of the training occurs, even if the starting and ending dates do not exactly align with the term dates and/or overlap with another term. If the clinical work meets all the above criteria, terms which include such clinical work are not required to be considered nonstandard, nor are such programs required to be considered non-term, even if the clinical work overlaps another term. This flexibility is limited to required clinical periods associated with standard term programs in medicine (including, but not limited to, allopathic, osteopathic, nursing, veterinary, dentistry, pharmacy, and physical therapy), and student teaching required to obtain a state teaching certificate. See Volume 8, Chapter 3 for additional guidance on certain exceptions to the normal loan period and disbursement timing rules for Direct Loans when clinical work that meets the criteria described above is included in a standard term. Nonstandard Terms Generally, nonstandard terms are terms that are not semesters, trimesters, or quarters. For example, a 5-week term or a 23-week term would be considered a nonstandard term because no standard term can be fewer than nine weeks or greater than 21 weeks in length. Like standard terms, nonstandard terms may be equal in length or may be of different lengths. If a program is offered in a combination of standard terms and nonstandard terms, the program is considered to be offered in nonstandard terms. Also, like standard terms, nonstandard terms may not overlap within a program. Even if a school calls its terms semesters, trimesters, or quarters, they are considered to be nonstandard terms if they do not comply with the policy on standard term length, as described earlier. For instance, a 22-week semester or an 8-week quarter must be treated as a nonstandard term, because a semester cannot contain more than 21 weeks and a quarter must include a minimum of nine weeks. Semesters, trimesters, or quarters are also considered to be nonstandard terms if academic progress is not measured in the manner normally associated with the type of term. For example, if a program is offered in 15-week semesters but measures academic progress in quarter credit hours, the semesters would be considered nonstandard terms.', '<2-hop>\\n\\nChapter 1 Academic Years, Academic Calendars, Payment Periods, and Disbursements Academic Year Requirements Every eligible program must have a defined academic year. A school may have different academic years for different academic programs. For example, a school may choose to define the academic year for a term-based program differently from a non-term program. In some cases, the academic year definition must be different for different programs, such as in the case of a clock-hour program and a credit-hour program. For Title IV purposes, the academic year is defined in weeks of instructional time and credit or clock hours. The program9s academic year does not have to coincide with the school9s academic calendar (see <Academic year definition and effect on awards= later in the chapter). A school may treat two versions of the same academic program (day and night, for example) as separate programs and define different academic years for each version. If a school establishes separate versions of a program, with different academic years, but allows individual students to take courses from both versions, it must be able to demonstrate which program the student is actually enrolled in. Generally, to be considered enrolled in a particular program or version of a program, a student must be taking most of their coursework in that program. Although a school may have different academic years for different programs, it must use the same academic year definition for all Title IV awards for students enrolled in a particular program, and for all other Title IV program purposes. Weeks of Instructional Time in an Academic Year For both undergraduate and graduate programs, the law and regulations require an academic year to include a minimum number of weeks of instructional time. For a program offered in credit hours, the academic year must include at least 30 weeks of instructional time. For a program offered in clock hours, the academic year must include at least 26 weeks of instructional time. Note: See Volume 2, Chapter 2 for information about academic year requirements for direct assessment programs, which do not measure academic progress using credit or clock hours. The number of weeks of instructional time is based on the period that generally begins on the first day of classes in the academic year and ends on the last day of classes or the last day of examinations, whichever is later. Schools that provide 2- or 4-year associate or baccalaureate degree programs may apply to the Department if they want to request approval to establish a full academic year of less than 30 weeks of instructional time. The Department is permitted to grant a reduction for good cause to no less than 26 weeks of instructional time. These requests are handled on a case-by-case basis. To request approval, contact the School Participation Division that oversees your school. A listing of contact information for the regional School Participation Divisions can be found in the Knowledge Center. For all Title IV programs, a week of instructional time is any period of seven consecutive days in which 3 At least one day of regularly scheduled instruction or examinations occurs, or, after the last scheduled day of classes']}\n",
            "inputs {'question': 'How do Chapters 1 and 3 relate to the inclusion of clinical work within standard terms and the definition of academic years for Title IV purposes?'}\n",
            "outputs {'response': AIMessage(content='Chapters 1 and 3 relate to the inclusion of clinical work within standard terms and the definition of academic years for Title IV purposes by establishing clear guidelines and definitions for what constitutes meaningful attendance and full-time enrollment. \\n\\nChapter 1 typically addresses the criteria for including clinical or practical work within the academic calendar, clarifying how such work is recognized as part of the academic year. This ensures that clinical activities are properly integrated into the standard measures used to determine student status, eligibility, and the academic calendar for Title IV purposes.\\n\\nChapter 3 further defines the parameters of the academic year, including how clinical work or internships are counted towards full-time enrollment. It clarifies whether clinical rotations are considered part of the regular academic year, and how they impact the determination of eligibility for federal aid, including disbursement schedules and progress.\\n\\nTogether, these chapters ensure that clinical work is appropriately recognized within the institutional and federal frameworks, aligning the definitions of academic years with the realities of clinical education, so that students’ eligibility for Title IV aid is accurately determined based on the actual structure of their academic programs.\\n\\nIf you need more specific details from the chapters, please let me know!', additional_kwargs={'refusal': None}, response_metadata={'token_usage': {'completion_tokens': 233, 'prompt_tokens': 8995, 'total_tokens': 9228, 'completion_tokens_details': {'accepted_prediction_tokens': 0, 'audio_tokens': 0, 'reasoning_tokens': 0, 'rejected_prediction_tokens': 0}, 'prompt_tokens_details': {'audio_tokens': 0, 'cached_tokens': 0}}, 'model_name': 'gpt-4.1-nano-2025-04-14', 'system_fingerprint': 'fp_38343a2f8f', 'id': 'chatcmpl-ByOEp5va2DN6hP7l3h3qXojGntzP3', 'service_tier': 'default', 'finish_reason': 'stop', 'logprobs': None}, id='run--5e52db7d-5730-4eb0-b2f4-289f8611e299-0', usage_metadata={'input_tokens': 8995, 'output_tokens': 233, 'total_tokens': 9228, 'input_token_details': {'audio': 0, 'cache_read': 0}, 'output_token_details': {'audio': 0, 'reasoning': 0}}), 'context': [Document(metadata={'source': './data/complaints.csv', 'row': 707, 'Date received': '05/07/25', 'Product': 'Student loan', 'Sub-product': 'Federal student loan servicing', 'Issue': 'Struggling to repay your loan', 'Sub-issue': 'Problem with forgiveness, cancellation, or discharge', 'Consumer complaint narrative': \"In 2011, I enrolled at XXXXXXXX XXXX XXXXn XXXX, Texas. Unfortunately, on the second day of classes, I was removed from the program due to an error in the financial aid processing conducted by the university. Specifically, XXXX XXXX  failed to properly account for my father 's per diem income during the initial financial aid calculation, which led to a determination that I did not meet the eligibility requirements for federal student aid. \\n\\nAs a result, I was dismissed from classes by the university on the second day of attendance. I did not attend classes long enough to qualify for federal student aid disbursement. According to the U.S. Department of Educations Federal Student Aid Handbook, a student must begin attendance in all classes for which Title IV aid is awarded in order to remain eligible ( XXXX XXXX, Volume XXXX, Chapter XXXX ). Since I was removed from the institution before establishing meaningful attendance, I should not have been considered as having officially begun the academic period for purposes of loan disbursement. \\n\\nFurthermore, I requested documentation and clarification from XXXX XXXX  regarding this incident, but did not receive a response. I was informed that staffing transitions in the relevant department prevented timely fulfillment of my request.\", 'Company public response': 'None', 'Company': 'Nelnet, Inc.', 'State': 'TX', 'ZIP code': '765XX', 'Tags': 'Servicemember', 'Consumer consent provided?': 'Consent provided', 'Submitted via': 'Web', 'Date sent to company': '05/07/25', 'Company response to consumer': 'Closed with explanation', 'Timely response?': 'Yes', 'Consumer disputed?': 'N/A', 'Complaint ID': '13376952', '_id': 'a901941bc6434a0991e0c8a3c3aa8752', '_collection_name': 'LoanComplaints'}, page_content=\"In 2011, I enrolled at XXXXXXXX XXXX XXXXn XXXX, Texas. Unfortunately, on the second day of classes, I was removed from the program due to an error in the financial aid processing conducted by the university. Specifically, XXXX XXXX  failed to properly account for my father 's per diem income during the initial financial aid calculation, which led to a determination that I did not meet the eligibility requirements for federal student aid. \\n\\nAs a result, I was dismissed from classes by the university on the second day of attendance. I did not attend classes long enough to qualify for federal student aid disbursement. According to the U.S. Department of Educations Federal Student Aid Handbook, a student must begin attendance in all classes for which Title IV aid is awarded in order to remain eligible ( XXXX XXXX, Volume XXXX, Chapter XXXX ). Since I was removed from the institution before establishing meaningful attendance, I should not have been considered as having officially begun the academic period for purposes of loan disbursement. \\n\\nFurthermore, I requested documentation and clarification from XXXX XXXX  regarding this incident, but did not receive a response. I was informed that staffing transitions in the relevant department prevented timely fulfillment of my request.\"), Document(metadata={'source': './data/complaints.csv', 'row': 771, 'Date received': '04/15/25', 'Product': 'Student loan', 'Sub-product': 'Federal student loan servicing', 'Issue': 'Struggling to repay your loan', 'Sub-issue': \"Can't temporarily delay making payments\", 'Consumer complaint narrative': \"I am a full-time doctoral student at the XXXX XXXX XXXX  XXXX XXXX XXXX XXXX, XXXX. I have been enrolled since XX/XX/XXXX. \\n\\nI have submitted paperwork four separate times since XXXX of XXXX, requesting an In-School Deferment. Each time I have been told that the paperwork was not correct. I have received denials in XXXX and XX/XX/XXXX, as well as XXXX and XXXX of XXXX. \\n\\nThe latest time I ensured that all necessary details were indicated in my Verification of Enrollment ( VOE ) and have resubmitted anew the ISD Request paperwork. Every required detail of information that has been requested by EdFinancial has been included in the attached VOEs. \\n\\nI have been denied each of the four times, and each for different and often conflicting and therefore nonsensical reasons. \\n\\nThe paperwork as I have submitted it is correct. In my first denial from XX/XX/XXXX, I was told that the anticipated graduation date was not necessary to include if it was not known. This is true in my case -- I do not have an anticipated completion date ( ACD ). \\n\\nBecause I am studying in XXXX, I also can not include the school 's OPE-ID because it does not exist for this foreign university. \\n\\nI am attaching here several email threads I have had with Customer Service; all my official notices from EdFinancial with denials ; Certificates of Enrollment which are issued per semester by my university ; a sheet detailing the semesters for which I have been enrolled full time ; and my latest VOE and ISD application paperwork as submitted in XX/XX/XXXX. \\nI can not access a history of my submitted documents to EdFinancial, and have also included a screenshot indicating that this information is being hidden from my self-service portal on the website. \\n\\nIn summary, as a full-time doctoral student for over XXXX year now at this university, I technically and legally meet every requirement in order to be given an in-school deferment through the length of my studies here in XXXX. The paperwork indicates that I am abiding by their requirements, and they are unlawfully withholding this and being entirely evasive and duplicitous.\", 'Company public response': 'None', 'Company': 'EdFinancial Services', 'State': 'None', 'ZIP code': 'XXXXX', 'Tags': 'None', 'Consumer consent provided?': 'Consent provided', 'Submitted via': 'Web', 'Date sent to company': '04/15/25', 'Company response to consumer': 'Closed with explanation', 'Timely response?': 'Yes', 'Consumer disputed?': 'N/A', 'Complaint ID': '13005228', '_id': 'd366bd44cc324b47810ffb07b06d5570', '_collection_name': 'LoanComplaints'}, page_content=\"I am a full-time doctoral student at the XXXX XXXX XXXX  XXXX XXXX XXXX XXXX, XXXX. I have been enrolled since XX/XX/XXXX. \\n\\nI have submitted paperwork four separate times since XXXX of XXXX, requesting an In-School Deferment. Each time I have been told that the paperwork was not correct. I have received denials in XXXX and XX/XX/XXXX, as well as XXXX and XXXX of XXXX. \\n\\nThe latest time I ensured that all necessary details were indicated in my Verification of Enrollment ( VOE ) and have resubmitted anew the ISD Request paperwork. Every required detail of information that has been requested by EdFinancial has been included in the attached VOEs. \\n\\nI have been denied each of the four times, and each for different and often conflicting and therefore nonsensical reasons. \\n\\nThe paperwork as I have submitted it is correct. In my first denial from XX/XX/XXXX, I was told that the anticipated graduation date was not necessary to include if it was not known. This is true in my case -- I do not have an anticipated completion date ( ACD ). \\n\\nBecause I am studying in XXXX, I also can not include the school 's OPE-ID because it does not exist for this foreign university. \\n\\nI am attaching here several email threads I have had with Customer Service; all my official notices from EdFinancial with denials ; Certificates of Enrollment which are issued per semester by my university ; a sheet detailing the semesters for which I have been enrolled full time ; and my latest VOE and ISD application paperwork as submitted in XX/XX/XXXX. \\nI can not access a history of my submitted documents to EdFinancial, and have also included a screenshot indicating that this information is being hidden from my self-service portal on the website. \\n\\nIn summary, as a full-time doctoral student for over XXXX year now at this university, I technically and legally meet every requirement in order to be given an in-school deferment through the length of my studies here in XXXX. The paperwork indicates that I am abiding by their requirements, and they are unlawfully withholding this and being entirely evasive and duplicitous.\"), Document(metadata={'source': './data/complaints.csv', 'row': 454, 'Date received': '03/25/25', 'Product': 'Student loan', 'Sub-product': 'Federal student loan servicing', 'Issue': 'Dealing with your lender or servicer', 'Sub-issue': 'Problem with customer service', 'Consumer complaint narrative': 'I am re-submitting this complaint regarding Aidvantages mishandling of my federal student loan repayment timeline and their refusal to apply the full six-month grace period to which I am legally entitled. \\nI completed my Professional XXXX XXXX  at the XXXX XXXX XXXX XXXX XXXX ), a non-traditional, modular program. My last class concluded on XX/XX/XXXX, and my degree was awarded on XX/XX/XXXX. XXXX provided a formal enrollment confirmation letter detailing my course load, which included XXXX credit hours from XXXX through XXXX XXXX demonstrating full-time enrollment through the end of XXXX. \\nAidvantage rejected this documentation, claiming that my school did not explicitly state that I was enrolled at least half-time during the XXXX XXXX period. However, the enrollment confirmation explicitly lists courses and credit hours, and links to the XXXX XXXX website verifying the non-traditional spring calendar structure. The programs part-of-term structure does not align with traditional semester timelines, which Aidvantage appears to be incorrectly applying. \\nAidvantages own transaction history confirms that a payment was applied to my account on XX/XX/XXXX, which is only 4 months and 23 days after my final class ended on XX/XX/XXXX. This timeline violates the federally mandated six-month grace period, which would extend through XX/XX/XXXX, making my first payment due in XX/XX/XXXX.', 'Company public response': 'None', 'Company': 'Maximus Federal Services, Inc.', 'State': 'GA', 'ZIP code': '30349', 'Tags': 'None', 'Consumer consent provided?': 'Consent provided', 'Submitted via': 'Web', 'Date sent to company': '03/25/25', 'Company response to consumer': 'Closed with explanation', 'Timely response?': 'Yes', 'Consumer disputed?': 'N/A', 'Complaint ID': '12623416', '_id': '44ead3343cb44c6ebfc2f2c318171bc5', '_collection_name': 'LoanComplaints'}, page_content='I am re-submitting this complaint regarding Aidvantages mishandling of my federal student loan repayment timeline and their refusal to apply the full six-month grace period to which I am legally entitled. \\nI completed my Professional XXXX XXXX  at the XXXX XXXX XXXX XXXX XXXX ), a non-traditional, modular program. My last class concluded on XX/XX/XXXX, and my degree was awarded on XX/XX/XXXX. XXXX provided a formal enrollment confirmation letter detailing my course load, which included XXXX credit hours from XXXX through XXXX XXXX demonstrating full-time enrollment through the end of XXXX. \\nAidvantage rejected this documentation, claiming that my school did not explicitly state that I was enrolled at least half-time during the XXXX XXXX period. However, the enrollment confirmation explicitly lists courses and credit hours, and links to the XXXX XXXX website verifying the non-traditional spring calendar structure. The programs part-of-term structure does not align with traditional semester timelines, which Aidvantage appears to be incorrectly applying. \\nAidvantages own transaction history confirms that a payment was applied to my account on XX/XX/XXXX, which is only 4 months and 23 days after my final class ended on XX/XX/XXXX. This timeline violates the federally mandated six-month grace period, which would extend through XX/XX/XXXX, making my first payment due in XX/XX/XXXX.'), Document(metadata={'source': './data/complaints.csv', 'row': 631, 'Date received': '03/25/25', 'Product': 'Student loan', 'Sub-product': 'Federal student loan servicing', 'Issue': 'Dealing with your lender or servicer', 'Sub-issue': 'Received bad information about your loan', 'Consumer complaint narrative': \"Formal Complaint Against XXXXXXXX XXXX XXXX XXXX XXXXXXXX ( XXXX ) for Financial Misconduct and Misclassification Dear CFPB Representative, I am submitting this formal complaint to request your office 's investigation into XXXXXXXX XXXX XXXX XXXX XXXXXXXX ( XXXX ) for engaging in deceptive financial practices, student misclassification, and systemic failure to correct financial aid-related recordsactions that have caused me severe financial harm and appear to violate multiple federal statutes. \\n\\nSummary of the Issue : I was enrolled at XXXX from XXXX to XXXX as a post-baccalaureate student. \\n\\nXXXX misclassified me as a graduate student, resulting in the disbursement of XXXX-level federal student loans, despite charging me XXXX tuition. \\n\\nThis misclassification has caused me to pay higher interest rates for over 20 years, and I have been denied access to graduate education as a result. \\n\\nI notified XXXX of this error more than a month ago, yet they have taken no corrective action or provided documentation to confirm any updates. \\n\\nViolations of CFPB Jurisdiction Include : Consumer Financial Protection Act ( CFPA ) 12 U.S.C. 5531 XXXX 's failure to disclose accurate loan classification and their inaction constitute deceptive and unfair practices. \\n\\nHigher Education Act ( HEA ) 20 U.S.C. 1094 ( a ) ( 3 ) Improper reporting to the National Student Loan Data System ( NSLDS ), impacting federal student aid. \\n\\nFailure to Provide Timely Corrections Under FERPA XXXX has ignored formal requests to amend my educational records under federal law. \\n\\nRequest for CFPB Action : Open an investigation into XXXX  handling of student classifications and financial aid reporting. \\n\\nWork with the Department of Education and relevant state agencies to ensure institutional compliance. \\n\\nProvide guidance on how I may seek compensation, student loan recalculation, or other financial remedies.\\n\\nI believe this issue may impact many more students, and as such, I am urging your office to assess whether XXXX has engaged in systemic financial misconduct that has harmed consumers. \\n\\nPlease confirm receipt of this complaint. I am available to provide documentation, including copies of my student records, loan statements, and correspondence with XXXX. \\n\\nThank you for your time and attention to this matter. \\n\\nSincerely, XXXX XXXX ID : XXXXXXXX XXXX XXXX XXXX XXXX\", 'Company public response': 'None', 'Company': 'Maximus Federal Services, Inc.', 'State': 'MS', 'ZIP code': '394XX', 'Tags': 'None', 'Consumer consent provided?': 'Consent provided', 'Submitted via': 'Web', 'Date sent to company': '03/25/25', 'Company response to consumer': 'Closed with explanation', 'Timely response?': 'Yes', 'Consumer disputed?': 'N/A', 'Complaint ID': '12665501', '_id': '321af04c7afb41ae8609359b9b0f8400', '_collection_name': 'LoanComplaints'}, page_content=\"Formal Complaint Against XXXXXXXX XXXX XXXX XXXX XXXXXXXX ( XXXX ) for Financial Misconduct and Misclassification Dear CFPB Representative, I am submitting this formal complaint to request your office 's investigation into XXXXXXXX XXXX XXXX XXXX XXXXXXXX ( XXXX ) for engaging in deceptive financial practices, student misclassification, and systemic failure to correct financial aid-related recordsactions that have caused me severe financial harm and appear to violate multiple federal statutes. \\n\\nSummary of the Issue : I was enrolled at XXXX from XXXX to XXXX as a post-baccalaureate student. \\n\\nXXXX misclassified me as a graduate student, resulting in the disbursement of XXXX-level federal student loans, despite charging me XXXX tuition. \\n\\nThis misclassification has caused me to pay higher interest rates for over 20 years, and I have been denied access to graduate education as a result. \\n\\nI notified XXXX of this error more than a month ago, yet they have taken no corrective action or provided documentation to confirm any updates. \\n\\nViolations of CFPB Jurisdiction Include : Consumer Financial Protection Act ( CFPA ) 12 U.S.C. 5531 XXXX 's failure to disclose accurate loan classification and their inaction constitute deceptive and unfair practices. \\n\\nHigher Education Act ( HEA ) 20 U.S.C. 1094 ( a ) ( 3 ) Improper reporting to the National Student Loan Data System ( NSLDS ), impacting federal student aid. \\n\\nFailure to Provide Timely Corrections Under FERPA XXXX has ignored formal requests to amend my educational records under federal law. \\n\\nRequest for CFPB Action : Open an investigation into XXXX  handling of student classifications and financial aid reporting. \\n\\nWork with the Department of Education and relevant state agencies to ensure institutional compliance. \\n\\nProvide guidance on how I may seek compensation, student loan recalculation, or other financial remedies.\\n\\nI believe this issue may impact many more students, and as such, I am urging your office to assess whether XXXX has engaged in systemic financial misconduct that has harmed consumers. \\n\\nPlease confirm receipt of this complaint. I am available to provide documentation, including copies of my student records, loan statements, and correspondence with XXXX. \\n\\nThank you for your time and attention to this matter. \\n\\nSincerely, XXXX XXXX ID : XXXXXXXX XXXX XXXX XXXX XXXX\"), Document(metadata={'source': './data/complaints.csv', 'row': 573, 'Date received': '04/16/25', 'Product': 'Student loan', 'Sub-product': 'Federal student loan servicing', 'Issue': 'Dealing with your lender or servicer', 'Sub-issue': 'Received bad information about your loan', 'Consumer complaint narrative': 'XX/XX/XXXX Received a letter that loans ( XXXX ) were in repayment for XXXX a month and due XXXX due to my last enrollment date being XXXX XX/XX/XXXX Received another letter all loans in repayment XXXX, XXXX, XXXX ( XXXX a month ) due XX/XX/XXXX and XXXX ( XXXX ) due XXXX XXXX XXXX XX/XX/XXXX Uploaded in school letter from XXXX indicating full time status from XX/XX/XXXXat same school XX/XX/XXXX Request received for in school deferment XX/XX/XXXX Called Aidvantage to request review and confirm receipt of in school deferment, ask why I was no longer in school status XX/XX/XXXX Letter due to updated enrollment Loan XXXX, XXXX, XXXX XXXX are no longer in repayment until XXXX XXXX XXXX Letter In school deferment for loan XXXX approved until XXXX XXXX XXXX Letter in school deferment for loan XXXX approved until XXXX XX/XX/XXXX Letter in school deferment for loan XXXX approved until XXXX XXXX XXXX Letter Deferment denied Loan XXXX, XXXX due to school not being eligible since XX/XX/XXXX for in school status XXXX XXXX Called Loan Servicer to explain why in school status is approved for loans XXXX, XXXX, XXXX, XXXX and not for loans XXXXXXXX XXXX XXXX, told that loans were in administrative forberance until graduation date in XXXX I responded that it doesnt resolve the issue of the XXXX  month grace period post graduation. The issue was sent for research. \\n\\nXXXX XXXX XXXX deferment denied loan XXXX, XXXX due to school not being eligible, no explanation on how of my loans are eligible, no explanation on why the school is ineligible, no explanation on how I was considered in school status to disburse loans to me for fall XXXX, and spring XXXX and not considered in school status for repayment XXXX XXXX called Aidvantage to speak with team lead/supervisor was unable to explain what had happened or why, again elevated request to research team XX/XX/XXXX more letters uploaded with the same denial of deferment without explanation', 'Company public response': 'None', 'Company': 'Maximus Federal Services, Inc.', 'State': 'OH', 'ZIP code': '44120', 'Tags': 'None', 'Consumer consent provided?': 'Consent provided', 'Submitted via': 'Web', 'Date sent to company': '04/16/25', 'Company response to consumer': 'Closed with explanation', 'Timely response?': 'Yes', 'Consumer disputed?': 'N/A', 'Complaint ID': '13001174', '_id': '147ab75ebe034c099728b3b637ed849f', '_collection_name': 'LoanComplaints'}, page_content='XX/XX/XXXX Received a letter that loans ( XXXX ) were in repayment for XXXX a month and due XXXX due to my last enrollment date being XXXX XX/XX/XXXX Received another letter all loans in repayment XXXX, XXXX, XXXX ( XXXX a month ) due XX/XX/XXXX and XXXX ( XXXX ) due XXXX XXXX XXXX XX/XX/XXXX Uploaded in school letter from XXXX indicating full time status from XX/XX/XXXXat same school XX/XX/XXXX Request received for in school deferment XX/XX/XXXX Called Aidvantage to request review and confirm receipt of in school deferment, ask why I was no longer in school status XX/XX/XXXX Letter due to updated enrollment Loan XXXX, XXXX, XXXX XXXX are no longer in repayment until XXXX XXXX XXXX Letter In school deferment for loan XXXX approved until XXXX XXXX XXXX Letter in school deferment for loan XXXX approved until XXXX XX/XX/XXXX Letter in school deferment for loan XXXX approved until XXXX XXXX XXXX Letter Deferment denied Loan XXXX, XXXX due to school not being eligible since XX/XX/XXXX for in school status XXXX XXXX Called Loan Servicer to explain why in school status is approved for loans XXXX, XXXX, XXXX, XXXX and not for loans XXXXXXXX XXXX XXXX, told that loans were in administrative forberance until graduation date in XXXX I responded that it doesnt resolve the issue of the XXXX  month grace period post graduation. The issue was sent for research. \\n\\nXXXX XXXX XXXX deferment denied loan XXXX, XXXX due to school not being eligible, no explanation on how of my loans are eligible, no explanation on why the school is ineligible, no explanation on how I was considered in school status to disburse loans to me for fall XXXX, and spring XXXX and not considered in school status for repayment XXXX XXXX called Aidvantage to speak with team lead/supervisor was unable to explain what had happened or why, again elevated request to research team XX/XX/XXXX more letters uploaded with the same denial of deferment without explanation'), Document(metadata={'source': './data/complaints.csv', 'row': 334, 'Date received': '04/14/25', 'Product': 'Student loan', 'Sub-product': 'Federal student loan servicing', 'Issue': \"Problem with a company's investigation into an existing problem\", 'Sub-issue': 'Difficulty submitting a dispute or getting information about a dispute over the phone', 'Consumer complaint narrative': 'happened? \\nEdit this section In late XX/XX/year>, I enrolled at XXXX XXXX ( formerly known as XXXX XXXX ) in XXXX, Texas, to pursue an XXXX XXXX. \\nUnfortunately, on XX/XX/year>, XXXX XXXX abruptly closed all of its campuses nationwide, including the XXXX location, due to financial difficulties, loss of accreditation, and changes in Department of Education requirements. Although it was stated that an official notification was sent via email, I never received any correspondence regarding the closure. Since then, I have made multiple attempts to contact EDFinancial to resolve the issue, but have not received any resolution. I am currently stilli repaying this XXXX XXXX, despite the fact that I was unable to complete the program, earn any credits, or receive a degree or certificate. The continued existence of this loan on my record is negatively impacting my credit score, and I feel trapped in a situation that l believe to be unjust and misleading.', 'Company public response': 'None', 'Company': 'EdFinancial Services', 'State': 'TX', 'ZIP code': '78516', 'Tags': 'None', 'Consumer consent provided?': 'Consent provided', 'Submitted via': 'Web', 'Date sent to company': '04/14/25', 'Company response to consumer': 'Closed with explanation', 'Timely response?': 'Yes', 'Consumer disputed?': 'N/A', 'Complaint ID': '12980616', '_id': '07b2a2e7f0864df2920bd6b5dcabf146', '_collection_name': 'LoanComplaints'}, page_content='happened? \\nEdit this section In late XX/XX/year>, I enrolled at XXXX XXXX ( formerly known as XXXX XXXX ) in XXXX, Texas, to pursue an XXXX XXXX. \\nUnfortunately, on XX/XX/year>, XXXX XXXX abruptly closed all of its campuses nationwide, including the XXXX location, due to financial difficulties, loss of accreditation, and changes in Department of Education requirements. Although it was stated that an official notification was sent via email, I never received any correspondence regarding the closure. Since then, I have made multiple attempts to contact EDFinancial to resolve the issue, but have not received any resolution. I am currently stilli repaying this XXXX XXXX, despite the fact that I was unable to complete the program, earn any credits, or receive a degree or certificate. The continued existence of this loan on my record is negatively impacting my credit score, and I feel trapped in a situation that l believe to be unjust and misleading.'), Document(metadata={'source': './data/complaints.csv', 'row': 351, 'Date received': '04/01/25', 'Product': 'Student loan', 'Sub-product': 'Federal student loan servicing', 'Issue': 'Struggling to repay your loan', 'Sub-issue': \"Can't temporarily delay making payments\", 'Consumer complaint narrative': 'My personal and financial data was compromised, violating FERPA and title IV.', 'Company public response': 'None', 'Company': 'Nelnet, Inc.', 'State': 'GA', 'ZIP code': '30106', 'Tags': 'None', 'Consumer consent provided?': 'Consent provided', 'Submitted via': 'Web', 'Date sent to company': '04/01/25', 'Company response to consumer': 'Closed with explanation', 'Timely response?': 'Yes', 'Consumer disputed?': 'N/A', 'Complaint ID': '12757135', '_id': '9ebbfe9ee5a24397b31a8c2a9c6bb726', '_collection_name': 'LoanComplaints'}, page_content='My personal and financial data was compromised, violating FERPA and title IV.'), Document(metadata={'source': './data/complaints.csv', 'row': 548, 'Date received': '04/14/25', 'Product': 'Student loan', 'Sub-product': 'Federal student loan servicing', 'Issue': 'Dealing with your lender or servicer', 'Sub-issue': 'Problem with customer service', 'Consumer complaint narrative': 'U.S. Department of Education\\\\nFederal Student AidXXXX XXXX XXXX, XXXX XXXX, XXXX  XXXX To Whom It May Concern : RE : Formal Dispute of Student Loan Request for Review, Validation, and Discharge I am writing to formally dispute the validity and enforceability of the federal student loan ( XXXX ) associated with my name and Social Security Number, under the authority of the Higher Education Act ( HEA ) of 1965, Fair Credit Reporting Act ( FCRA ), and Truth in Lending Act ( TILA ). I respectfully request a comprehensive investigation, verification, and validation of the origin, accounting, and legality of the aforementioned loans. Until such time, I request a hold on any collections, wage garnishment, or reporting to credit bureaus. \\nFurthermore, in light of recent legal and administrative developments, including proposed executive actions to restructure the U.S. Department of Education and shift student loan servicing and oversight to other federal agencies such as the Small Business Administration, I seek immediate clarification of how such structural changes may impact the legitimacy and continuity of any outstanding obligations. \\nLegal Basis for Dispute Higher Education Act of 1965 ( 20 U.S.C. 1087e ) : \\\\nUnder this act, federal student loans must comply with very specific disclosure, servicing, and borrower protection requirements. I request copies of all signed master promissory notes ( MPNs ), disbursement records, and evidence of compliance with disclosure requirements. \\nTruth in Lending Act ( 15 U.S.C. 1601 et seq. ) : \\\\nAny entity involved in extending credit or collecting payments must provide clear, timely, and transparent information about terms, interest rates, and repayment options. I dispute whether such disclosures were provided or understood at the time of origination. \\nFair Credit Reporting Act ( 15 U.S.C. 1681 ) : \\\\nIf this loan is being reported to credit bureaus, you are required to ensure that all information is accurate, verifiable, and complete. Inaccurate reporting constitutes a violation of my rights and may result in legal penalties. \\nAdministrative Procedure Act ( 5 U.S.C. 551559 ) : \\\\nAny major change in agency structure, authority, or regulation ( such as dismantling the Department of Education or transferring loan oversight ) must be governed by due process and public rulemaking. Until such clarity is established, enforcement of loan obligations may be legally premature. \\nBorrower Defense to Repayment ( 34 CFR 685.206 ) : \\\\nIf the school or lender engaged in deceptive or unlawful practices, I reserve the right to pursue a full discharge under this program. I request a review of whether my educational institution is under investigation or has been involved in any such misconduct. \\nRequest for Action Provide full validation and accounting of the loan ( s ), including : Original loan agreements and disbursement records Payment history Interest and fee breakdown Place the loan in forbearance or administrative hold during the investigation Cease any collection or wage garnishment efforts Refrain from reporting negative information to credit bureaus Clarify any upcoming changes in loan servicing authority related to agency restructuring If this matter is not resolved within 30 days, I reserve the right to escalate my concerns to the Consumer Financial Protection Bureau ( CFPB ), State Attorney General, and/or pursue remedies through legal channels. \\nThank you for your prompt attention to this matter. I expect written confirmation of receipt and a full response in compliance with federal consumer laws. \\nSincerely, XXXX XXXXSSN : XXXX [ Last 4 digits ] XXXXnLoan Account XXXX XXXX ( Nelnet )', 'Company public response': 'None', 'Company': 'Nelnet, Inc.', 'State': 'DE', 'ZIP code': '197XX', 'Tags': 'None', 'Consumer consent provided?': 'Consent provided', 'Submitted via': 'Web', 'Date sent to company': '04/14/25', 'Company response to consumer': 'Closed with explanation', 'Timely response?': 'Yes', 'Consumer disputed?': 'N/A', 'Complaint ID': '12981010', '_id': '1c00abe637314d45be0b5eb0da8135bf', '_collection_name': 'LoanComplaints'}, page_content='U.S. Department of Education\\\\nFederal Student AidXXXX XXXX XXXX, XXXX XXXX, XXXX  XXXX To Whom It May Concern : RE : Formal Dispute of Student Loan Request for Review, Validation, and Discharge I am writing to formally dispute the validity and enforceability of the federal student loan ( XXXX ) associated with my name and Social Security Number, under the authority of the Higher Education Act ( HEA ) of 1965, Fair Credit Reporting Act ( FCRA ), and Truth in Lending Act ( TILA ). I respectfully request a comprehensive investigation, verification, and validation of the origin, accounting, and legality of the aforementioned loans. Until such time, I request a hold on any collections, wage garnishment, or reporting to credit bureaus. \\nFurthermore, in light of recent legal and administrative developments, including proposed executive actions to restructure the U.S. Department of Education and shift student loan servicing and oversight to other federal agencies such as the Small Business Administration, I seek immediate clarification of how such structural changes may impact the legitimacy and continuity of any outstanding obligations. \\nLegal Basis for Dispute Higher Education Act of 1965 ( 20 U.S.C. 1087e ) : \\\\nUnder this act, federal student loans must comply with very specific disclosure, servicing, and borrower protection requirements. I request copies of all signed master promissory notes ( MPNs ), disbursement records, and evidence of compliance with disclosure requirements. \\nTruth in Lending Act ( 15 U.S.C. 1601 et seq. ) : \\\\nAny entity involved in extending credit or collecting payments must provide clear, timely, and transparent information about terms, interest rates, and repayment options. I dispute whether such disclosures were provided or understood at the time of origination. \\nFair Credit Reporting Act ( 15 U.S.C. 1681 ) : \\\\nIf this loan is being reported to credit bureaus, you are required to ensure that all information is accurate, verifiable, and complete. Inaccurate reporting constitutes a violation of my rights and may result in legal penalties. \\nAdministrative Procedure Act ( 5 U.S.C. 551559 ) : \\\\nAny major change in agency structure, authority, or regulation ( such as dismantling the Department of Education or transferring loan oversight ) must be governed by due process and public rulemaking. Until such clarity is established, enforcement of loan obligations may be legally premature. \\nBorrower Defense to Repayment ( 34 CFR 685.206 ) : \\\\nIf the school or lender engaged in deceptive or unlawful practices, I reserve the right to pursue a full discharge under this program. I request a review of whether my educational institution is under investigation or has been involved in any such misconduct. \\nRequest for Action Provide full validation and accounting of the loan ( s ), including : Original loan agreements and disbursement records Payment history Interest and fee breakdown Place the loan in forbearance or administrative hold during the investigation Cease any collection or wage garnishment efforts Refrain from reporting negative information to credit bureaus Clarify any upcoming changes in loan servicing authority related to agency restructuring If this matter is not resolved within 30 days, I reserve the right to escalate my concerns to the Consumer Financial Protection Bureau ( CFPB ), State Attorney General, and/or pursue remedies through legal channels. \\nThank you for your prompt attention to this matter. I expect written confirmation of receipt and a full response in compliance with federal consumer laws. \\nSincerely, XXXX XXXXSSN : XXXX [ Last 4 digits ] XXXXnLoan Account XXXX XXXX ( Nelnet )'), Document(metadata={'source': './data/complaints.csv', 'row': 385, 'Date received': '03/30/25', 'Product': 'Student loan', 'Sub-product': 'Federal student loan servicing', 'Issue': 'Dealing with your lender or servicer', 'Sub-issue': \"Don't agree with the fees charged\", 'Consumer complaint narrative': 'I am questioning the accuracy and accredited of XXXX College in XXXX  XXXX, VA. They are not honest about their for-profit status. The fee amount does not correlate nor is it ethical based on my academic attendance and completion. The school is charging me interest on a subsidized loan ( {$5700.00} ). I have multiple unsubsidized loans ( $ XXXX ) that they have falsely listed as \" Forbearance status \\'\\' and they are still enforcing payment and reporting debt.', 'Company public response': 'None', 'Company': 'Nelnet, Inc.', 'State': 'VA', 'ZIP code': '23455', 'Tags': 'None', 'Consumer consent provided?': 'Consent provided', 'Submitted via': 'Web', 'Date sent to company': '03/30/25', 'Company response to consumer': 'Closed with explanation', 'Timely response?': 'Yes', 'Consumer disputed?': 'N/A', 'Complaint ID': '12732706', '_id': 'e336b2f82b3c4befaf1d92934300f5c0', '_collection_name': 'LoanComplaints'}, page_content='I am questioning the accuracy and accredited of XXXX College in XXXX  XXXX, VA. They are not honest about their for-profit status. The fee amount does not correlate nor is it ethical based on my academic attendance and completion. The school is charging me interest on a subsidized loan ( {$5700.00} ). I have multiple unsubsidized loans ( $ XXXX ) that they have falsely listed as \" Forbearance status \\'\\' and they are still enforcing payment and reporting debt.'), Document(metadata={'source': './data/complaints.csv', 'row': 503, 'Date received': '04/14/25', 'Product': 'Student loan', 'Sub-product': 'Federal student loan servicing', 'Issue': 'Struggling to repay your loan', 'Sub-issue': 'Problem with your payment plan', 'Consumer complaint narrative': \"In XXXX, I submitted a complaint to XXXX. \\n\\nI was steered into long term forbearance and deferments. Ultimately I defaulted for a few years because I wasn't offered XXXX. I rehabilitated my loans and then was pushed into forbearance I've been paying on these loans in some capacity since XXXX. I've been unable to keep track of who has my loan and what's been done to my loans over the years because I've been shuffled from one company to the other ( XXXX, XXXX, XXXX, Aidvantage ). I have gotten little information regarding the one-time acount review. It has taken months to get contact back regarding my initial requests I have requested numerous updatse. \\n\\nXXXX XXXX XXXX added a message XX/XX/XXXX XXXX AM I am still awaiting a response and resolution to this request. It has been over 1 year since I submitted this request and have not received a response. Please review and respond with adjustments to my account specifically for the illegal and other predatory lending practices for which XXXX was found liable. I am expecting that a one-time account review is done and specific analysis is provide to me to support the adjustments that are made. I have yet to receive a response from XXXX of XXXX. This has been open since XXXX and still has not been resolved. \\nXXXX XXXX XXXX added a message XX/XX/XXXX XXXX PM I am still awaiting a response and resolution to this request. It has been over 1 year since I submitted this request and have not received a response. Please review and respond with adjustments to my account specifically for the illegal and other predatory lending practices for which XXXX was found liable. I am expecting that a one-time account review is done and specific analysis is provide to me to support the adjustments that are made. \\n\\n\\nIt has been nearly 18 months with no resolution. Now I have discovered that my information was released in violation of FERPA. I am requesting a full discharge of my loans due to these violations and failure to provide a MPN, failure to respond to inquiries in a timely manner.\", 'Company public response': 'None', 'Company': 'Maximus Federal Services, Inc.', 'State': 'TX', 'ZIP code': '75219', 'Tags': 'None', 'Consumer consent provided?': 'Consent provided', 'Submitted via': 'Web', 'Date sent to company': '04/14/25', 'Company response to consumer': 'Closed with explanation', 'Timely response?': 'Yes', 'Consumer disputed?': 'N/A', 'Complaint ID': '12975634', '_id': '498a090c62bb4a8bbb26f7a03410469a', '_collection_name': 'LoanComplaints'}, page_content=\"In XXXX, I submitted a complaint to XXXX. \\n\\nI was steered into long term forbearance and deferments. Ultimately I defaulted for a few years because I wasn't offered XXXX. I rehabilitated my loans and then was pushed into forbearance I've been paying on these loans in some capacity since XXXX. I've been unable to keep track of who has my loan and what's been done to my loans over the years because I've been shuffled from one company to the other ( XXXX, XXXX, XXXX, Aidvantage ). I have gotten little information regarding the one-time acount review. It has taken months to get contact back regarding my initial requests I have requested numerous updatse. \\n\\nXXXX XXXX XXXX added a message XX/XX/XXXX XXXX AM I am still awaiting a response and resolution to this request. It has been over 1 year since I submitted this request and have not received a response. Please review and respond with adjustments to my account specifically for the illegal and other predatory lending practices for which XXXX was found liable. I am expecting that a one-time account review is done and specific analysis is provide to me to support the adjustments that are made. I have yet to receive a response from XXXX of XXXX. This has been open since XXXX and still has not been resolved. \\nXXXX XXXX XXXX added a message XX/XX/XXXX XXXX PM I am still awaiting a response and resolution to this request. It has been over 1 year since I submitted this request and have not received a response. Please review and respond with adjustments to my account specifically for the illegal and other predatory lending practices for which XXXX was found liable. I am expecting that a one-time account review is done and specific analysis is provide to me to support the adjustments that are made. \\n\\n\\nIt has been nearly 18 months with no resolution. Now I have discovered that my information was released in violation of FERPA. I am requesting a full discharge of my loans due to these violations and failure to provide a MPN, failure to respond to inquiries in a timely manner.\")]}\n",
            "reference_outputs {'answer': 'Chapter 1 discusses the inclusion of clinical work in standard term periods, emphasizing that clinical experiences meeting specific criteria—such as participation by all students, lack of control over clinical dates, and credit hour alignment—are considered part of standard terms. Chapter 3 outlines the requirements for academic years, including minimum weeks of instructional time and how different program types, like credit-hour or clock-hour programs, define their academic years. Together, these chapters clarify that clinical work meeting the outlined criteria can be incorporated into standard terms, which are governed by the academic year definitions and instructional time requirements specified in Chapter 3, ensuring compliance with Title IV regulations.', 'context': ['<1-hop>\\n\\nInclusion of Clinical Work in a Standard Term Periods of medical and education program clinical work which is conducted outside the classroom may not be included in a standard term, unless all of the following apply: All students in the program must participate in the practicum or clinical experience, and they must be required to complete the practicum or clinical experience as a condition for applying for licensure or authorization to practice the occupation they intend to pursue; The school has little or no control over the length or starting and ending dates of the practicum or clinical experience. This may be due to constraints imposed by outside licensing bodies or the need to accommodate schedules of entities with which students are being placed (e.g., school districts or hospitals); and Credit hours associated with the practicum or clinical experience must be associated with the term in which most of the training occurs, even if the starting and ending dates do not exactly align with the term dates and/or overlap with another term. If the clinical work meets all the above criteria, terms which include such clinical work are not required to be considered nonstandard, nor are such programs required to be considered non-term, even if the clinical work overlaps another term. This flexibility is limited to required clinical periods associated with standard term programs in medicine (including, but not limited to, allopathic, osteopathic, nursing, veterinary, dentistry, pharmacy, and physical therapy), and student teaching required to obtain a state teaching certificate. See Volume 8, Chapter 3 for additional guidance on certain exceptions to the normal loan period and disbursement timing rules for Direct Loans when clinical work that meets the criteria described above is included in a standard term. Nonstandard Terms Generally, nonstandard terms are terms that are not semesters, trimesters, or quarters. For example, a 5-week term or a 23-week term would be considered a nonstandard term because no standard term can be fewer than nine weeks or greater than 21 weeks in length. Like standard terms, nonstandard terms may be equal in length or may be of different lengths. If a program is offered in a combination of standard terms and nonstandard terms, the program is considered to be offered in nonstandard terms. Also, like standard terms, nonstandard terms may not overlap within a program. Even if a school calls its terms semesters, trimesters, or quarters, they are considered to be nonstandard terms if they do not comply with the policy on standard term length, as described earlier. For instance, a 22-week semester or an 8-week quarter must be treated as a nonstandard term, because a semester cannot contain more than 21 weeks and a quarter must include a minimum of nine weeks. Semesters, trimesters, or quarters are also considered to be nonstandard terms if academic progress is not measured in the manner normally associated with the type of term. For example, if a program is offered in 15-week semesters but measures academic progress in quarter credit hours, the semesters would be considered nonstandard terms.', '<2-hop>\\n\\nChapter 1 Academic Years, Academic Calendars, Payment Periods, and Disbursements Academic Year Requirements Every eligible program must have a defined academic year. A school may have different academic years for different academic programs. For example, a school may choose to define the academic year for a term-based program differently from a non-term program. In some cases, the academic year definition must be different for different programs, such as in the case of a clock-hour program and a credit-hour program. For Title IV purposes, the academic year is defined in weeks of instructional time and credit or clock hours. The program9s academic year does not have to coincide with the school9s academic calendar (see <Academic year definition and effect on awards= later in the chapter). A school may treat two versions of the same academic program (day and night, for example) as separate programs and define different academic years for each version. If a school establishes separate versions of a program, with different academic years, but allows individual students to take courses from both versions, it must be able to demonstrate which program the student is actually enrolled in. Generally, to be considered enrolled in a particular program or version of a program, a student must be taking most of their coursework in that program. Although a school may have different academic years for different programs, it must use the same academic year definition for all Title IV awards for students enrolled in a particular program, and for all other Title IV program purposes. Weeks of Instructional Time in an Academic Year For both undergraduate and graduate programs, the law and regulations require an academic year to include a minimum number of weeks of instructional time. For a program offered in credit hours, the academic year must include at least 30 weeks of instructional time. For a program offered in clock hours, the academic year must include at least 26 weeks of instructional time. Note: See Volume 2, Chapter 2 for information about academic year requirements for direct assessment programs, which do not measure academic progress using credit or clock hours. The number of weeks of instructional time is based on the period that generally begins on the first day of classes in the academic year and ends on the last day of classes or the last day of examinations, whichever is later. Schools that provide 2- or 4-year associate or baccalaureate degree programs may apply to the Department if they want to request approval to establish a full academic year of less than 30 weeks of instructional time. The Department is permitted to grant a reduction for good cause to no less than 26 weeks of instructional time. These requests are handled on a case-by-case basis. To request approval, contact the School Participation Division that oversees your school. A listing of contact information for the regional School Participation Divisions can be found in the Knowledge Center. For all Title IV programs, a week of instructional time is any period of seven consecutive days in which 3 At least one day of regularly scheduled instruction or examinations occurs, or, after the last scheduled day of classes']}\n"
          ]
        },
        {
          "name": "stderr",
          "output_type": "stream",
          "text": [
            "  0%|          | 0/7 [00:32<?, ?it/s]\n"
          ]
        },
        {
          "ename": "KeyboardInterrupt",
          "evalue": "",
          "output_type": "error",
          "traceback": [
            "\u001b[31m---------------------------------------------------------------------------\u001b[39m",
            "\u001b[31mKeyboardInterrupt\u001b[39m                         Traceback (most recent call last)",
            "\u001b[36mCell\u001b[39m\u001b[36m \u001b[39m\u001b[32mIn[171]\u001b[39m\u001b[32m, line 5\u001b[39m\n\u001b[32m      3\u001b[39m \u001b[38;5;28;01mfor\u001b[39;00m invocable_name, invocable \u001b[38;5;129;01min\u001b[39;00m tqdm(invocables.items()):\n\u001b[32m      4\u001b[39m   \u001b[38;5;28mprint\u001b[39m(\u001b[33m\"\u001b[39m\u001b[33mBeginning evaluation of\u001b[39m\u001b[33m\"\u001b[39m, invocable_name)\n\u001b[32m----> \u001b[39m\u001b[32m5\u001b[39m   result = \u001b[43mrun_eval\u001b[49m\u001b[43m(\u001b[49m\u001b[43minvocable\u001b[49m\u001b[43m,\u001b[49m\u001b[43m \u001b[49m\u001b[43minvocable_name\u001b[49m\u001b[43m,\u001b[49m\u001b[43m \u001b[49m\u001b[43mdataset_name\u001b[49m\u001b[43m)\u001b[49m\n\u001b[32m      6\u001b[39m   \u001b[38;5;28mprint\u001b[39m(result)\n\u001b[32m      7\u001b[39m   \u001b[38;5;28mprint\u001b[39m(\u001b[33m\"\u001b[39m\u001b[33mEvaluation complete\u001b[39m\u001b[33m\"\u001b[39m)\n",
            "\u001b[36mCell\u001b[39m\u001b[36m \u001b[39m\u001b[32mIn[169]\u001b[39m\u001b[32m, line 3\u001b[39m, in \u001b[36mrun_eval\u001b[39m\u001b[34m(invocable, invocable_name, dataset_name)\u001b[39m\n\u001b[32m      1\u001b[39m \u001b[38;5;28;01mdef\u001b[39;00m\u001b[38;5;250m \u001b[39m\u001b[34mrun_eval\u001b[39m(invocable, invocable_name, dataset_name):\n\u001b[32m      2\u001b[39m     \u001b[38;5;66;03m# Run evaluation with all metrics tracked in LangSmith\u001b[39;00m\n\u001b[32m----> \u001b[39m\u001b[32m3\u001b[39m     \u001b[43mevaluate\u001b[49m\u001b[43m(\u001b[49m\n\u001b[32m      4\u001b[39m \u001b[43m        \u001b[49m\u001b[43minvocable\u001b[49m\u001b[43m.\u001b[49m\u001b[43minvoke\u001b[49m\u001b[43m,\u001b[49m\n\u001b[32m      5\u001b[39m \u001b[43m        \u001b[49m\u001b[43mdata\u001b[49m\u001b[43m=\u001b[49m\u001b[43mdataset_name\u001b[49m\u001b[43m,\u001b[49m\n\u001b[32m      6\u001b[39m \u001b[43m        \u001b[49m\u001b[43mevaluators\u001b[49m\u001b[43m=\u001b[49m\u001b[43mevaluators\u001b[49m\u001b[43m,\u001b[49m\n\u001b[32m      7\u001b[39m \u001b[43m        \u001b[49m\u001b[43mmetadata\u001b[49m\u001b[43m=\u001b[49m\u001b[43m{\u001b[49m\u001b[33;43m\"\u001b[39;49m\u001b[33;43mrevision_id\u001b[39;49m\u001b[33;43m\"\u001b[39;49m\u001b[43m:\u001b[49m\u001b[43m \u001b[49m\u001b[43minvocable_name\u001b[49m\u001b[43m}\u001b[49m\u001b[43m,\u001b[49m\n\u001b[32m      8\u001b[39m \u001b[43m    \u001b[49m\u001b[43m)\u001b[49m\n",
            "\u001b[36mFile \u001b[39m\u001b[32m~/git-repos/AIE7/09_Advanced_Retrieval/.venv/lib/python3.13/site-packages/langsmith/evaluation/_runner.py:423\u001b[39m, in \u001b[36mevaluate\u001b[39m\u001b[34m(target, data, evaluators, summary_evaluators, metadata, experiment_prefix, description, max_concurrency, num_repetitions, client, blocking, experiment, upload_results, error_handling, **kwargs)\u001b[39m\n\u001b[32m    421\u001b[39m     _warn_once(\u001b[33m\"\u001b[39m\u001b[33m'\u001b[39m\u001b[33mupload_results\u001b[39m\u001b[33m'\u001b[39m\u001b[33m parameter is in beta.\u001b[39m\u001b[33m\"\u001b[39m)\n\u001b[32m    422\u001b[39m logger.debug(\u001b[33mf\u001b[39m\u001b[33m\"\u001b[39m\u001b[33mRunning evaluation over target system \u001b[39m\u001b[38;5;132;01m{\u001b[39;00mtarget\u001b[38;5;132;01m}\u001b[39;00m\u001b[33m...\u001b[39m\u001b[33m\"\u001b[39m)\n\u001b[32m--> \u001b[39m\u001b[32m423\u001b[39m \u001b[38;5;28;01mreturn\u001b[39;00m \u001b[43m_evaluate\u001b[49m\u001b[43m(\u001b[49m\n\u001b[32m    424\u001b[39m \u001b[43m    \u001b[49m\u001b[43mtarget\u001b[49m\u001b[43m,\u001b[49m\n\u001b[32m    425\u001b[39m \u001b[43m    \u001b[49m\u001b[43mdata\u001b[49m\u001b[43m=\u001b[49m\u001b[43mdata\u001b[49m\u001b[43m,\u001b[49m\n\u001b[32m    426\u001b[39m \u001b[43m    \u001b[49m\u001b[43mevaluators\u001b[49m\u001b[43m=\u001b[49m\u001b[43mcast\u001b[49m\u001b[43m(\u001b[49m\u001b[43mOptional\u001b[49m\u001b[43m[\u001b[49m\u001b[43mSequence\u001b[49m\u001b[43m[\u001b[49m\u001b[43mEVALUATOR_T\u001b[49m\u001b[43m]\u001b[49m\u001b[43m]\u001b[49m\u001b[43m,\u001b[49m\u001b[43m \u001b[49m\u001b[43mevaluators\u001b[49m\u001b[43m)\u001b[49m\u001b[43m,\u001b[49m\n\u001b[32m    427\u001b[39m \u001b[43m    \u001b[49m\u001b[43msummary_evaluators\u001b[49m\u001b[43m=\u001b[49m\u001b[43msummary_evaluators\u001b[49m\u001b[43m,\u001b[49m\n\u001b[32m    428\u001b[39m \u001b[43m    \u001b[49m\u001b[43mmetadata\u001b[49m\u001b[43m=\u001b[49m\u001b[43mmetadata\u001b[49m\u001b[43m,\u001b[49m\n\u001b[32m    429\u001b[39m \u001b[43m    \u001b[49m\u001b[43mexperiment_prefix\u001b[49m\u001b[43m=\u001b[49m\u001b[43mexperiment_prefix\u001b[49m\u001b[43m,\u001b[49m\n\u001b[32m    430\u001b[39m \u001b[43m    \u001b[49m\u001b[43mdescription\u001b[49m\u001b[43m=\u001b[49m\u001b[43mdescription\u001b[49m\u001b[43m,\u001b[49m\n\u001b[32m    431\u001b[39m \u001b[43m    \u001b[49m\u001b[43mmax_concurrency\u001b[49m\u001b[43m=\u001b[49m\u001b[43mmax_concurrency\u001b[49m\u001b[43m,\u001b[49m\n\u001b[32m    432\u001b[39m \u001b[43m    \u001b[49m\u001b[43mnum_repetitions\u001b[49m\u001b[43m=\u001b[49m\u001b[43mnum_repetitions\u001b[49m\u001b[43m,\u001b[49m\n\u001b[32m    433\u001b[39m \u001b[43m    \u001b[49m\u001b[43mclient\u001b[49m\u001b[43m=\u001b[49m\u001b[43mclient\u001b[49m\u001b[43m,\u001b[49m\n\u001b[32m    434\u001b[39m \u001b[43m    \u001b[49m\u001b[43mblocking\u001b[49m\u001b[43m=\u001b[49m\u001b[43mblocking\u001b[49m\u001b[43m,\u001b[49m\n\u001b[32m    435\u001b[39m \u001b[43m    \u001b[49m\u001b[43mexperiment\u001b[49m\u001b[43m=\u001b[49m\u001b[43mexperiment\u001b[49m\u001b[43m,\u001b[49m\n\u001b[32m    436\u001b[39m \u001b[43m    \u001b[49m\u001b[43mupload_results\u001b[49m\u001b[43m=\u001b[49m\u001b[43mupload_results\u001b[49m\u001b[43m,\u001b[49m\n\u001b[32m    437\u001b[39m \u001b[43m    \u001b[49m\u001b[43merror_handling\u001b[49m\u001b[43m=\u001b[49m\u001b[43merror_handling\u001b[49m\u001b[43m,\u001b[49m\n\u001b[32m    438\u001b[39m \u001b[43m\u001b[49m\u001b[43m)\u001b[49m\n",
            "\u001b[36mFile \u001b[39m\u001b[32m~/git-repos/AIE7/09_Advanced_Retrieval/.venv/lib/python3.13/site-packages/langsmith/evaluation/_runner.py:1084\u001b[39m, in \u001b[36m_evaluate\u001b[39m\u001b[34m(target, data, evaluators, summary_evaluators, metadata, experiment_prefix, description, max_concurrency, num_repetitions, client, blocking, experiment, upload_results, error_handling)\u001b[39m\n\u001b[32m   1082\u001b[39m     manager = manager.with_summary_evaluators(summary_evaluators)\n\u001b[32m   1083\u001b[39m \u001b[38;5;66;03m# Start consuming the results.\u001b[39;00m\n\u001b[32m-> \u001b[39m\u001b[32m1084\u001b[39m results = \u001b[43mExperimentResults\u001b[49m\u001b[43m(\u001b[49m\u001b[43mmanager\u001b[49m\u001b[43m,\u001b[49m\u001b[43m \u001b[49m\u001b[43mblocking\u001b[49m\u001b[43m=\u001b[49m\u001b[43mblocking\u001b[49m\u001b[43m)\u001b[49m\n\u001b[32m   1085\u001b[39m \u001b[38;5;28;01mreturn\u001b[39;00m results\n",
            "\u001b[36mFile \u001b[39m\u001b[32m~/git-repos/AIE7/09_Advanced_Retrieval/.venv/lib/python3.13/site-packages/langsmith/evaluation/_runner.py:563\u001b[39m, in \u001b[36mExperimentResults.__init__\u001b[39m\u001b[34m(self, experiment_manager, blocking)\u001b[39m\n\u001b[32m    561\u001b[39m \u001b[38;5;28;01melse\u001b[39;00m:\n\u001b[32m    562\u001b[39m     \u001b[38;5;28mself\u001b[39m._thread = \u001b[38;5;28;01mNone\u001b[39;00m\n\u001b[32m--> \u001b[39m\u001b[32m563\u001b[39m     \u001b[38;5;28;43mself\u001b[39;49m\u001b[43m.\u001b[49m\u001b[43m_process_data\u001b[49m\u001b[43m(\u001b[49m\u001b[43m)\u001b[49m\n",
            "\u001b[36mFile \u001b[39m\u001b[32m~/git-repos/AIE7/09_Advanced_Retrieval/.venv/lib/python3.13/site-packages/langsmith/evaluation/_runner.py:588\u001b[39m, in \u001b[36mExperimentResults._process_data\u001b[39m\u001b[34m(self)\u001b[39m\n\u001b[32m    586\u001b[39m tqdm = _load_tqdm()\n\u001b[32m    587\u001b[39m results = \u001b[38;5;28mself\u001b[39m._manager.get_results()\n\u001b[32m--> \u001b[39m\u001b[32m588\u001b[39m \u001b[43m\u001b[49m\u001b[38;5;28;43;01mfor\u001b[39;49;00m\u001b[43m \u001b[49m\u001b[43mitem\u001b[49m\u001b[43m \u001b[49m\u001b[38;5;129;43;01min\u001b[39;49;00m\u001b[43m \u001b[49m\u001b[43mtqdm\u001b[49m\u001b[43m(\u001b[49m\u001b[43mresults\u001b[49m\u001b[43m)\u001b[49m\u001b[43m:\u001b[49m\n\u001b[32m    589\u001b[39m \u001b[43m    \u001b[49m\u001b[38;5;28;43mself\u001b[39;49m\u001b[43m.\u001b[49m\u001b[43m_queue\u001b[49m\u001b[43m.\u001b[49m\u001b[43mput\u001b[49m\u001b[43m(\u001b[49m\u001b[43mitem\u001b[49m\u001b[43m)\u001b[49m\n\u001b[32m    590\u001b[39m \u001b[43m    \u001b[49m\u001b[38;5;28;43mself\u001b[39;49m\u001b[43m.\u001b[49m\u001b[43m_results\u001b[49m\u001b[43m.\u001b[49m\u001b[43mappend\u001b[49m\u001b[43m(\u001b[49m\u001b[43mitem\u001b[49m\u001b[43m)\u001b[49m\n",
            "\u001b[36mFile \u001b[39m\u001b[32m~/git-repos/AIE7/09_Advanced_Retrieval/.venv/lib/python3.13/site-packages/tqdm/notebook.py:250\u001b[39m, in \u001b[36mtqdm_notebook.__iter__\u001b[39m\u001b[34m(self)\u001b[39m\n\u001b[32m    248\u001b[39m \u001b[38;5;28;01mtry\u001b[39;00m:\n\u001b[32m    249\u001b[39m     it = \u001b[38;5;28msuper\u001b[39m().\u001b[34m__iter__\u001b[39m()\n\u001b[32m--> \u001b[39m\u001b[32m250\u001b[39m \u001b[43m    \u001b[49m\u001b[38;5;28;43;01mfor\u001b[39;49;00m\u001b[43m \u001b[49m\u001b[43mobj\u001b[49m\u001b[43m \u001b[49m\u001b[38;5;129;43;01min\u001b[39;49;00m\u001b[43m \u001b[49m\u001b[43mit\u001b[49m\u001b[43m:\u001b[49m\n\u001b[32m    251\u001b[39m \u001b[43m        \u001b[49m\u001b[38;5;66;43;03m# return super(tqdm...) will not catch exception\u001b[39;49;00m\n\u001b[32m    252\u001b[39m \u001b[43m        \u001b[49m\u001b[38;5;28;43;01myield\u001b[39;49;00m\u001b[43m \u001b[49m\u001b[43mobj\u001b[49m\n\u001b[32m    253\u001b[39m \u001b[38;5;66;03m# NB: except ... [ as ...] breaks IPython async KeyboardInterrupt\u001b[39;00m\n",
            "\u001b[36mFile \u001b[39m\u001b[32m~/git-repos/AIE7/09_Advanced_Retrieval/.venv/lib/python3.13/site-packages/tqdm/std.py:1181\u001b[39m, in \u001b[36mtqdm.__iter__\u001b[39m\u001b[34m(self)\u001b[39m\n\u001b[32m   1178\u001b[39m time = \u001b[38;5;28mself\u001b[39m._time\n\u001b[32m   1180\u001b[39m \u001b[38;5;28;01mtry\u001b[39;00m:\n\u001b[32m-> \u001b[39m\u001b[32m1181\u001b[39m \u001b[43m    \u001b[49m\u001b[38;5;28;43;01mfor\u001b[39;49;00m\u001b[43m \u001b[49m\u001b[43mobj\u001b[49m\u001b[43m \u001b[49m\u001b[38;5;129;43;01min\u001b[39;49;00m\u001b[43m \u001b[49m\u001b[43miterable\u001b[49m\u001b[43m:\u001b[49m\n\u001b[32m   1182\u001b[39m \u001b[43m        \u001b[49m\u001b[38;5;28;43;01myield\u001b[39;49;00m\u001b[43m \u001b[49m\u001b[43mobj\u001b[49m\n\u001b[32m   1183\u001b[39m \u001b[43m        \u001b[49m\u001b[38;5;66;43;03m# Update and possibly print the progressbar.\u001b[39;49;00m\n\u001b[32m   1184\u001b[39m \u001b[43m        \u001b[49m\u001b[38;5;66;43;03m# Note: does not call self.update(1) for speed optimisation.\u001b[39;49;00m\n",
            "\u001b[36mFile \u001b[39m\u001b[32m~/git-repos/AIE7/09_Advanced_Retrieval/.venv/lib/python3.13/site-packages/langsmith/evaluation/_runner.py:1505\u001b[39m, in \u001b[36m_ExperimentManager.get_results\u001b[39m\u001b[34m(self)\u001b[39m\n\u001b[32m   1503\u001b[39m \u001b[38;5;28;01mdef\u001b[39;00m\u001b[38;5;250m \u001b[39m\u001b[34mget_results\u001b[39m(\u001b[38;5;28mself\u001b[39m) -> Iterable[ExperimentResultRow]:\n\u001b[32m   1504\u001b[39m \u001b[38;5;250m    \u001b[39m\u001b[33;03m\"\"\"Return the traces, evaluation results, and associated examples.\"\"\"\u001b[39;00m\n\u001b[32m-> \u001b[39m\u001b[32m1505\u001b[39m \u001b[43m    \u001b[49m\u001b[38;5;28;43;01mfor\u001b[39;49;00m\u001b[43m \u001b[49m\u001b[43mrun\u001b[49m\u001b[43m,\u001b[49m\u001b[43m \u001b[49m\u001b[43mexample\u001b[49m\u001b[43m,\u001b[49m\u001b[43m \u001b[49m\u001b[43mevaluation_results\u001b[49m\u001b[43m \u001b[49m\u001b[38;5;129;43;01min\u001b[39;49;00m\u001b[43m \u001b[49m\u001b[38;5;28;43mzip\u001b[39;49m\u001b[43m(\u001b[49m\n\u001b[32m   1506\u001b[39m \u001b[43m        \u001b[49m\u001b[38;5;28;43mself\u001b[39;49m\u001b[43m.\u001b[49m\u001b[43mruns\u001b[49m\u001b[43m,\u001b[49m\u001b[43m \u001b[49m\u001b[38;5;28;43mself\u001b[39;49m\u001b[43m.\u001b[49m\u001b[43mexamples\u001b[49m\u001b[43m,\u001b[49m\u001b[43m \u001b[49m\u001b[38;5;28;43mself\u001b[39;49m\u001b[43m.\u001b[49m\u001b[43mevaluation_results\u001b[49m\n\u001b[32m   1507\u001b[39m \u001b[43m    \u001b[49m\u001b[43m)\u001b[49m\u001b[43m:\u001b[49m\n\u001b[32m   1508\u001b[39m \u001b[43m        \u001b[49m\u001b[38;5;28;43;01myield\u001b[39;49;00m\u001b[43m \u001b[49m\u001b[43mExperimentResultRow\u001b[49m\u001b[43m(\u001b[49m\n\u001b[32m   1509\u001b[39m \u001b[43m            \u001b[49m\u001b[43mrun\u001b[49m\u001b[43m=\u001b[49m\u001b[43mrun\u001b[49m\u001b[43m,\u001b[49m\n\u001b[32m   1510\u001b[39m \u001b[43m            \u001b[49m\u001b[43mexample\u001b[49m\u001b[43m=\u001b[49m\u001b[43mexample\u001b[49m\u001b[43m,\u001b[49m\n\u001b[32m   1511\u001b[39m \u001b[43m            \u001b[49m\u001b[43mevaluation_results\u001b[49m\u001b[43m=\u001b[49m\u001b[43mevaluation_results\u001b[49m\u001b[43m,\u001b[49m\n\u001b[32m   1512\u001b[39m \u001b[43m        \u001b[49m\u001b[43m)\u001b[49m\n",
            "\u001b[36mFile \u001b[39m\u001b[32m~/git-repos/AIE7/09_Advanced_Retrieval/.venv/lib/python3.13/site-packages/langsmith/evaluation/_runner.py:1485\u001b[39m, in \u001b[36m<genexpr>\u001b[39m\u001b[34m(.0)\u001b[39m\n\u001b[32m   1480\u001b[39m \u001b[38;5;66;03m# Split the generator into three so the manager\u001b[39;00m\n\u001b[32m   1481\u001b[39m \u001b[38;5;66;03m# can consume each value individually.\u001b[39;00m\n\u001b[32m   1482\u001b[39m r1, r2, r3 = itertools.tee(experiment_results, \u001b[32m3\u001b[39m)\n\u001b[32m   1483\u001b[39m \u001b[38;5;28;01mreturn\u001b[39;00m \u001b[38;5;28mself\u001b[39m._copy(\n\u001b[32m   1484\u001b[39m     (result[\u001b[33m\"\u001b[39m\u001b[33mexample\u001b[39m\u001b[33m\"\u001b[39m] \u001b[38;5;28;01mfor\u001b[39;00m result \u001b[38;5;129;01min\u001b[39;00m r1),\n\u001b[32m-> \u001b[39m\u001b[32m1485\u001b[39m     runs=\u001b[43m(\u001b[49m\u001b[43mresult\u001b[49m\u001b[43m[\u001b[49m\u001b[33;43m\"\u001b[39;49m\u001b[33;43mrun\u001b[39;49m\u001b[33;43m\"\u001b[39;49m\u001b[43m]\u001b[49m\u001b[43m \u001b[49m\u001b[38;5;28;43;01mfor\u001b[39;49;00m\u001b[43m \u001b[49m\u001b[43mresult\u001b[49m\u001b[43m \u001b[49m\u001b[38;5;129;43;01min\u001b[39;49;00m\u001b[43m \u001b[49m\u001b[43mr2\u001b[49m\u001b[43m)\u001b[49m,\n\u001b[32m   1486\u001b[39m     evaluation_results=(result[\u001b[33m\"\u001b[39m\u001b[33mevaluation_results\u001b[39m\u001b[33m\"\u001b[39m] \u001b[38;5;28;01mfor\u001b[39;00m result \u001b[38;5;129;01min\u001b[39;00m r3),\n\u001b[32m   1487\u001b[39m )\n",
            "\u001b[36mFile \u001b[39m\u001b[32m~/git-repos/AIE7/09_Advanced_Retrieval/.venv/lib/python3.13/site-packages/langsmith/evaluation/_runner.py:1675\u001b[39m, in \u001b[36m_ExperimentManager._score\u001b[39m\u001b[34m(self, evaluators, max_concurrency)\u001b[39m\n\u001b[32m   1673\u001b[39m     context = copy_context()\n\u001b[32m   1674\u001b[39m     \u001b[38;5;28;01mfor\u001b[39;00m current_results \u001b[38;5;129;01min\u001b[39;00m \u001b[38;5;28mself\u001b[39m.get_results():\n\u001b[32m-> \u001b[39m\u001b[32m1675\u001b[39m         \u001b[38;5;28;01myield\u001b[39;00m \u001b[43mcontext\u001b[49m\u001b[43m.\u001b[49m\u001b[43mrun\u001b[49m\u001b[43m(\u001b[49m\n\u001b[32m   1676\u001b[39m \u001b[43m            \u001b[49m\u001b[38;5;28;43mself\u001b[39;49m\u001b[43m.\u001b[49m\u001b[43m_run_evaluators\u001b[49m\u001b[43m,\u001b[49m\n\u001b[32m   1677\u001b[39m \u001b[43m            \u001b[49m\u001b[43mevaluators\u001b[49m\u001b[43m,\u001b[49m\n\u001b[32m   1678\u001b[39m \u001b[43m            \u001b[49m\u001b[43mcurrent_results\u001b[49m\u001b[43m,\u001b[49m\n\u001b[32m   1679\u001b[39m \u001b[43m            \u001b[49m\u001b[43mexecutor\u001b[49m\u001b[43m,\u001b[49m\n\u001b[32m   1680\u001b[39m \u001b[43m        \u001b[49m\u001b[43m)\u001b[49m\n\u001b[32m   1681\u001b[39m \u001b[38;5;28;01melse\u001b[39;00m:\n\u001b[32m   1682\u001b[39m     futures = \u001b[38;5;28mset\u001b[39m()\n",
            "\u001b[36mFile \u001b[39m\u001b[32m~/git-repos/AIE7/09_Advanced_Retrieval/.venv/lib/python3.13/site-packages/langsmith/evaluation/_runner.py:1603\u001b[39m, in \u001b[36m_ExperimentManager._run_evaluators\u001b[39m\u001b[34m(self, evaluators, current_results, executor)\u001b[39m\n\u001b[32m   1601\u001b[39m evaluator_run_id = uuid.uuid4()\n\u001b[32m   1602\u001b[39m \u001b[38;5;28;01mtry\u001b[39;00m:\n\u001b[32m-> \u001b[39m\u001b[32m1603\u001b[39m     evaluator_response = \u001b[43mevaluator\u001b[49m\u001b[43m.\u001b[49m\u001b[43mevaluate_run\u001b[49m\u001b[43m(\u001b[49m\u001b[43m  \u001b[49m\u001b[38;5;66;43;03m# type: ignore[call-arg]\u001b[39;49;00m\n\u001b[32m   1604\u001b[39m \u001b[43m        \u001b[49m\u001b[43mrun\u001b[49m\u001b[43m=\u001b[49m\u001b[43mrun\u001b[49m\u001b[43m,\u001b[49m\n\u001b[32m   1605\u001b[39m \u001b[43m        \u001b[49m\u001b[43mexample\u001b[49m\u001b[43m=\u001b[49m\u001b[43mexample\u001b[49m\u001b[43m,\u001b[49m\n\u001b[32m   1606\u001b[39m \u001b[43m        \u001b[49m\u001b[43mevaluator_run_id\u001b[49m\u001b[43m=\u001b[49m\u001b[43mevaluator_run_id\u001b[49m\u001b[43m,\u001b[49m\n\u001b[32m   1607\u001b[39m \u001b[43m    \u001b[49m\u001b[43m)\u001b[49m\n\u001b[32m   1609\u001b[39m     eval_results[\u001b[33m\"\u001b[39m\u001b[33mresults\u001b[39m\u001b[33m\"\u001b[39m].extend(\n\u001b[32m   1610\u001b[39m         \u001b[38;5;28mself\u001b[39m.client._select_eval_results(evaluator_response)\n\u001b[32m   1611\u001b[39m     )\n\u001b[32m   1612\u001b[39m     \u001b[38;5;28;01mif\u001b[39;00m \u001b[38;5;28mself\u001b[39m._upload_results:\n\u001b[32m   1613\u001b[39m         \u001b[38;5;66;03m# TODO: This is a hack\u001b[39;00m\n",
            "\u001b[36mFile \u001b[39m\u001b[32m~/git-repos/AIE7/09_Advanced_Retrieval/.venv/lib/python3.13/site-packages/langsmith/evaluation/evaluator.py:351\u001b[39m, in \u001b[36mDynamicRunEvaluator.evaluate_run\u001b[39m\u001b[34m(self, run, example, evaluator_run_id)\u001b[39m\n\u001b[32m    349\u001b[39m \u001b[38;5;28;01mif\u001b[39;00m \u001b[38;5;28mgetattr\u001b[39m(run, \u001b[33m\"\u001b[39m\u001b[33msession_id\u001b[39m\u001b[33m\"\u001b[39m, \u001b[38;5;28;01mNone\u001b[39;00m):\n\u001b[32m    350\u001b[39m     metadata[\u001b[33m\"\u001b[39m\u001b[33mexperiment\u001b[39m\u001b[33m\"\u001b[39m] = \u001b[38;5;28mstr\u001b[39m(run.session_id)\n\u001b[32m--> \u001b[39m\u001b[32m351\u001b[39m result = \u001b[38;5;28;43mself\u001b[39;49m\u001b[43m.\u001b[49m\u001b[43mfunc\u001b[49m\u001b[43m(\u001b[49m\n\u001b[32m    352\u001b[39m \u001b[43m    \u001b[49m\u001b[43mrun\u001b[49m\u001b[43m,\u001b[49m\n\u001b[32m    353\u001b[39m \u001b[43m    \u001b[49m\u001b[43mexample\u001b[49m\u001b[43m,\u001b[49m\n\u001b[32m    354\u001b[39m \u001b[43m    \u001b[49m\u001b[43mlangsmith_extra\u001b[49m\u001b[43m=\u001b[49m\u001b[43m{\u001b[49m\u001b[33;43m\"\u001b[39;49m\u001b[33;43mrun_id\u001b[39;49m\u001b[33;43m\"\u001b[39;49m\u001b[43m:\u001b[49m\u001b[43m \u001b[49m\u001b[43mevaluator_run_id\u001b[49m\u001b[43m,\u001b[49m\u001b[43m \u001b[49m\u001b[33;43m\"\u001b[39;49m\u001b[33;43mmetadata\u001b[39;49m\u001b[33;43m\"\u001b[39;49m\u001b[43m:\u001b[49m\u001b[43m \u001b[49m\u001b[43mmetadata\u001b[49m\u001b[43m}\u001b[49m\u001b[43m,\u001b[49m\n\u001b[32m    355\u001b[39m \u001b[43m\u001b[49m\u001b[43m)\u001b[49m\n\u001b[32m    356\u001b[39m \u001b[38;5;28;01mreturn\u001b[39;00m \u001b[38;5;28mself\u001b[39m._format_result(result, evaluator_run_id)\n",
            "\u001b[36mFile \u001b[39m\u001b[32m~/git-repos/AIE7/09_Advanced_Retrieval/.venv/lib/python3.13/site-packages/langsmith/evaluation/evaluator.py:777\u001b[39m, in \u001b[36m_normalize_evaluator_func.<locals>.wrapper\u001b[39m\u001b[34m(run, example)\u001b[39m\n\u001b[32m    775\u001b[39m \u001b[38;5;28;01mdef\u001b[39;00m\u001b[38;5;250m \u001b[39m\u001b[34mwrapper\u001b[39m(run: Run, example: Optional[Example]) -> _RUNNABLE_OUTPUT:\n\u001b[32m    776\u001b[39m     (args, kwargs, _) = _prepare_inputs(run, example)\n\u001b[32m--> \u001b[39m\u001b[32m777\u001b[39m     \u001b[38;5;28;01mreturn\u001b[39;00m \u001b[43mfunc\u001b[49m\u001b[43m(\u001b[49m\u001b[43m*\u001b[49m\u001b[43margs\u001b[49m\u001b[43m,\u001b[49m\u001b[43m \u001b[49m\u001b[43m*\u001b[49m\u001b[43m*\u001b[49m\u001b[43mkwargs\u001b[49m\u001b[43m)\u001b[49m\n",
            "\u001b[36mCell\u001b[39m\u001b[36m \u001b[39m\u001b[32mIn[166]\u001b[39m\u001b[32m, line 140\u001b[39m, in \u001b[36mMetricFactory.create_evaluator.<locals>.evaluation_function\u001b[39m\u001b[34m(inputs, outputs, reference_outputs)\u001b[39m\n\u001b[32m    138\u001b[39m \u001b[38;5;66;03m# Create and use the metric with any additional kwargs\u001b[39;00m\n\u001b[32m    139\u001b[39m scorer = metric_class(llm=\u001b[38;5;28mself\u001b[39m.llm, **metric_kwargs)\n\u001b[32m--> \u001b[39m\u001b[32m140\u001b[39m \u001b[38;5;28;01mreturn\u001b[39;00m \u001b[43mscorer\u001b[49m\u001b[43m.\u001b[49m\u001b[43msingle_turn_score\u001b[49m\u001b[43m(\u001b[49m\u001b[43msample\u001b[49m\u001b[43m)\u001b[49m\n",
            "\u001b[36mFile \u001b[39m\u001b[32m~/git-repos/AIE7/09_Advanced_Retrieval/.venv/lib/python3.13/site-packages/ragas/metrics/base.py:452\u001b[39m, in \u001b[36mSingleTurnMetric.single_turn_score\u001b[39m\u001b[34m(self, sample, callbacks)\u001b[39m\n\u001b[32m    448\u001b[39m             \u001b[38;5;28;01mraise\u001b[39;00m \u001b[38;5;167;01mImportError\u001b[39;00m(\n\u001b[32m    449\u001b[39m                 \u001b[33m\"\u001b[39m\u001b[33mIt seems like your running this in a jupyter-like environment. Please install nest_asyncio with `pip install nest_asyncio` to make it work.\u001b[39m\u001b[33m\"\u001b[39m\n\u001b[32m    450\u001b[39m             )\n\u001b[32m    451\u001b[39m     loop = asyncio.get_event_loop()\n\u001b[32m--> \u001b[39m\u001b[32m452\u001b[39m     score = \u001b[43mloop\u001b[49m\u001b[43m.\u001b[49m\u001b[43mrun_until_complete\u001b[49m\u001b[43m(\u001b[49m\n\u001b[32m    453\u001b[39m \u001b[43m        \u001b[49m\u001b[38;5;28;43mself\u001b[39;49m\u001b[43m.\u001b[49m\u001b[43m_single_turn_ascore\u001b[49m\u001b[43m(\u001b[49m\u001b[43msample\u001b[49m\u001b[43m=\u001b[49m\u001b[43msample\u001b[49m\u001b[43m,\u001b[49m\u001b[43m \u001b[49m\u001b[43mcallbacks\u001b[49m\u001b[43m=\u001b[49m\u001b[43mgroup_cm\u001b[49m\u001b[43m)\u001b[49m\n\u001b[32m    454\u001b[39m \u001b[43m    \u001b[49m\u001b[43m)\u001b[49m\n\u001b[32m    455\u001b[39m \u001b[38;5;28;01mexcept\u001b[39;00m \u001b[38;5;167;01mException\u001b[39;00m \u001b[38;5;28;01mas\u001b[39;00m e:\n\u001b[32m    456\u001b[39m     \u001b[38;5;28;01mif\u001b[39;00m \u001b[38;5;129;01mnot\u001b[39;00m group_cm.ended:\n",
            "\u001b[36mFile \u001b[39m\u001b[32m~/git-repos/AIE7/09_Advanced_Retrieval/.venv/lib/python3.13/site-packages/nest_asyncio.py:92\u001b[39m, in \u001b[36m_patch_loop.<locals>.run_until_complete\u001b[39m\u001b[34m(self, future)\u001b[39m\n\u001b[32m     90\u001b[39m     f._log_destroy_pending = \u001b[38;5;28;01mFalse\u001b[39;00m\n\u001b[32m     91\u001b[39m \u001b[38;5;28;01mwhile\u001b[39;00m \u001b[38;5;129;01mnot\u001b[39;00m f.done():\n\u001b[32m---> \u001b[39m\u001b[32m92\u001b[39m     \u001b[38;5;28;43mself\u001b[39;49m\u001b[43m.\u001b[49m\u001b[43m_run_once\u001b[49m\u001b[43m(\u001b[49m\u001b[43m)\u001b[49m\n\u001b[32m     93\u001b[39m     \u001b[38;5;28;01mif\u001b[39;00m \u001b[38;5;28mself\u001b[39m._stopping:\n\u001b[32m     94\u001b[39m         \u001b[38;5;28;01mbreak\u001b[39;00m\n",
            "\u001b[36mFile \u001b[39m\u001b[32m~/git-repos/AIE7/09_Advanced_Retrieval/.venv/lib/python3.13/site-packages/nest_asyncio.py:115\u001b[39m, in \u001b[36m_patch_loop.<locals>._run_once\u001b[39m\u001b[34m(self)\u001b[39m\n\u001b[32m    108\u001b[39m     heappop(scheduled)\n\u001b[32m    110\u001b[39m timeout = (\n\u001b[32m    111\u001b[39m     \u001b[32m0\u001b[39m \u001b[38;5;28;01mif\u001b[39;00m ready \u001b[38;5;129;01mor\u001b[39;00m \u001b[38;5;28mself\u001b[39m._stopping\n\u001b[32m    112\u001b[39m     \u001b[38;5;28;01melse\u001b[39;00m \u001b[38;5;28mmin\u001b[39m(\u001b[38;5;28mmax\u001b[39m(\n\u001b[32m    113\u001b[39m         scheduled[\u001b[32m0\u001b[39m]._when - \u001b[38;5;28mself\u001b[39m.time(), \u001b[32m0\u001b[39m), \u001b[32m86400\u001b[39m) \u001b[38;5;28;01mif\u001b[39;00m scheduled\n\u001b[32m    114\u001b[39m     \u001b[38;5;28;01melse\u001b[39;00m \u001b[38;5;28;01mNone\u001b[39;00m)\n\u001b[32m--> \u001b[39m\u001b[32m115\u001b[39m event_list = \u001b[38;5;28;43mself\u001b[39;49m\u001b[43m.\u001b[49m\u001b[43m_selector\u001b[49m\u001b[43m.\u001b[49m\u001b[43mselect\u001b[49m\u001b[43m(\u001b[49m\u001b[43mtimeout\u001b[49m\u001b[43m)\u001b[49m\n\u001b[32m    116\u001b[39m \u001b[38;5;28mself\u001b[39m._process_events(event_list)\n\u001b[32m    118\u001b[39m end_time = \u001b[38;5;28mself\u001b[39m.time() + \u001b[38;5;28mself\u001b[39m._clock_resolution\n",
            "\u001b[36mFile \u001b[39m\u001b[32m~/.local/share/uv/python/cpython-3.13.3-macos-aarch64-none/lib/python3.13/selectors.py:548\u001b[39m, in \u001b[36mKqueueSelector.select\u001b[39m\u001b[34m(self, timeout)\u001b[39m\n\u001b[32m    546\u001b[39m ready = []\n\u001b[32m    547\u001b[39m \u001b[38;5;28;01mtry\u001b[39;00m:\n\u001b[32m--> \u001b[39m\u001b[32m548\u001b[39m     kev_list = \u001b[38;5;28;43mself\u001b[39;49m\u001b[43m.\u001b[49m\u001b[43m_selector\u001b[49m\u001b[43m.\u001b[49m\u001b[43mcontrol\u001b[49m\u001b[43m(\u001b[49m\u001b[38;5;28;43;01mNone\u001b[39;49;00m\u001b[43m,\u001b[49m\u001b[43m \u001b[49m\u001b[43mmax_ev\u001b[49m\u001b[43m,\u001b[49m\u001b[43m \u001b[49m\u001b[43mtimeout\u001b[49m\u001b[43m)\u001b[49m\n\u001b[32m    549\u001b[39m \u001b[38;5;28;01mexcept\u001b[39;00m \u001b[38;5;167;01mInterruptedError\u001b[39;00m:\n\u001b[32m    550\u001b[39m     \u001b[38;5;28;01mreturn\u001b[39;00m ready\n",
            "\u001b[31mKeyboardInterrupt\u001b[39m: "
          ]
        }
      ],
      "source": [
        "from tqdm import tqdm\n",
        "\n",
        "for invocable_name, invocable in tqdm(invocables.items()):\n",
        "  print(\"Beginning evaluation of\", invocable_name)\n",
        "  result = run_eval(invocable, invocable_name, dataset_name)\n",
        "  print(result)\n",
        "  print(\"Evaluation complete\")"
      ]
    },
    {
      "cell_type": "code",
      "execution_count": null,
      "metadata": {},
      "outputs": [],
      "source": []
    },
    {
      "cell_type": "code",
      "execution_count": null,
      "metadata": {},
      "outputs": [],
      "source": [
        "from ragas import EvaluationDataset\n",
        "from ragas import evaluate\n",
        "from ragas.llms import LangchainLLMWrapper\n",
        "from ragas.metrics import LLMContextRecall, Faithfulness, FactualCorrectness, ResponseRelevancy, ContextEntityRecall, NoiseSensitivity\n",
        "from ragas import evaluate, RunConfig\n",
        "import copy\n",
        "\n",
        "def run_eval_ragas(invocable, dataset):\n",
        "\n",
        "  dataset_this = copy.deepcopy(dataset)\n",
        "\n",
        "  for test_row in dataset_this:\n",
        "    response = invocable.invoke({\"question\" : test_row.eval_sample.user_input})\n",
        "    test_row.eval_sample.response = response[\"response\"].content\n",
        "    test_row.eval_sample.retrieved_contexts = [context.page_content for context in response[\"context\"]]\n",
        "\n",
        "  evaluation_dataset = EvaluationDataset.from_pandas(dataset_this.to_pandas())\n",
        "  evaluator_llm = LangchainLLMWrapper(ChatOpenAI(model=\"gpt-4.1-mini\"))\n",
        "\n",
        "  custom_run_config = RunConfig(timeout=360)\n",
        "  result = evaluate(\n",
        "      dataset=evaluation_dataset,\n",
        "      metrics=[LLMContextRecall(), Faithfulness(), FactualCorrectness(), ResponseRelevancy(), ContextEntityRecall(), NoiseSensitivity()],\n",
        "      llm=evaluator_llm,\n",
        "      run_config=custom_run_config\n",
        "  )\n",
        "  return result"
      ]
    }
  ],
  "metadata": {
    "colab": {
      "provenance": [],
      "toc_visible": true
    },
    "kernelspec": {
      "display_name": ".venv",
      "language": "python",
      "name": "python3"
    },
    "language_info": {
      "codemirror_mode": {
        "name": "ipython",
        "version": 3
      },
      "file_extension": ".py",
      "mimetype": "text/x-python",
      "name": "python",
      "nbconvert_exporter": "python",
      "pygments_lexer": "ipython3",
      "version": "3.13.3"
    }
  },
  "nbformat": 4,
  "nbformat_minor": 0
}
